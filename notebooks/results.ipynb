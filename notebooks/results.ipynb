{
 "cells": [
  {
   "cell_type": "code",
   "execution_count": 1,
   "id": "9311a325-b499-476c-b721-7c29b7659619",
   "metadata": {},
   "outputs": [],
   "source": [
    "import badseeds"
   ]
  },
  {
   "cell_type": "code",
   "execution_count": null,
   "id": "061bd7e1-87e3-4cc1-80df-e0ffa21a2d17",
   "metadata": {},
   "outputs": [],
   "source": [
    "badseeds"
   ]
  }
 ],
 "metadata": {
  "kernelspec": {
   "display_name": "Python 3 (ipykernel)",
   "language": "python",
   "name": "python3"
  },
  "language_info": {
   "codemirror_mode": {
    "name": "ipython",
    "version": 3
   },
   "file_extension": ".py",
   "mimetype": "text/x-python",
   "name": "python",
   "nbconvert_exporter": "python",
   "pygments_lexer": "ipython3",
   "version": "3.9.7"
  }
 },
 "nbformat": 4,
 "nbformat_minor": 5
}
