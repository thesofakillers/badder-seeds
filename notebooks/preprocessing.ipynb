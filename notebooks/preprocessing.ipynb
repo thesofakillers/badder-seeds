{
 "cells": [
  {
   "cell_type": "code",
   "execution_count": 1,
   "id": "80e756f1-d243-422c-94de-8ca1ea0604a9",
   "metadata": {},
   "outputs": [],
   "source": [
    "import pickle"
   ]
  },
  {
   "cell_type": "code",
   "execution_count": 2,
   "id": "66d80460-a2dc-44a3-81a5-bac79dad7468",
   "metadata": {},
   "outputs": [],
   "source": [
    "import re"
   ]
  },
  {
   "cell_type": "code",
   "execution_count": 3,
   "id": "c21f0c02-a91d-4fc5-9ba4-0c35e9ddf81c",
   "metadata": {},
   "outputs": [],
   "source": [
    "import nltk\n",
    "\n",
    "try:\n",
    "    nltk.data.find(\"tokenizers/punkt\")\n",
    "except LookupError:\n",
    "    nltk.download(\"punkt\")"
   ]
  },
  {
   "cell_type": "code",
   "execution_count": 4,
   "id": "7e8ee2f7-913c-4338-aed8-f69a0181b41b",
   "metadata": {},
   "outputs": [],
   "source": [
    "import spacy\n",
    "\n",
    "nlp = spacy.load(\n",
    "    \"en_core_web_sm\", disable=[\"ner\", \"lemmatizer\", \"parser\", \"attribute_ruler\"]\n",
    ")"
   ]
  },
  {
   "cell_type": "code",
   "execution_count": 5,
   "id": "dd30cd21-75a2-4d66-b7df-bb884ac93046",
   "metadata": {},
   "outputs": [
    {
     "name": "stdout",
     "output_type": "stream",
     "text": [
      "['tok2vec', 'tagger']\n"
     ]
    }
   ],
   "source": [
    "print(nlp.pipe_names)"
   ]
  },
  {
   "cell_type": "code",
   "execution_count": 6,
   "id": "0b6a5a36-30a4-417d-b31e-17139b9e1a67",
   "metadata": {},
   "outputs": [],
   "source": [
    "from tqdm import tqdm"
   ]
  },
  {
   "cell_type": "code",
   "execution_count": 7,
   "id": "2df0b04a-970a-4fea-96d3-ee5ba98951df",
   "metadata": {},
   "outputs": [],
   "source": [
    "with open(\"../data/WikiText103/wikitext-103/wiki.train.tokens\", \"r\") as f:\n",
    "    lines = f.readlines()"
   ]
  },
  {
   "cell_type": "code",
   "execution_count": 8,
   "id": "b163cc5f-818d-48f2-b3c9-edaa6161c183",
   "metadata": {},
   "outputs": [],
   "source": [
    "title_regex = re.compile(\" = .* = \\n\")\n",
    "subtitle_regex = re.compile(\" = = .* = = \\n\")\n",
    "new_line_regex = re.compile(\" \\n\")"
   ]
  },
  {
   "cell_type": "code",
   "execution_count": 9,
   "id": "f72c5291-bc0f-4a17-aa19-d934bc73954c",
   "metadata": {},
   "outputs": [],
   "source": [
    "doc_idxs = [\n",
    "    idx\n",
    "    for idx, (prev_line, cur_line, next_line) in enumerate(\n",
    "        zip(lines[:-1], lines[1:], lines[2:]), 1\n",
    "    )\n",
    "    if new_line_regex.match(prev_line)\n",
    "    and new_line_regex.match(next_line)\n",
    "    and title_regex.match(cur_line)\n",
    "    and not subtitle_regex.match(cur_line)\n",
    "] + [len(lines) - 1]"
   ]
  },
  {
   "cell_type": "code",
   "execution_count": 10,
   "id": "ad111519-ede2-405a-b917-afbc6ce517f2",
   "metadata": {},
   "outputs": [],
   "source": [
    "documents = [\n",
    "    \"\".join(lines[start_idx:end_idx]).replace(\"\\n\", \"\").strip().lower()\n",
    "    for start_idx, end_idx in zip(doc_idxs, doc_idxs[1:])\n",
    "]"
   ]
  },
  {
   "cell_type": "code",
   "execution_count": 21,
   "id": "38076979-6bbf-45a1-8274-3c4fa3d18655",
   "metadata": {},
   "outputs": [
    {
     "data": {
      "text/plain": [
       "28472"
      ]
     },
     "execution_count": 21,
     "metadata": {},
     "output_type": "execute_result"
    }
   ],
   "source": [
    "len(documents)"
   ]
  },
  {
   "cell_type": "markdown",
   "id": "bd2a629c-cbdf-4950-a40e-1c734d95755d",
   "metadata": {},
   "source": [
    "## spacy stuff starts here"
   ]
  },
  {
   "cell_type": "code",
   "execution_count": 11,
   "id": "3f6effd3-83e2-4fc2-a5b9-c9361c02e0a1",
   "metadata": {},
   "outputs": [],
   "source": [
    "from spacy.tokens import DocBin"
   ]
  },
  {
   "cell_type": "code",
   "execution_count": 12,
   "id": "cb18bc74-43bf-487f-a867-931e3e2e9bb0",
   "metadata": {},
   "outputs": [],
   "source": [
    "doc_bin = DocBin(attrs=[\"TAG\"])"
   ]
  },
  {
   "cell_type": "code",
   "execution_count": 13,
   "id": "929c76db-f7bf-4be5-939c-354fe9709455",
   "metadata": {},
   "outputs": [
    {
     "name": "stderr",
     "output_type": "stream",
     "text": [
      "100%|████████████████████| 100/100 [00:30<00:00,  3.24it/s]\n"
     ]
    }
   ],
   "source": [
    "# for demonstration purposes, im only doing this for 100 docs, to save time\n",
    "for doc in tqdm(\n",
    "    nlp.pipe(\n",
    "        documents[:100], disable=[\"ner\", \"lemmatizer\", \"parser\", \"attribute_ruler\"]\n",
    "    ),\n",
    "    total=len(documents[:100]),\n",
    "):\n",
    "    doc_bin.add(doc)"
   ]
  },
  {
   "cell_type": "code",
   "execution_count": 14,
   "id": "c2af9fb0-faa7-4c88-934c-7f324a8462d7",
   "metadata": {},
   "outputs": [],
   "source": [
    "bytes_data = doc_bin.to_bytes()"
   ]
  },
  {
   "cell_type": "markdown",
   "id": "7cb41f90-ed95-4e9d-a456-faec7ecfb8c2",
   "metadata": {},
   "source": [
    "### this is how you would save to disk"
   ]
  },
  {
   "cell_type": "code",
   "execution_count": 15,
   "id": "05a2a31f-8945-4e9e-9609-606c958a2146",
   "metadata": {},
   "outputs": [],
   "source": [
    "with open(\"test.bin\", \"wb\") as f:\n",
    "    f.write(bytes_data)"
   ]
  },
  {
   "cell_type": "markdown",
   "id": "ced1afa8-553f-4665-9547-52d4dd6722b9",
   "metadata": {},
   "source": [
    "### pretend this is a new process, where you are reading from disk\n",
    "\n",
    "and want to restore your docs"
   ]
  },
  {
   "cell_type": "code",
   "execution_count": 16,
   "id": "868e18aa-1ae1-4836-893d-10426b9b708c",
   "metadata": {},
   "outputs": [],
   "source": [
    "# read from disk\n",
    "with open(\"test.bin\", \"rb\") as nf:\n",
    "    disk_bytes_data = nf.read()"
   ]
  },
  {
   "cell_type": "code",
   "execution_count": 17,
   "id": "0265f13e-04f0-4eab-8f8c-81a65742f351",
   "metadata": {},
   "outputs": [],
   "source": [
    "# parse spacy bytes\n",
    "new_doc_bin = DocBin().from_bytes(disk_bytes_data)"
   ]
  },
  {
   "cell_type": "code",
   "execution_count": 18,
   "id": "fd23816c-0dd9-430c-9a61-c5912087ebe3",
   "metadata": {},
   "outputs": [],
   "source": [
    "# you need to load the language again for the vocab i think\n",
    "new_nlp = spacy.load(\n",
    "    \"en_core_web_sm\", disable=[\"ner\", \"lemmatizer\", \"parser\", \"attribute_ruler\"]\n",
    ")"
   ]
  },
  {
   "cell_type": "code",
   "execution_count": 19,
   "id": "213a23a3-310e-4436-92d3-b6e0e5046403",
   "metadata": {},
   "outputs": [],
   "source": [
    "# can finally recover your docs\n",
    "docs = list(new_doc_bin.get_docs(new_nlp.vocab))"
   ]
  },
  {
   "cell_type": "code",
   "execution_count": 20,
   "id": "080a23c3-ea3a-4ba2-a176-8d7439fc6c2e",
   "metadata": {},
   "outputs": [
    {
     "data": {
      "text/plain": [
       "= valkyria chronicles iii =   senjō no valkyria 3 : <unk> chronicles ( japanese : 戦場のヴァルキュリア3 , lit . valkyria of the battlefield 3 ) , commonly referred to as valkyria chronicles iii outside japan , is a tactical role @-@ playing video game developed by sega and media.vision for the playstation portable . released in january 2011 in japan , it is the third game in the valkyria series . employing the same fusion of tactical and real @-@ time gameplay as its predecessors , the story runs parallel to the first game and follows the \" nameless \" , a penal military unit serving the nation of gallia during the second europan war who perform secret black operations and are pitted against the imperial unit \" <unk> raven \" .  the game began development in 2010 , carrying over a large portion of the work done on valkyria chronicles ii . while it retained the standard features of the series , it also underwent multiple adjustments , such as making the game more forgiving for series newcomers . character designer <unk> honjou and composer hitoshi sakimoto both returned from previous entries , along with valkyria chronicles ii director takeshi ozawa . a large team of writers handled the script . the game 's opening theme was sung by may 'n .  it met with positive sales in japan , and was praised by both japanese and western critics . after release , it received downloadable content , along with an expanded edition in november of that year . it was also adapted into manga and an original video animation series . due to low sales of valkyria chronicles ii , valkyria chronicles iii was not localized , but a fan translation compatible with the game 's expanded edition was released in 2014 . media.vision would return to the franchise with the development of valkyria : azure revolution for the playstation 4 .   = = gameplay = =   as with previous <unk> chronicles games , valkyria chronicles iii is a tactical role @-@ playing game where players take control of a military unit and take part in missions against enemy forces . stories are told through comic book @-@ like panels with animated character portraits , with characters speaking partially through voiced speech bubbles and partially through unvoiced text . the player progresses through a series of linear missions , gradually unlocked as maps that can be freely scanned through and replayed as they are unlocked . the route to each story location on the map varies depending on an individual player 's approach : when one option is selected , the other is sealed off to the player . outside missions , the player characters rest in a camp , where units can be customized and character growth occurs . alongside the main story missions are character @-@ specific sub missions relating to different squad members . after the game 's completion , additional episodes are unlocked , some of them having a higher difficulty than those found in the rest of the game . there are also love simulation elements related to the game 's two main heroines , although they take a very minor role .  the game 's battle system , the <unk> system , is carried over directly from <unk> chronicles . during missions , players select each unit using a top @-@ down perspective of the battlefield map : once a character is selected , the player moves the character around the battlefield in third @-@ person . a character can only act once per @-@ turn , but characters can be granted multiple turns at the expense of other characters ' turns . each character has a field and distance of movement limited by their action gauge . up to nine characters can be assigned to a single mission . during gameplay , characters will call out if something happens to them , such as their health points ( hp ) getting low or being knocked out by enemy attacks . each character has specific \" potentials \" , skills unique to each character . they are divided into \" personal potential \" , which are innate skills that remain unaltered unless otherwise dictated by the story and can either help or impede a character , and \" battle potentials \" , which are grown throughout the game and always grant boons to a character . to learn battle potentials , each character has a unique \" masters table \" , a grid @-@ based skill table that can be used to acquire and link different skills . characters also have special abilities that grant them temporary boosts on the battlefield : kurt can activate \" direct command \" and move around the battlefield without depleting his action point gauge , the character <unk> can shift into her \" valkyria form \" and become invincible , while imca can target multiple enemy units with her heavy weapon .  troops are divided into five classes : scouts , <unk> , engineers , lancers and armored soldier . troopers can switch classes by changing their assigned weapon . changing class does not greatly affect the stats gained while in a previous class . with victory in battle , experience points are awarded to the squad , which are distributed into five different attributes shared by the entire squad , a feature differing from early games ' method of distributing to different unit types .   = = plot = =   the game takes place during the second europan war . gallian army squad 422 , also known as \" the nameless \" , are a penal military unit composed of criminals , foreign deserters , and military offenders whose real names are erased from the records and thereon officially referred to by numbers . ordered by the gallian military to perform the most dangerous missions that the regular army and militia will not do , they are nevertheless up to the task , exemplified by their motto , <unk> <unk> , meaning \" always ready . \" the three main characters are no.7 kurt irving , an army officer falsely accused of treason who wishes to redeem himself ; ace no.1 imca , a female darcsen heavy weapons specialist who seeks revenge against the valkyria who destroyed her home ; and no.13 riela <unk> , a seemingly jinxed young woman who is unknowingly a descendant of the valkyria . together with their fellow squad members , these three are tasked to fight against a mysterious imperial unit known as calamity raven , consisting of mostly darcsen soldiers .  as the nameless officially do not exist , the upper echelons of the gallian army exploit the concept of plausible deniability in order to send them on missions that would otherwise make gallia lose face in the war . while at times this works to their advantage , such as a successful incursion into imperial territory , other orders cause certain members of the 422nd great distress . one such member , <unk> , becomes so enraged that he abandons his post and defects into the ranks of calamity raven , attached to the ideal of darcsen independence proposed by their leader , dahau . at the same time , elements within gallian army command move to erase the nameless in order to protect their own interests . hounded by both allies and enemies , and combined with the presence of a traitor within their ranks , the 422nd desperately move to keep themselves alive while at the same time fight to help the gallian war effort . this continues until the nameless 's commanding officer , ramsey crowe , who had been kept under house arrest , is escorted to the capital city of <unk> in order to present evidence exonerating the weary soldiers and expose the real traitor , the gallian general that had accused kurt of treason .  partly due to these events , and partly due to the major losses in manpower gallia suffers towards the end of the war with the empire , the nameless are offered a formal position as a squad in the gallian army rather than serve as an anonymous shadow force . this is short @-@ lived , however , as following maximilian 's defeat , dahau and calamity raven move to activate an ancient <unk> super weapon within the empire , kept secret by their benefactor . without the support of maximilian or the chance to prove themselves in the war with gallia , it is dahau 's last trump card in creating a new darcsen nation . as an armed gallian force invading the empire just following the two nations ' cease @-@ fire would certainly wreck their newfound peace , kurt decides to once again make his squad the nameless , asking crowe to list himself and all under his command as killed @-@ in @-@ action . now owing allegiance to none other than themselves , the 422nd confronts dahau and destroys the <unk> weapon . each member then goes their separate ways in order to begin their lives anew .   = = development = =   concept work for valkyria chronicles iii began after development finished on valkyria chronicles ii in early 2010 , with full development beginning shortly after this . the director of valkyria chronicles ii , takeshi ozawa , returned to that role for valkyria chronicles iii . development work took approximately one year . after the release of valkyria chronicles ii , the staff took a look at both the popular response for the game and what they wanted to do next for the series . like its predecessor , valkyria chronicles iii was developed for playstation portable : this was due to the team wanting to refine the mechanics created for valkyria chronicles ii , and they had not come up with the \" revolutionary \" idea that would warrant a new entry for the playstation 3 . speaking in an interview , it was stated that the development team considered valkyria chronicles iii to be the series ' first true sequel : while valkyria chronicles ii had required a large amount of trial and error during development due to the platform move , the third game gave them a chance to improve upon the best parts of valkyria chronicles ii due to being on the same platform . in addition to sega staff from the previous games , development work was also handled by <unk> the original scenario was written kazuki yamanobe , while the script was written by hiroyuki fujii , koichi majima , <unk> miyagi , seiki <unk> and takayuki <unk> . its story was darker and more somber than that of its predecessor .  the majority of material created for previous games , such as the <unk> system and the design of maps , was carried over . alongside this , improvements were made to the game 's graphics and some elements were expanded , such as map layouts , mission structure , and the number of playable units per mission . a part of this upgrade involved creating unique polygon models for each character 's body . in order to achieve this , the cooperative elements incorporated into the second game were removed , as they took up a large portion of memory space needed for the improvements . they also adjusted the difficulty settings and ease of play so they could appeal to new players while retaining the essential components of the series ' gameplay . the newer systems were decided upon early in development . the character designs were done by <unk> honjou , who had worked on the previous valkyria chronicles games . when creating the nameless squad , honjou was faced with the same problem he had had during the first game : the military uniforms essentially destroyed character individuality , despite him needing to create unique characters the player could identify while maintaining a sense of reality within the valkyria chronicles world . the main color of the nameless was black . as with the previous valkyria games , valkyria chronicles iii used the <unk> graphics engine . the anime opening was produced by production i.g.   = = = music = = =   the music was composed by hitoshi sakimoto , who had also worked on the previous valkyria chronicles games . when he originally heard about the project , he thought it would be a light tone similar to other valkyria chronicles games , but found the themes much darker than expected . an early theme he designed around his original vision of the project was rejected . he <unk> the main theme about seven times through the music production due to this need to reassess the game . the main theme was initially recorded using orchestra , then sakimoto removed elements such as the guitar and bass , then adjusted the theme using a synthesizer before redoing segments such as the guitar piece on their own before incorporating them into the theme . the rejected main theme was used as a hopeful tune that played during the game 's ending . the battle themes were designed around the concept of a \" modern battle \" divorced from a fantasy scenario by using modern musical instruments , constructed to create a sense of atonality . while sakimoto was most used to working with synthesized music , he felt that he needed to incorporate live instruments such as orchestra and guitar . the guitar was played by mitsuhiro ohta , who also arranged several of the later tracks . the game 's opening theme song , \" if you wish for ... \" ( <unk> , <unk> kimi ga <unk> nara ) , was sung by japanese singer may 'n . its theme was the reason soldiers fought , in particular their wish to protect what was precious to them rather than a sense of responsibility or duty . its lyrics were written by seiko fujibayashi , who had worked on may 'n on previous singles .   = = = release = = =   in september 2010 , a teaser website was revealed by sega , hinting at a new valkyria chronicles game . in its september issue , famitsu listed that senjō no valkyria 3 would be arriving on the playstation portable . its first public appearance was at the 2010 tokyo game show ( tgs ) , where a demo was made available for journalists and attendees . during the publicity , story details were kept scant so as not to spoil too much for potential players , along with some of its content still being in flux at the time of its reveal . to promote the game and detail the story leading into the game 's events , an episodic flash visual novel written by fujii began release in january 2011 . the game was released january 27 , 2011 . during an interview , the development team said that the game had the capacity for downloadable content ( dlc ) , but that no plans were finalized . multiple dlc maps , featuring additional missions and recruitable characters , were released between february and april 2011 . an expanded edition of the game , valkyria chronicles iii extra edition , released on november 23 , 2011 . packaged and sold at a lower price than the original , extra edition game with seven additional episodes : three new , three chosen by staff from the game 's dlc , and one made available as a pre @-@ order bonus . people who also owned the original game could transfer their save data between versions .  unlike its two predecessors , valkyria chronicles iii was not released in the west . according to sega , this was due to poor sales of valkyria chronicles ii and the general unpopularity of the psp in the west . an unofficial fan translation patch began development in february 2012 : players with a copy of valkyria chronicles iii could download and apply the patch , which translated the game 's text into english . compatible with the extra edition , the patch was released in january 2014 .   = = reception = =   on its day of release in japan , valkyria chronicles iii topped both platform @-@ exclusive and multi @-@ platform sales charts . by early february , the game sold 102 @,@ 779 units , coming in second overall to the last story for the wii . by the end of the year , the game had sold just over 152 @,@ 500 units .  famitsu enjoyed the story , and were particularly pleased with the improvements to gameplay . japanese gaming site game watch impress , despite negatively noting its pacing and elements recycled from previous games , was generally positive about its story and characters , and found its gameplay entertaining despite off @-@ putting difficulty spikes . 4gamer.net writer naohiko <unk> , in a \" play test \" article based on the game 's psn demo , felt that valkyria chronicles iii provided a \" profound feeling of closure \" for the valkyria chronicles series . he praised its gameplay despite annoying limitations to aspects such as special abilities , and positively noted its shift in story to a tone similar to the first game .  playstation official magazine - uk praised the story 's blurring of gallia 's moral standing , art style , and most points about its gameplay , positively noting the latter for both its continued quality and the tweaks to balance and content . its one major criticism were multiple difficulty spikes , something that had affected the previous games . heath hindman of gaming website playstation lifestyle praised the addition of non @-@ linear elements and improvements or removal of mechanics from valkyria chronicles ii in addition to praising the returning gameplay style of previous games . he also positively noted the story 's serious tone . points criticized in the review were recycled elements , awkward cutscenes that seemed to include all characters in a scene for no good reason , pacing issues , and occasional problems with the game 's ai .  in a preview of the tgs demo , ryan geddes of ign was left excited as to where the game would go after completing the demo , along with enjoying the improved visuals over valkyria chronicles ii . kotaku 's richard eisenbeis was highly positive about the game , citing is story as a return to form after valkyria chronicles ii and its gameplay being the best in the series . his main criticisms were its length and gameplay repetition , along with expressing regret that it would not be localized .   = = legacy = =   kurt and riela were featured in the nintendo 3ds crossover project x zone , representing the valkyria series . media.vision would return to the series to develop valkyria : azure revolution , with ozawa returning as director . azure revolution is a role @-@ playing video game for the playstation 4 that forms the beginning of a new series within the valkyria franchise .   = = = adaptations = = =   valkyria chronicles 3 was adapted into a two @-@ episode original video animation series in the same year of its release . titled senjō no valkyria 3 : taga tame no <unk> ( <unk> <unk> , lit . valkyria of the battlefield 3 : the wound taken for someone 's sake ) , it was originally released through playstation network and <unk> between april and may 2011 . the initially @-@ planned release and availability period needed to be extended due to a stoppage to psn during the early summer of that year . it later released for dvd on june 29 and august 31 , 2011 , with separate \" black \" and \" blue \" editions being available for purchase . the anime is set during the latter half of valkyria chronicles iii , detailing a mission by the nameless against their imperial rivals calamity raven . the anime was first announced in november 2010 . it was developed by a @-@ 1 pictures , produced by shinji <unk> , directed by nobuhiro kondō , and written by hiroshi <unk> . sakimoto 's music for the game was used in the anime .  the anime 's title was inspired by the principle purpose of the nameless : to suffer in battle for the goals of others . a subtitle attached to the project during development was \" the road to kubinka \" , which referenced the kubinka tank museum in moscow . the game 's main theme was how the characters regained their sense of self when stripped of their names and identities , along with general themes focused on war and its consequences . while making the anime , the production team were told by sega to make it as realistic as possible , with the consequence that the team did extensive research into aspects such as what happened when vehicles like tanks were overturned or damaged . due to it being along the same timeline as the original game and its television anime adaptation , the cast of valkyria chronicles could make appearances , which pleased the team . the opening theme , \" akari ( light ) <unk> \" ( <unk> @-@ <unk> ) , was sung by japanese singer <unk> . the ending theme , \" someday the flowers of light will bloom \" ( <unk> , itsuka saku hikari no hana ) , was sung by minami kuribayashi . both songs ' lyrics were written by their respective artists .  two manga adaptations were produced , following each of the game 's main female protagonists imca and riela . they were senjō no valkyria 3 : namo <unk> <unk> no hana ( 戦場のヴァルキュリア3 <unk> , lit . valkyria of the battlefield 3 : the flower of the nameless oath ) , illustrated by naoyuki fujisawa and eventually released in two volumes after being serialized in dengeki maoh between 2011 and 2012 ; and senjō no valkyria 3 : <unk> unmei no <unk> <unk> ( 戦場のヴァルキュリア3 <unk> , lit . valkyria of the battlefield 3 -the valkyrie of the crimson fate ) , illustrated by mizuki tsuge and eventually released in a single volume by kadokawa shoten in 2012 ."
      ]
     },
     "execution_count": 20,
     "metadata": {},
     "output_type": "execute_result"
    }
   ],
   "source": [
    "# here's the first doc\n",
    "docs[0]"
   ]
  },
  {
   "cell_type": "code",
   "execution_count": null,
   "id": "f8951fa3-64a5-402d-87dd-9bd1da0c0065",
   "metadata": {},
   "outputs": [],
   "source": []
  }
 ],
 "metadata": {
  "kernelspec": {
   "display_name": "Python 3 (ipykernel)",
   "language": "python",
   "name": "python3"
  },
  "language_info": {
   "codemirror_mode": {
    "name": "ipython",
    "version": 3
   },
   "file_extension": ".py",
   "mimetype": "text/x-python",
   "name": "python",
   "nbconvert_exporter": "python",
   "pygments_lexer": "ipython3",
   "version": "3.8.10"
  }
 },
 "nbformat": 4,
 "nbformat_minor": 5
}
