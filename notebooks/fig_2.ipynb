{
 "cells": [
  {
   "cell_type": "code",
   "execution_count": 1,
   "id": "b9cf020e",
   "metadata": {},
   "outputs": [],
   "source": [
    "import os\n",
    "import time\n",
    "\n",
    "start = time.time()\n",
    "if os.path.isdir(\"../notebooks/\"):\n",
    "    os.chdir(\"..\")"
   ]
  },
  {
   "cell_type": "code",
   "execution_count": 2,
   "id": "758a0268",
   "metadata": {},
   "outputs": [],
   "source": [
    "import json\n",
    "import random\n",
    "import itertools\n",
    "%load_ext memory_profiler\n",
    "\n",
    "import numpy as np\n",
    "import pandas as pd\n",
    "import matplotlib.pyplot as plt\n",
    "import gensim.models as gm\n",
    "from tqdm import tqdm\n",
    "from gensim.models import KeyedVectors\n",
    "import seaborn as sns\n",
    "\n",
    "from badseeds import replicate_fig2\n",
    "from badseeds import utils, seedbank, metrics\n"
   ]
  },
  {
   "cell_type": "code",
   "execution_count": 3,
   "id": "645be8fe",
   "metadata": {},
   "outputs": [],
   "source": [
    "# path to config json file containing paths to datasets. change if necessary\n",
    "CONFIG_PATH = \"./config.json\""
   ]
  },
  {
   "cell_type": "code",
   "execution_count": 4,
   "id": "8991aa22",
   "metadata": {},
   "outputs": [],
   "source": [
    "with open(CONFIG_PATH, \"r\") as f:\n",
    "    config = json.load(f)"
   ]
  },
  {
   "cell_type": "code",
   "execution_count": 5,
   "id": "0fac986a",
   "metadata": {},
   "outputs": [],
   "source": [
    "# for replicability\n",
    "np.random.seed(42)\n",
    "random.seed(42)"
   ]
  },
  {
   "cell_type": "markdown",
   "id": "501397ac",
   "metadata": {},
   "source": [
    "## Models and Data"
   ]
  },
  {
   "cell_type": "markdown",
   "id": "c991137f",
   "metadata": {},
   "source": [
    "### Models"
   ]
  },
  {
   "cell_type": "markdown",
   "id": "4d80ae3f",
   "metadata": {},
   "source": [
    "> load in models"
   ]
  },
  {
   "cell_type": "code",
   "execution_count": 6,
   "id": "68075c30",
   "metadata": {},
   "outputs": [
    {
     "name": "stdout",
     "output_type": "stream",
     "text": [
      "peak memory: 5381.50 MiB, increment: 4952.91 MiB\n"
     ]
    }
   ],
   "source": [
    "%%memit\n",
    "datasets = []\n",
    "\n",
    "filenames = [\n",
    "    \"goodreads_r_subpath\",\n",
    "    \"goodreads_hb_subpath\",\n",
    "]\n",
    "\n",
    "for f in filenames:\n",
    "    models = []\n",
    "    direct = os.fsencode(\n",
    "        os.path.join(config[\"models\"][\"dir_path\"], config[\"models\"][f][\"0\"])\n",
    "    )\n",
    "\n",
    "    for filename in os.listdir(direct):\n",
    "        f = os.path.join(direct, filename)\n",
    "\n",
    "        # checking if it is a file\n",
    "        if os.path.isfile(f):\n",
    "            f = os.fsdecode(f)\n",
    "            if \".npy\" not in f:\n",
    "                models.append(KeyedVectors.load(f))\n",
    "\n",
    "    datasets.append(models)"
   ]
  },
  {
   "cell_type": "markdown",
   "id": "aa17d793",
   "metadata": {},
   "source": [
    "## Seeds"
   ]
  },
  {
   "cell_type": "code",
   "execution_count": 7,
   "id": "0476e1e8",
   "metadata": {},
   "outputs": [
    {
     "name": "stdout",
     "output_type": "stream",
     "text": [
      "peak memory: 5384.86 MiB, increment: 2.89 MiB\n"
     ]
    }
   ],
   "source": [
    "%%memit\n",
    "seeds = seedbank.seedbanking(config[\"seeds\"][\"dir_path\"] + \"seeds.json\", index = True)\n",
    "\n",
    "\n",
    "seed_sets = [\n",
    "    \"female-Kozlowski_et_al_2019\",\n",
    "    \"female_1-Caliskan_et_al_2017\",\n",
    "    \"definitional_female-Bolukbasi_et_al_2016\",\n",
    "    \"female_singular-Hoyle_et_al_2019\",\n",
    "    \"female_definition_words_2-Zhao_et_al_2018\",\n",
    "    \"female_stereotype_words-Zhao_et_al_2018\",\n",
    "]\n",
    "\n",
    "# seed_sets = [\n",
    "#     \"male_1-Caliskan_et_al_2017\",\n",
    "#     \"male_2-Caliskan_et_al_2017\",\n",
    "#     \"male_pairs-Garg_et_al_2018\",\n",
    "#     \"male_definition_words_2-Zhao_et_al_2018\",\n",
    "#     \"male_stereotype_words-Zhao_et_al_2018\",\n",
    "#     \"male_2-Rudinger_et_al_2017\",\n",
    "# ]\n",
    "\n",
    "\n",
    "\n",
    "\n",
    "extracted_seeds = [seeds.loc[seed_set]['Seeds'] for seed_set in seed_sets]"
   ]
  },
  {
   "cell_type": "markdown",
   "id": "d83310a9",
   "metadata": {},
   "source": [
    "## Function call "
   ]
  },
  {
   "cell_type": "code",
   "execution_count": 9,
   "id": "c9910e3f",
   "metadata": {},
   "outputs": [
    {
     "name": "stdout",
     "output_type": "stream",
     "text": [
      "peak memory: 5385.22 MiB, increment: 0.13 MiB\n"
     ]
    }
   ],
   "source": [
    "%%memit\n",
    "similarity = replicate_fig2.figure_2(extracted_seeds, datasets)"
   ]
  },
  {
   "cell_type": "code",
   "execution_count": 10,
   "id": "30ea6d35",
   "metadata": {},
   "outputs": [
    {
     "name": "stdout",
     "output_type": "stream",
     "text": [
      "['woman', 'women', 'she', 'her', 'her', 'hers', 'girl', 'girls', 'female', 'feminine'] \n",
      "\n",
      "[-0.10372203 -0.04611512 -0.15422092 -0.19534676 -0.19534676 -0.09977143\n",
      "  0.00085612  0.05531679 -0.02672893  0.01876165] \n",
      " \n",
      "\n",
      "['sister', 'female', 'woman', 'girl', 'daughter', 'she', 'hers', 'her'] \n",
      "\n",
      "[-0.153637   -0.02672893 -0.10372203  0.00085612 -0.14192727 -0.15422092\n",
      " -0.09977143 -0.19534676] \n",
      " \n",
      "\n",
      "['woman', 'girl', 'she', 'mother', 'daughter', 'gal', 'female', 'her', 'herself', 'mary'] \n",
      "\n",
      "[-0.10372203  0.00085612 -0.15422092 -0.24172708 -0.14192727  0.0999647\n",
      " -0.02672893 -0.19534676 -0.1759487   0.02380326] \n",
      " \n",
      "\n",
      "['woman', 'girl', 'mother', 'daughter', 'sister', 'wife', 'aunt', 'niece', 'empress', 'queen', 'princess', 'duchess', 'lady', 'dame', 'waitress', 'actress', 'goddess', 'policewoman', 'postwoman', 'heroine', 'witch', 'stewardess', 'she'] \n",
      "\n",
      "[-0.10372203  0.00085612 -0.24172708 -0.14192727 -0.153637   -0.14620526\n",
      " -0.13599029  0.03273258  0.14077995 -0.11816834 -0.12696501  0.03529443\n",
      " -0.09236222  0.04207525  0.00377297 -0.01288862 -0.06031129  0.15900727\n",
      " -0.04293483 -0.10680895  0.06757059 -0.15422092] \n",
      " \n",
      "\n",
      "['lady', 'saleswoman', 'noblewoman', 'hostess', 'coquette', 'nun', 'heroine', 'actress', 'chairwoman', 'businesswoman', 'spokeswoman', 'waitress', 'councilwoman', 'stateswoman', 'policewoman', 'countrywomen', 'horsewoman', 'headmistress', 'governess', 'widow', 'witch', 'fiancee'] \n",
      "\n",
      "[-0.09236222  0.01916273  0.18742293  0.20857478  0.14867131 -0.04293483\n",
      " -0.01288862 -0.07372286 -0.07351257  0.00377297  0.15900727 -0.04390658\n",
      " -0.0739592  -0.10680895  0.02026596] \n",
      " \n",
      "\n",
      "['baker', 'counselor', 'nanny', 'librarians', 'socialite', 'assistant', 'tailor', 'dancer', 'hairdresser', 'cashier', 'secretary', 'clerk', 'stenographer', 'optometrist', 'housekeeper', 'bookkeeper', 'homemaker', 'nurse', 'stylist', 'receptionist'] \n",
      "\n",
      "[ 0.10206643 -0.0058794   0.02105159  0.02646426  0.01740179 -0.03732259\n",
      "  0.36247717 -0.01812166  0.09504686 -0.00036985  0.10484859  0.03094847\n",
      " -0.04892134  0.12685091 -0.10786993  0.03909476  0.13041469] \n",
      " \n",
      "\n",
      "['woman', 'women', 'she', 'her', 'her', 'hers', 'girl', 'girls', 'female', 'feminine'] \n",
      "\n",
      "[-0.14882017 -0.11640711 -0.29037424 -0.49265697 -0.49265697  0.02738273\n",
      " -0.03576768 -0.0323383   0.02231339  0.33845035] \n",
      " \n",
      "\n",
      "['sister', 'female', 'woman', 'girl', 'daughter', 'she', 'hers', 'her'] \n",
      "\n",
      "[-0.00813637  0.02231339 -0.14882017 -0.03576768  0.00472391 -0.29037424\n",
      "  0.02738273 -0.49265697] \n",
      " \n",
      "\n",
      "['woman', 'girl', 'she', 'mother', 'daughter', 'gal', 'female', 'her', 'herself', 'mary'] \n",
      "\n",
      "[-0.14882017 -0.03576768 -0.29037424 -0.0387547   0.00472391  0.36417145\n",
      "  0.02231339 -0.49265697 -0.21242345  0.19372258] \n",
      " \n",
      "\n",
      "['woman', 'girl', 'mother', 'daughter', 'sister', 'wife', 'aunt', 'niece', 'empress', 'queen', 'princess', 'duchess', 'lady', 'dame', 'waitress', 'actress', 'goddess', 'policewoman', 'postwoman', 'heroine', 'witch', 'stewardess', 'she'] \n",
      "\n",
      "[-0.14882017 -0.03576768 -0.0387547   0.00472391 -0.00813637 -0.05555964\n",
      "  0.24894511  0.46006124  0.55224622  0.16369044  0.23675582  0.60423856\n",
      "  0.1199378   0.6374551   0.47191672  0.19924754  0.43577474 -0.13714233\n",
      "  0.08030179  0.27803462  0.49098328 -0.29037424] \n",
      " \n",
      "\n",
      "['lady', 'saleswoman', 'noblewoman', 'hostess', 'coquette', 'nun', 'heroine', 'actress', 'chairwoman', 'businesswoman', 'spokeswoman', 'waitress', 'councilwoman', 'stateswoman', 'policewoman', 'countrywomen', 'horsewoman', 'headmistress', 'governess', 'widow', 'witch', 'fiancee'] \n",
      "\n",
      "[ 0.1199378   0.15572136  0.63714402  0.48723555  0.70253379  0.39546395\n",
      "  0.08030179  0.19924754  0.42254873  0.47191672 -0.13714233  0.59471818\n",
      "  0.44461374  0.49737147  0.50794469  0.33694629  0.27803462  0.50122487] \n",
      " \n",
      "\n",
      "['baker', 'counselor', 'nanny', 'librarians', 'socialite', 'assistant', 'tailor', 'dancer', 'hairdresser', 'cashier', 'secretary', 'clerk', 'stenographer', 'optometrist', 'housekeeper', 'bookkeeper', 'homemaker', 'nurse', 'stylist', 'receptionist'] \n",
      "\n",
      "[0.15309425 0.44723637 0.56244091 0.35491651 0.4411244  0.36903358\n",
      " 0.51970061 0.54492725 0.46625981 0.63019935 0.31801961 0.34086546\n",
      " 0.51060975 0.43302885 0.42819445 0.57233603 0.48337441 0.13260152\n",
      " 0.48499464 0.4804015 ] \n",
      " \n",
      "\n",
      "['woman', 'women', 'she', 'her', 'her', 'hers', 'girl', 'girls', 'female', 'feminine'] \n",
      "\n",
      "[-0.10372203 -0.04611512 -0.15422092 -0.19534676 -0.19534676 -0.09977143\n",
      "  0.00085612  0.05531679 -0.02672893  0.01876165] \n",
      " \n",
      "\n",
      "['sister', 'female', 'woman', 'girl', 'daughter', 'she', 'hers', 'her'] \n",
      "\n",
      "[-0.153637   -0.02672893 -0.10372203  0.00085612 -0.14192727 -0.15422092\n",
      " -0.09977143 -0.19534676] \n",
      " \n",
      "\n",
      "['woman', 'girl', 'she', 'mother', 'daughter', 'gal', 'female', 'her', 'herself', 'mary'] \n",
      "\n",
      "[-0.10372203  0.00085612 -0.15422092 -0.24172708 -0.14192727  0.0999647\n",
      " -0.02672893 -0.19534676 -0.1759487   0.02380326] \n",
      " \n",
      "\n",
      "['woman', 'girl', 'mother', 'daughter', 'sister', 'wife', 'aunt', 'niece', 'empress', 'queen', 'princess', 'duchess', 'lady', 'dame', 'waitress', 'actress', 'goddess', 'policewoman', 'postwoman', 'heroine', 'witch', 'stewardess', 'she'] \n",
      "\n",
      "[-0.10372203  0.00085612 -0.24172708 -0.14192727 -0.153637   -0.14620526\n",
      " -0.13599029  0.03273258  0.14077995 -0.11816834 -0.12696501  0.03529443\n",
      " -0.09236222  0.04207525  0.00377297 -0.01288862 -0.06031129  0.15900727\n",
      " -0.04293483 -0.10680895  0.06757059 -0.15422092] \n",
      " \n",
      "\n",
      "['lady', 'saleswoman', 'noblewoman', 'hostess', 'coquette', 'nun', 'heroine', 'actress', 'chairwoman', 'businesswoman', 'spokeswoman', 'waitress', 'councilwoman', 'stateswoman', 'policewoman', 'countrywomen', 'horsewoman', 'headmistress', 'governess', 'widow', 'witch', 'fiancee'] \n",
      "\n",
      "[-0.09236222  0.01916273  0.18742293  0.20857478  0.14867131 -0.04293483\n",
      " -0.01288862 -0.07372286 -0.07351257  0.00377297  0.15900727 -0.04390658\n",
      " -0.0739592  -0.10680895  0.02026596] \n",
      " \n",
      "\n",
      "['baker', 'counselor', 'nanny', 'librarians', 'socialite', 'assistant', 'tailor', 'dancer', 'hairdresser', 'cashier', 'secretary', 'clerk', 'stenographer', 'optometrist', 'housekeeper', 'bookkeeper', 'homemaker', 'nurse', 'stylist', 'receptionist'] \n",
      "\n",
      "[ 0.10206643 -0.0058794   0.02105159  0.02646426  0.01740179 -0.03732259\n",
      "  0.36247717 -0.01812166  0.09504686 -0.00036985  0.10484859  0.03094847\n",
      " -0.04892134  0.12685091 -0.10786993  0.03909476  0.13041469] \n",
      " \n",
      "\n",
      "['woman', 'women', 'she', 'her', 'her', 'hers', 'girl', 'girls', 'female', 'feminine'] \n",
      "\n",
      "[-0.14882017 -0.11640711 -0.29037424 -0.49265697 -0.49265697  0.02738273\n",
      " -0.03576768 -0.0323383   0.02231339  0.33845035] \n",
      " \n",
      "\n",
      "['sister', 'female', 'woman', 'girl', 'daughter', 'she', 'hers', 'her'] \n",
      "\n",
      "[-0.00813637  0.02231339 -0.14882017 -0.03576768  0.00472391 -0.29037424\n",
      "  0.02738273 -0.49265697] \n",
      " \n",
      "\n",
      "['woman', 'girl', 'she', 'mother', 'daughter', 'gal', 'female', 'her', 'herself', 'mary'] \n",
      "\n",
      "[-0.14882017 -0.03576768 -0.29037424 -0.0387547   0.00472391  0.36417145\n",
      "  0.02231339 -0.49265697 -0.21242345  0.19372258] \n",
      " \n",
      "\n",
      "['woman', 'girl', 'mother', 'daughter', 'sister', 'wife', 'aunt', 'niece', 'empress', 'queen', 'princess', 'duchess', 'lady', 'dame', 'waitress', 'actress', 'goddess', 'policewoman', 'postwoman', 'heroine', 'witch', 'stewardess', 'she'] \n",
      "\n",
      "[-0.14882017 -0.03576768 -0.0387547   0.00472391 -0.00813637 -0.05555964\n",
      "  0.24894511  0.46006124  0.55224622  0.16369044  0.23675582  0.60423856\n",
      "  0.1199378   0.6374551   0.47191672  0.19924754  0.43577474 -0.13714233\n",
      "  0.08030179  0.27803462  0.49098328 -0.29037424] \n",
      " \n",
      "\n",
      "['lady', 'saleswoman', 'noblewoman', 'hostess', 'coquette', 'nun', 'heroine', 'actress', 'chairwoman', 'businesswoman', 'spokeswoman', 'waitress', 'councilwoman', 'stateswoman', 'policewoman', 'countrywomen', 'horsewoman', 'headmistress', 'governess', 'widow', 'witch', 'fiancee'] \n",
      "\n",
      "[ 0.1199378   0.15572136  0.63714402  0.48723555  0.70253379  0.39546395\n",
      "  0.08030179  0.19924754  0.42254873  0.47191672 -0.13714233  0.59471818\n",
      "  0.44461374  0.49737147  0.50794469  0.33694629  0.27803462  0.50122487] \n",
      " \n",
      "\n",
      "['baker', 'counselor', 'nanny', 'librarians', 'socialite', 'assistant', 'tailor', 'dancer', 'hairdresser', 'cashier', 'secretary', 'clerk', 'stenographer', 'optometrist', 'housekeeper', 'bookkeeper', 'homemaker', 'nurse', 'stylist', 'receptionist'] \n",
      "\n",
      "[0.15309425 0.44723637 0.56244091 0.35491651 0.4411244  0.36903358\n",
      " 0.51970061 0.54492725 0.46625981 0.63019935 0.31801961 0.34086546\n",
      " 0.51060975 0.43302885 0.42819445 0.57233603 0.48337441 0.13260152\n",
      " 0.48499464 0.4804015 ] \n",
      " \n",
      "\n"
     ]
    },
    {
     "name": "stdout",
     "output_type": "stream",
     "text": [
      "['woman', 'women', 'she', 'her', 'her', 'hers', 'girl', 'girls', 'female', 'feminine'] \n",
      "\n",
      "[-0.10372203 -0.04611512 -0.15422092 -0.19534676 -0.19534676 -0.09977143\n",
      "  0.00085612  0.05531679 -0.02672893  0.01876165] \n",
      " \n",
      "\n",
      "['sister', 'female', 'woman', 'girl', 'daughter', 'she', 'hers', 'her'] \n",
      "\n",
      "[-0.153637   -0.02672893 -0.10372203  0.00085612 -0.14192727 -0.15422092\n",
      " -0.09977143 -0.19534676] \n",
      " \n",
      "\n",
      "['woman', 'girl', 'she', 'mother', 'daughter', 'gal', 'female', 'her', 'herself', 'mary'] \n",
      "\n",
      "[-0.10372203  0.00085612 -0.15422092 -0.24172708 -0.14192727  0.0999647\n",
      " -0.02672893 -0.19534676 -0.1759487   0.02380326] \n",
      " \n",
      "\n",
      "['woman', 'girl', 'mother', 'daughter', 'sister', 'wife', 'aunt', 'niece', 'empress', 'queen', 'princess', 'duchess', 'lady', 'dame', 'waitress', 'actress', 'goddess', 'policewoman', 'postwoman', 'heroine', 'witch', 'stewardess', 'she'] \n",
      "\n",
      "[-0.10372203  0.00085612 -0.24172708 -0.14192727 -0.153637   -0.14620526\n",
      " -0.13599029  0.03273258  0.14077995 -0.11816834 -0.12696501  0.03529443\n",
      " -0.09236222  0.04207525  0.00377297 -0.01288862 -0.06031129  0.15900727\n",
      " -0.04293483 -0.10680895  0.06757059 -0.15422092] \n",
      " \n",
      "\n",
      "['lady', 'saleswoman', 'noblewoman', 'hostess', 'coquette', 'nun', 'heroine', 'actress', 'chairwoman', 'businesswoman', 'spokeswoman', 'waitress', 'councilwoman', 'stateswoman', 'policewoman', 'countrywomen', 'horsewoman', 'headmistress', 'governess', 'widow', 'witch', 'fiancee'] \n",
      "\n",
      "[-0.09236222  0.01916273  0.18742293  0.20857478  0.14867131 -0.04293483\n",
      " -0.01288862 -0.07372286 -0.07351257  0.00377297  0.15900727 -0.04390658\n",
      " -0.0739592  -0.10680895  0.02026596] \n",
      " \n",
      "\n",
      "['baker', 'counselor', 'nanny', 'librarians', 'socialite', 'assistant', 'tailor', 'dancer', 'hairdresser', 'cashier', 'secretary', 'clerk', 'stenographer', 'optometrist', 'housekeeper', 'bookkeeper', 'homemaker', 'nurse', 'stylist', 'receptionist'] \n",
      "\n",
      "[ 0.10206643 -0.0058794   0.02105159  0.02646426  0.01740179 -0.03732259\n",
      "  0.36247717 -0.01812166  0.09504686 -0.00036985  0.10484859  0.03094847\n",
      " -0.04892134  0.12685091 -0.10786993  0.03909476  0.13041469] \n",
      " \n",
      "\n",
      "['woman', 'women', 'she', 'her', 'her', 'hers', 'girl', 'girls', 'female', 'feminine'] \n",
      "\n",
      "[-0.14882017 -0.11640711 -0.29037424 -0.49265697 -0.49265697  0.02738273\n",
      " -0.03576768 -0.0323383   0.02231339  0.33845035] \n",
      " \n",
      "\n",
      "['sister', 'female', 'woman', 'girl', 'daughter', 'she', 'hers', 'her'] \n",
      "\n",
      "[-0.00813637  0.02231339 -0.14882017 -0.03576768  0.00472391 -0.29037424\n",
      "  0.02738273 -0.49265697] \n",
      " \n",
      "\n",
      "['woman', 'girl', 'she', 'mother', 'daughter', 'gal', 'female', 'her', 'herself', 'mary'] \n",
      "\n",
      "[-0.14882017 -0.03576768 -0.29037424 -0.0387547   0.00472391  0.36417145\n",
      "  0.02231339 -0.49265697 -0.21242345  0.19372258] \n",
      " \n",
      "\n",
      "['woman', 'girl', 'mother', 'daughter', 'sister', 'wife', 'aunt', 'niece', 'empress', 'queen', 'princess', 'duchess', 'lady', 'dame', 'waitress', 'actress', 'goddess', 'policewoman', 'postwoman', 'heroine', 'witch', 'stewardess', 'she'] \n",
      "\n",
      "[-0.14882017 -0.03576768 -0.0387547   0.00472391 -0.00813637 -0.05555964\n",
      "  0.24894511  0.46006124  0.55224622  0.16369044  0.23675582  0.60423856\n",
      "  0.1199378   0.6374551   0.47191672  0.19924754  0.43577474 -0.13714233\n",
      "  0.08030179  0.27803462  0.49098328 -0.29037424] \n",
      " \n",
      "\n",
      "['lady', 'saleswoman', 'noblewoman', 'hostess', 'coquette', 'nun', 'heroine', 'actress', 'chairwoman', 'businesswoman', 'spokeswoman', 'waitress', 'councilwoman', 'stateswoman', 'policewoman', 'countrywomen', 'horsewoman', 'headmistress', 'governess', 'widow', 'witch', 'fiancee'] \n",
      "\n",
      "[ 0.1199378   0.15572136  0.63714402  0.48723555  0.70253379  0.39546395\n",
      "  0.08030179  0.19924754  0.42254873  0.47191672 -0.13714233  0.59471818\n",
      "  0.44461374  0.49737147  0.50794469  0.33694629  0.27803462  0.50122487] \n",
      " \n",
      "\n",
      "['baker', 'counselor', 'nanny', 'librarians', 'socialite', 'assistant', 'tailor', 'dancer', 'hairdresser', 'cashier', 'secretary', 'clerk', 'stenographer', 'optometrist', 'housekeeper', 'bookkeeper', 'homemaker', 'nurse', 'stylist', 'receptionist'] \n",
      "\n",
      "[0.15309425 0.44723637 0.56244091 0.35491651 0.4411244  0.36903358\n",
      " 0.51970061 0.54492725 0.46625981 0.63019935 0.31801961 0.34086546\n",
      " 0.51060975 0.43302885 0.42819445 0.57233603 0.48337441 0.13260152\n",
      " 0.48499464 0.4804015 ] \n",
      " \n",
      "\n",
      "peak memory: 5385.25 MiB, increment: 0.03 MiB\n"
     ]
    }
   ],
   "source": [
    "%%memit\n",
    "for sim in similarity:\n",
    "        for i, j in zip(extracted_seeds, sim):\n",
    "            print(i, \"\\n\")\n",
    "            print(j, \"\\n \\n\")"
   ]
  },
  {
   "cell_type": "markdown",
   "id": "c21154d7",
   "metadata": {},
   "source": [
    "## Visualization"
   ]
  },
  {
   "cell_type": "code",
   "execution_count": 11,
   "id": "86454369",
   "metadata": {
    "scrolled": true
   },
   "outputs": [
    {
     "data": {
      "image/png": "[encoded data removed]",
      "text/plain": [
       "<Figure size 432x288 with 1 Axes>"
      ]
     },
     "metadata": {},
     "output_type": "display_data"
    }
   ],
   "source": [
    "df1 = pd.DataFrame(\n",
    "    zip(similarity[0], seed_sets, [\"history and biography\"] * len(seeds)),\n",
    "    columns=[\"cosine similarity\", \"seed set\", \"dataset\"],\n",
    ")\n",
    "df2 = pd.DataFrame(\n",
    "    zip(similarity[1], seed_sets, [\"romance\"] * len(seeds)),\n",
    "    columns=[\"cosine similarity\", \"seed set\", \"dataset\"],\n",
    ")\n",
    "\n",
    "df = pd.concat([df1, df2])\n",
    "df = df.explode(\"cosine similarity\")\n",
    "df[\"cosine similarity\"] = df[\"cosine similarity\"].astype(\"float\")\n",
    "\n",
    "# Creating plot\n",
    "sns.set_theme(style=\"whitegrid\")\n",
    "fig, ax = plt.subplots()\n",
    "ax1 = sns.boxplot(\n",
    "    x=\"cosine similarity\", y=\"seed set\", hue=\"dataset\", data=df, palette=\"Accent\"\n",
    ")\n",
    "ax2 = sns.stripplot(\n",
    "    x=\"cosine similarity\",\n",
    "    y=\"seed set\",\n",
    "    hue=\"dataset\",\n",
    "    data=df,\n",
    "    jitter=True,\n",
    "    palette=\"Accent\",\n",
    "    dodge=True,\n",
    "    linewidth=1,\n",
    "    edgecolor=\"gray\",\n",
    ")\n",
    "\n",
    "legend = ax1.get_legend()\n",
    "handles = legend.legendHandles\n",
    "ax.legend(handles, [\"history and biography\", \"romance\"])\n",
    "plt.xlabel('cosine similairty to unpleasentness')\n",
    "\n",
    "\n",
    "# show plot\n",
    "plt.show()\n"
   ]
  },
  {
   "cell_type": "code",
   "execution_count": 12,
   "id": "9a8e3fec",
   "metadata": {},
   "outputs": [
    {
     "name": "stdout",
     "output_type": "stream",
     "text": [
      "Time taken is:  20.47122812271118\n"
     ]
    }
   ],
   "source": [
    "print(\"Time taken is: \", time.time() - start)"
   ]
  },
  {
   "cell_type": "code",
   "execution_count": 14,
   "id": "8e270bcd",
   "metadata": {},
   "outputs": [],
   "source": [
    "# save to latex\n",
    "# plt.rc(\"pgf\", texsystem=\"pdflatex\")\n",
    "fig.savefig(\"images/fig_2_female.pdf\", bbox_inches='tight', dpi = 600)"
   ]
  }
 ],
 "metadata": {
  "kernelspec": {
   "display_name": "Python 3 (ipykernel)",
   "language": "python",
   "name": "python3"
  },
  "language_info": {
   "codemirror_mode": {
    "name": "ipython",
    "version": 3
   },
   "file_extension": ".py",
   "mimetype": "text/x-python",
   "name": "python",
   "nbconvert_exporter": "python",
   "pygments_lexer": "ipython3",
   "version": "3.9.7"
  }
 },
 "nbformat": 4,
 "nbformat_minor": 5
}
