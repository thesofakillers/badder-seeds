{
 "cells": [
  {
   "cell_type": "code",
   "execution_count": 93,
   "id": "b9cf020e",
   "metadata": {},
   "outputs": [],
   "source": [
    "import os\n",
    "import time\n",
    "\n",
    "start = time.time()\n",
    "if os.path.isdir(\"../notebooks/\"):\n",
    "    os.chdir(\"..\")"
   ]
  },
  {
   "cell_type": "code",
   "execution_count": 94,
   "id": "758a0268",
   "metadata": {},
   "outputs": [
    {
     "name": "stdout",
     "output_type": "stream",
     "text": [
      "The memory_profiler extension is already loaded. To reload it, use:\n",
      "  %reload_ext memory_profiler\n"
     ]
    }
   ],
   "source": [
    "import json\n",
    "import random\n",
    "import itertools\n",
    "%load_ext memory_profiler\n",
    "\n",
    "import numpy as np\n",
    "import pandas as pd\n",
    "import matplotlib.pyplot as plt\n",
    "import gensim.models as gm\n",
    "from tqdm import tqdm\n",
    "from gensim.models import KeyedVectors\n",
    "import seaborn as sns\n",
    "\n",
    "from badseeds import replicate_fig2\n",
    "from badseeds import utils, seedbank, metrics\n"
   ]
  },
  {
   "cell_type": "code",
   "execution_count": 95,
   "id": "645be8fe",
   "metadata": {},
   "outputs": [],
   "source": [
    "# path to config json file containing paths to datasets. change if necessary\n",
    "CONFIG_PATH = \"./config.json\""
   ]
  },
  {
   "cell_type": "code",
   "execution_count": 96,
   "id": "8991aa22",
   "metadata": {},
   "outputs": [],
   "source": [
    "with open(CONFIG_PATH, \"r\") as f:\n",
    "    config = json.load(f)"
   ]
  },
  {
   "cell_type": "code",
   "execution_count": 97,
   "id": "0fac986a",
   "metadata": {},
   "outputs": [],
   "source": [
    "# for replicability\n",
    "np.random.seed(42)\n",
    "random.seed(42)"
   ]
  },
  {
   "cell_type": "markdown",
   "id": "501397ac",
   "metadata": {},
   "source": [
    "## Models and Data"
   ]
  },
  {
   "cell_type": "markdown",
   "id": "c991137f",
   "metadata": {},
   "source": [
    "### Models"
   ]
  },
  {
   "cell_type": "markdown",
   "id": "a6501be6",
   "metadata": {},
   "source": [
    "> load in models"
   ]
  },
  {
   "cell_type": "code",
   "execution_count": null,
   "id": "68075c30",
   "metadata": {},
   "outputs": [
    {
     "name": "stdout",
     "output_type": "stream",
     "text": [
      "20\n"
     ]
    }
   ],
   "source": [
    "%%memit\n",
    "datasets = []\n",
    "\n",
    "filenames = [\n",
    "    \"goodreads_r_subpath\",\n",
    "    \"goodreads_hb_subpath\",\n",
    "]\n",
    "\n",
    "for f in filenames:\n",
    "    models = []\n",
    "    direct = os.fsencode(\n",
    "        os.path.join(config[\"models\"][\"dir_path\"], config[\"models\"][f][\"0\"])\n",
    "    )\n",
    "\n",
    "    for filename in os.listdir(direct):\n",
    "        f = os.path.join(direct, filename)\n",
    "\n",
    "        # checking if it is a file\n",
    "        if os.path.isfile(f):\n",
    "            f = os.fsdecode(f)\n",
    "            if \".npy\" not in f:\n",
    "                models.append(KeyedVectors.load(f))\n",
    "\n",
    "    datasets.append(models)\n",
    "print(len(datasets[0]))"
   ]
  },
  {
   "cell_type": "markdown",
   "id": "aa17d793",
   "metadata": {},
   "source": [
    "## Seeds"
   ]
  },
  {
   "cell_type": "code",
   "execution_count": null,
   "id": "0476e1e8",
   "metadata": {},
   "outputs": [],
   "source": [
    "%%memit\n",
    "seeds = seedbank.seedbanking(config[\"seeds\"][\"dir_path\"] + \"seeds.json\", index = True)\n",
    "\n",
    "\n",
    "seed_sets = [\n",
    "    \"female-Kozlowski_et_al_2019\",\n",
    "    \"female_1-Caliskan_et_al_2017\",\n",
    "    \"definitional_female-Bolukbasi_et_al_2016\",\n",
    "    \"female_singular-Hoyle_et_al_2019\",\n",
    "    \"female_definition_words_2-Zhao_et_al_2018\",\n",
    "    \"female_stereotype_words-Zhao_et_al_2018\",\n",
    "]\n",
    "\n",
    "# seed_sets = [\n",
    "#     \"male_1-Caliskan_et_al_2017\",\n",
    "#     \"male_2-Caliskan_et_al_2017\",\n",
    "#     \"male_pairs-Garg_et_al_2018\",\n",
    "#     \"male_definition_words_2-Zhao_et_al_2018\",\n",
    "#     \"male_stereotype_words-Zhao_et_al_2018\",\n",
    "#     \"male_2-Rudinger_et_al_2017\",\n",
    "# ]\n",
    "\n",
    "\n",
    "\n",
    "\n",
    "extracted_seeds = [seeds.loc[seed_set]['Seeds'] for seed_set in seed_sets]\n",
    "extracted_seeds = [[item.lower() for item in seed_set] for seed_set in extracted_seeds]"
   ]
  },
  {
   "cell_type": "markdown",
   "id": "5c9dbae2",
   "metadata": {},
   "source": [
    "#### Frequency of word for cosince similarity"
   ]
  },
  {
   "cell_type": "code",
   "execution_count": null,
   "id": "51f58ea6",
   "metadata": {},
   "outputs": [],
   "source": [
    "datasets[0][0].get_vecattr('unpleasant','count')"
   ]
  },
  {
   "cell_type": "markdown",
   "id": "d83310a9",
   "metadata": {},
   "source": [
    "## Function call "
   ]
  },
  {
   "cell_type": "code",
   "execution_count": null,
   "id": "c9910e3f",
   "metadata": {},
   "outputs": [],
   "source": [
    "%%memit\n",
    "similarity = replicate_fig2.figure_2(extracted_seeds, datasets)"
   ]
  },
  {
   "cell_type": "code",
   "execution_count": null,
   "id": "30ea6d35",
   "metadata": {},
   "outputs": [],
   "source": [
    "%%memit\n",
    "for sim in similarity:\n",
    "        for i, j in zip(extracted_seeds, sim):\n",
    "            print(i, \"\\n\")\n",
    "            print(j, \"\\n \\n\")"
   ]
  },
  {
   "cell_type": "markdown",
   "id": "c21154d7",
   "metadata": {},
   "source": [
    "## Visualization"
   ]
  },
  {
   "cell_type": "code",
   "execution_count": null,
   "id": "86454369",
   "metadata": {
    "scrolled": true
   },
   "outputs": [],
   "source": [
    "df1 = pd.DataFrame(\n",
    "    zip(similarity[0], seed_sets, [\"history and biography\"] * len(seeds)),\n",
    "    columns=[\"cosine similarity\", \"seed set\", \"dataset\"],\n",
    ")\n",
    "df2 = pd.DataFrame(\n",
    "    zip(similarity[1], seed_sets, [\"romance\"] * len(seeds)),\n",
    "    columns=[\"cosine similarity\", \"seed set\", \"dataset\"],\n",
    ")\n",
    "\n",
    "df = pd.concat([df1, df2])\n",
    "df = df.explode(\"cosine similarity\")\n",
    "df[\"cosine similarity\"] = df[\"cosine similarity\"].astype(\"float\")\n",
    "\n",
    "# Creating plot\n",
    "sns.set_theme(style=\"whitegrid\")\n",
    "fig, ax = plt.subplots()\n",
    "ax1 = sns.boxplot(\n",
    "    x=\"cosine similarity\", y=\"seed set\", hue=\"dataset\", data=df, palette=\"Accent\"\n",
    ")\n",
    "ax2 = sns.stripplot(\n",
    "    x=\"cosine similarity\",\n",
    "    y=\"seed set\",\n",
    "    hue=\"dataset\",\n",
    "    data=df,\n",
    "    jitter=True,\n",
    "    palette=\"Accent\",\n",
    "    dodge=True,\n",
    "    linewidth=1,\n",
    "    edgecolor=\"gray\",\n",
    ")\n",
    "\n",
    "legend = ax1.get_legend()\n",
    "handles = legend.legendHandles\n",
    "ax.legend(handles, [\"history and biography\", \"romance\"])\n",
    "plt.xlabel('cosine similairty to unpleasentness')\n",
    "\n",
    "\n",
    "# show plot\n",
    "plt.show()\n"
   ]
  },
  {
   "cell_type": "code",
   "execution_count": null,
   "id": "9a8e3fec",
   "metadata": {},
   "outputs": [],
   "source": [
    "print(\"Time taken is: \", time.time() - start)"
   ]
  },
  {
   "cell_type": "code",
   "execution_count": null,
   "id": "8e270bcd",
   "metadata": {},
   "outputs": [],
   "source": [
    "# save to latex\n",
    "# plt.rc(\"pgf\", texsystem=\"pdflatex\")\n",
    "fig.savefig(\"images/fig_2_male.pdf\", bbox_inches='tight', dpi = 600)"
   ]
  }
 ],
 "metadata": {
  "kernelspec": {
   "display_name": "Python 3 (ipykernel)",
   "language": "python",
   "name": "python3"
  },
  "language_info": {
   "codemirror_mode": {
    "name": "ipython",
    "version": 3
   },
   "file_extension": ".py",
   "mimetype": "text/x-python",
   "name": "python",
   "nbconvert_exporter": "python",
   "pygments_lexer": "ipython3",
   "version": "3.9.7"
  }
 },
 "nbformat": 4,
 "nbformat_minor": 5
}
