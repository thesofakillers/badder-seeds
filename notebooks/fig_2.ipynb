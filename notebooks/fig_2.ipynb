{
 "cells": [
  {
   "cell_type": "code",
   "execution_count": 10,
   "id": "b9cf020e",
   "metadata": {},
   "outputs": [],
   "source": [
    "import os\n",
    "import time\n",
    "\n",
    "start = time.time()\n",
    "if os.path.isdir(\"../notebooks/\"):\n",
    "    os.chdir(\"..\")"
   ]
  },
  {
   "cell_type": "code",
   "execution_count": 11,
   "id": "758a0268",
   "metadata": {},
   "outputs": [
    {
     "name": "stdout",
     "output_type": "stream",
     "text": [
      "The memory_profiler extension is already loaded. To reload it, use:\n",
      "  %reload_ext memory_profiler\n"
     ]
    }
   ],
   "source": [
    "import json\n",
    "import random\n",
    "import itertools\n",
    "%load_ext memory_profiler\n",
    "\n",
    "import numpy as np\n",
    "import pandas as pd\n",
    "import matplotlib.pyplot as plt\n",
    "import gensim.models as gm\n",
    "from tqdm import tqdm\n",
    "from gensim.models import KeyedVectors\n",
    "import seaborn as sns\n",
    "\n",
    "from badseeds import replicate_fig2\n",
    "from badseeds import utils, seedbank, metrics\n"
   ]
  },
  {
   "cell_type": "code",
   "execution_count": 12,
   "id": "645be8fe",
   "metadata": {},
   "outputs": [],
   "source": [
    "# path to config json file containing paths to datasets. change if necessary\n",
    "CONFIG_PATH = \"./config.json\""
   ]
  },
  {
   "cell_type": "code",
   "execution_count": 13,
   "id": "8991aa22",
   "metadata": {},
   "outputs": [],
   "source": [
    "with open(CONFIG_PATH, \"r\") as f:\n",
    "    config = json.load(f)"
   ]
  },
  {
   "cell_type": "code",
   "execution_count": 14,
   "id": "0fac986a",
   "metadata": {},
   "outputs": [],
   "source": [
    "# for replicability\n",
    "np.random.seed(42)\n",
    "random.seed(42)"
   ]
  },
  {
   "cell_type": "markdown",
   "id": "501397ac",
   "metadata": {},
   "source": [
    "## Models and Data"
   ]
  },
  {
   "cell_type": "markdown",
   "id": "c991137f",
   "metadata": {},
   "source": [
    "### Models"
   ]
  },
  {
   "cell_type": "code",
   "execution_count": 15,
   "id": "68075c30",
   "metadata": {},
   "outputs": [
    {
     "name": "stdout",
     "output_type": "stream",
     "text": [
      "peak memory: 1509.85 MiB, increment: 0.89 MiB\n"
     ]
    }
   ],
   "source": [
    "%%memit\n",
    "datasets = []\n",
    "\n",
    "filenames = [\n",
    "    \"goodreads_r_subpath\",\n",
    "    \"goodreads_hb_subpath\",\n",
    "]\n",
    "\n",
    "for f in filenames:\n",
    "    models = []\n",
    "    direct = os.fsencode(\n",
    "        os.path.join(config[\"models\"][\"dir_path\"], config[\"models\"][f][\"0\"])\n",
    "    )\n",
    "\n",
    "    for filename in os.listdir(direct):\n",
    "        f = os.path.join(direct, filename)\n",
    "\n",
    "        # checking if it is a file\n",
    "        if os.path.isfile(f):\n",
    "            f = os.fsdecode(f)\n",
    "            if \".npy\" not in f:\n",
    "                models.append(KeyedVectors.load(f))\n",
    "\n",
    "    datasets.append(models)"
   ]
  },
  {
   "cell_type": "markdown",
   "id": "aa17d793",
   "metadata": {},
   "source": [
    "## Seeds"
   ]
  },
  {
   "cell_type": "code",
   "execution_count": 16,
   "id": "0476e1e8",
   "metadata": {},
   "outputs": [
    {
     "name": "stdout",
     "output_type": "stream",
     "text": [
      "peak memory: 1510.48 MiB, increment: 0.46 MiB\n"
     ]
    }
   ],
   "source": [
    "%%memit\n",
    "seeds = seedbank.seedbanking(config[\"seeds\"][\"dir_path\"] + \"seeds.json\", index = True)\n",
    "\n",
    "\n",
    "# seed_sets = [\n",
    "#     \"black-Manzini_et_al_2019\",\n",
    "#     \"black_roles-Manzini_et_al_2019\",\n",
    "#     \"black-Kozlowski_et_al_2019\",\n",
    "#     \"black-Rudinger_et_al_2017\",\n",
    "#     # \"female_definition_words_2-Zhao_et_al_2018\",\n",
    "#     # \"female_stereotype_words-Zhao_et_al_2018\",\n",
    "# ]\n",
    "\n",
    "seed_sets = [\n",
    "    \"female-Kozlowski_et_al_2019\",\n",
    "    \"female_1-Caliskan_et_al_2017\",\n",
    "    \"definitional_female-Bolukbasi_et_al_2016\",\n",
    "    \"female_singular-Hoyle_et_al_2019\",\n",
    "    \"female_definition_words_2-Zhao_et_al_2018\",\n",
    "    \"female_stereotype_words-Zhao_et_al_2018\",\n",
    "]\n",
    "\n",
    "extracted_seeds = [seeds.loc[seed_set]['Seeds'] for seed_set in seed_sets]"
   ]
  },
  {
   "cell_type": "markdown",
   "id": "d83310a9",
   "metadata": {},
   "source": [
    "## Function call "
   ]
  },
  {
   "cell_type": "code",
   "execution_count": 17,
   "id": "c9910e3f",
   "metadata": {},
   "outputs": [
    {
     "name": "stdout",
     "output_type": "stream",
     "text": [
      "peak memory: 1510.55 MiB, increment: 0.07 MiB\n"
     ]
    }
   ],
   "source": [
    "%%memit\n",
    "similarity = replicate_fig2.figure_2(extracted_seeds, datasets)"
   ]
  },
  {
   "cell_type": "code",
   "execution_count": 18,
   "id": "30ea6d35",
   "metadata": {},
   "outputs": [
    {
     "name": "stdout",
     "output_type": "stream",
     "text": [
      "['woman', 'women', 'she', 'her', 'her', 'hers', 'girl', 'girls', 'female', 'feminine'] \n",
      "\n",
      "[-0.19101251 -0.16811562 -0.38281677 -0.38537144 -0.38537144 -0.19637266\n",
      " -0.07181384 -0.03656899 -0.21149572 -0.0683847 ] \n",
      " \n",
      "\n",
      "['sister', 'female', 'woman', 'girl', 'daughter', 'she', 'hers', 'her'] \n",
      "\n",
      "[-0.20329372 -0.21149572 -0.19101251 -0.07181384 -0.14172502 -0.38281677\n",
      " -0.19637266 -0.38537144] \n",
      " \n",
      "\n",
      "['woman', 'girl', 'she', 'mother', 'daughter', 'gal', 'female', 'her', 'herself', 'Mary'] \n",
      "\n",
      "[-0.19101251 -0.07181384 -0.38281677 -0.33231439 -0.14172502  0.11046532\n",
      " -0.21149572 -0.38537144 -0.29162606] \n",
      " \n",
      "\n",
      "['woman', 'girl', 'mother', 'daughter', 'sister', 'wife', 'aunt', 'niece', 'empress', 'queen', 'princess', 'duchess', 'lady', 'dame', 'waitress', 'actress', 'goddess', 'policewoman', 'postwoman', 'heroine', 'witch', 'stewardess', 'she'] \n",
      "\n",
      "[-0.19101251 -0.07181384 -0.33231439 -0.14172502 -0.20329372 -0.14672175\n",
      " -0.19757875 -0.02550667  0.28624678 -0.14977498 -0.0266901   0.09609589\n",
      " -0.10380705  0.11877606 -0.01527086 -0.04162245 -0.13963664 -0.1828927\n",
      " -0.14708484 -0.38281677] \n",
      " \n",
      "\n",
      "['lady', 'saleswoman', 'noblewoman', 'hostess', 'coquette', 'nun', 'heroine', 'actress', 'chairwoman', 'businesswoman', 'spokeswoman', 'waitress', 'councilwoman', 'stateswoman', 'policewoman', 'countrywomen', 'horsewoman', 'headmistress', 'governess', 'widow', 'witch', 'fiancee'] \n",
      "\n",
      "[-0.10380705  0.18485372  0.21867605 -0.1828927  -0.04162245  0.04124399\n",
      " -0.01527086  0.0710687  -0.08816735 -0.14708484  0.03851407] \n",
      " \n",
      "\n",
      "['baker', 'counselor', 'nanny', 'librarians', 'socialite', 'assistant', 'tailor', 'dancer', 'hairdresser', 'cashier', 'secretary', 'clerk', 'stenographer', 'optometrist', 'housekeeper', 'bookkeeper', 'homemaker', 'nurse', 'stylist', 'receptionist'] \n",
      "\n",
      "[ 0.2449971  -0.04545566  0.00894363  0.08557067  0.08139141 -0.07965659\n",
      "  0.20743154 -0.07452289  0.03742427  0.03030302  0.14591143 -0.16702582\n",
      "  0.14498526 -0.1833591   0.16452367] \n",
      " \n",
      "\n",
      "['woman', 'women', 'she', 'her', 'her', 'hers', 'girl', 'girls', 'female', 'feminine'] \n",
      "\n",
      "[-0.15539584 -0.12933664 -0.36871822 -0.51594405 -0.51594405  0.02125265\n",
      " -0.01122741  0.08976883  0.06622632  0.12544297] \n",
      " \n",
      "\n",
      "['sister', 'female', 'woman', 'girl', 'daughter', 'she', 'hers', 'her'] \n",
      "\n",
      "[-0.01912146  0.06622632 -0.15539584 -0.01122741 -0.07291275 -0.36871822\n",
      "  0.02125265 -0.51594405] \n",
      " \n",
      "\n",
      "['woman', 'girl', 'she', 'mother', 'daughter', 'gal', 'female', 'her', 'herself', 'Mary'] \n",
      "\n",
      "[-0.15539584 -0.01122741 -0.36871822 -0.16199444 -0.07291275  0.29713201\n",
      "  0.06622632 -0.51594405 -0.20157862] \n",
      " \n",
      "\n",
      "['woman', 'girl', 'mother', 'daughter', 'sister', 'wife', 'aunt', 'niece', 'empress', 'queen', 'princess', 'duchess', 'lady', 'dame', 'waitress', 'actress', 'goddess', 'policewoman', 'postwoman', 'heroine', 'witch', 'stewardess', 'she'] \n",
      "\n",
      "[-0.15539584 -0.01122741 -0.16199444 -0.07291275 -0.01912146 -0.1610849\n",
      "  0.06014685  0.36808673  0.37985375  0.13873786  0.20618536  0.39948202\n",
      "  0.23499881  0.47897455  0.31203676  0.18323883  0.17740902  0.11840217\n",
      "  0.10780327 -0.36871822] \n",
      " \n",
      "\n",
      "['lady', 'saleswoman', 'noblewoman', 'hostess', 'coquette', 'nun', 'heroine', 'actress', 'chairwoman', 'businesswoman', 'spokeswoman', 'waitress', 'councilwoman', 'stateswoman', 'policewoman', 'countrywomen', 'horsewoman', 'headmistress', 'governess', 'widow', 'witch', 'fiancee'] \n",
      "\n",
      "[0.23499881 0.45382017 0.04466144 0.23329118 0.11840217 0.18323883\n",
      " 0.27726573 0.31203676 0.16002485 0.27766133 0.16933411 0.10780327\n",
      " 0.35984897] \n",
      " \n",
      "\n",
      "['baker', 'counselor', 'nanny', 'librarians', 'socialite', 'assistant', 'tailor', 'dancer', 'hairdresser', 'cashier', 'secretary', 'clerk', 'stenographer', 'optometrist', 'housekeeper', 'bookkeeper', 'homemaker', 'nurse', 'stylist', 'receptionist'] \n",
      "\n",
      "[0.13948618 0.40107488 0.41755701 0.28172059 0.24859648 0.14172169\n",
      " 0.34894633 0.38094786 0.05667012 0.10827759 0.04358558 0.25727491\n",
      " 0.42052675 0.25229393 0.01260297 0.28948534 0.32355064] \n",
      " \n",
      "\n",
      "['woman', 'women', 'she', 'her', 'her', 'hers', 'girl', 'girls', 'female', 'feminine'] \n",
      "\n",
      "[-0.19101251 -0.16811562 -0.38281677 -0.38537144 -0.38537144 -0.19637266\n",
      " -0.07181384 -0.03656899 -0.21149572 -0.0683847 ] \n",
      " \n",
      "\n",
      "['sister', 'female', 'woman', 'girl', 'daughter', 'she', 'hers', 'her'] \n",
      "\n",
      "[-0.20329372 -0.21149572 -0.19101251 -0.07181384 -0.14172502 -0.38281677\n",
      " -0.19637266 -0.38537144] \n",
      " \n",
      "\n",
      "['woman', 'girl', 'she', 'mother', 'daughter', 'gal', 'female', 'her', 'herself', 'Mary'] \n",
      "\n",
      "[-0.19101251 -0.07181384 -0.38281677 -0.33231439 -0.14172502  0.11046532\n",
      " -0.21149572 -0.38537144 -0.29162606] \n",
      " \n",
      "\n",
      "['woman', 'girl', 'mother', 'daughter', 'sister', 'wife', 'aunt', 'niece', 'empress', 'queen', 'princess', 'duchess', 'lady', 'dame', 'waitress', 'actress', 'goddess', 'policewoman', 'postwoman', 'heroine', 'witch', 'stewardess', 'she'] \n",
      "\n",
      "[-0.19101251 -0.07181384 -0.33231439 -0.14172502 -0.20329372 -0.14672175\n",
      " -0.19757875 -0.02550667  0.28624678 -0.14977498 -0.0266901   0.09609589\n",
      " -0.10380705  0.11877606 -0.01527086 -0.04162245 -0.13963664 -0.1828927\n",
      " -0.14708484 -0.38281677] \n",
      " \n",
      "\n",
      "['lady', 'saleswoman', 'noblewoman', 'hostess', 'coquette', 'nun', 'heroine', 'actress', 'chairwoman', 'businesswoman', 'spokeswoman', 'waitress', 'councilwoman', 'stateswoman', 'policewoman', 'countrywomen', 'horsewoman', 'headmistress', 'governess', 'widow', 'witch', 'fiancee'] \n",
      "\n",
      "[-0.10380705  0.18485372  0.21867605 -0.1828927  -0.04162245  0.04124399\n",
      " -0.01527086  0.0710687  -0.08816735 -0.14708484  0.03851407] \n",
      " \n",
      "\n",
      "['baker', 'counselor', 'nanny', 'librarians', 'socialite', 'assistant', 'tailor', 'dancer', 'hairdresser', 'cashier', 'secretary', 'clerk', 'stenographer', 'optometrist', 'housekeeper', 'bookkeeper', 'homemaker', 'nurse', 'stylist', 'receptionist'] \n",
      "\n",
      "[ 0.2449971  -0.04545566  0.00894363  0.08557067  0.08139141 -0.07965659\n",
      "  0.20743154 -0.07452289  0.03742427  0.03030302  0.14591143 -0.16702582\n",
      "  0.14498526 -0.1833591   0.16452367] \n",
      " \n",
      "\n",
      "['woman', 'women', 'she', 'her', 'her', 'hers', 'girl', 'girls', 'female', 'feminine'] \n",
      "\n",
      "[-0.15539584 -0.12933664 -0.36871822 -0.51594405 -0.51594405  0.02125265\n",
      " -0.01122741  0.08976883  0.06622632  0.12544297] \n",
      " \n",
      "\n",
      "['sister', 'female', 'woman', 'girl', 'daughter', 'she', 'hers', 'her'] \n",
      "\n",
      "[-0.01912146  0.06622632 -0.15539584 -0.01122741 -0.07291275 -0.36871822\n",
      "  0.02125265 -0.51594405] \n",
      " \n",
      "\n",
      "['woman', 'girl', 'she', 'mother', 'daughter', 'gal', 'female', 'her', 'herself', 'Mary'] \n",
      "\n",
      "[-0.15539584 -0.01122741 -0.36871822 -0.16199444 -0.07291275  0.29713201\n",
      "  0.06622632 -0.51594405 -0.20157862] \n",
      " \n",
      "\n",
      "['woman', 'girl', 'mother', 'daughter', 'sister', 'wife', 'aunt', 'niece', 'empress', 'queen', 'princess', 'duchess', 'lady', 'dame', 'waitress', 'actress', 'goddess', 'policewoman', 'postwoman', 'heroine', 'witch', 'stewardess', 'she'] \n",
      "\n",
      "[-0.15539584 -0.01122741 -0.16199444 -0.07291275 -0.01912146 -0.1610849\n",
      "  0.06014685  0.36808673  0.37985375  0.13873786  0.20618536  0.39948202\n",
      "  0.23499881  0.47897455  0.31203676  0.18323883  0.17740902  0.11840217\n",
      "  0.10780327 -0.36871822] \n",
      " \n",
      "\n",
      "['lady', 'saleswoman', 'noblewoman', 'hostess', 'coquette', 'nun', 'heroine', 'actress', 'chairwoman', 'businesswoman', 'spokeswoman', 'waitress', 'councilwoman', 'stateswoman', 'policewoman', 'countrywomen', 'horsewoman', 'headmistress', 'governess', 'widow', 'witch', 'fiancee'] \n",
      "\n",
      "[0.23499881 0.45382017 0.04466144 0.23329118 0.11840217 0.18323883\n",
      " 0.27726573 0.31203676 0.16002485 0.27766133 0.16933411 0.10780327\n",
      " 0.35984897] \n",
      " \n",
      "\n",
      "['baker', 'counselor', 'nanny', 'librarians', 'socialite', 'assistant', 'tailor', 'dancer', 'hairdresser', 'cashier', 'secretary', 'clerk', 'stenographer', 'optometrist', 'housekeeper', 'bookkeeper', 'homemaker', 'nurse', 'stylist', 'receptionist'] \n",
      "\n",
      "[0.13948618 0.40107488 0.41755701 0.28172059 0.24859648 0.14172169\n",
      " 0.34894633 0.38094786 0.05667012 0.10827759 0.04358558 0.25727491\n",
      " 0.42052675 0.25229393 0.01260297 0.28948534 0.32355064] \n",
      " \n",
      "\n",
      "['woman', 'women', 'she', 'her', 'her', 'hers', 'girl', 'girls', 'female', 'feminine'] \n",
      "\n",
      "[-0.19101251 -0.16811562 -0.38281677 -0.38537144 -0.38537144 -0.19637266\n",
      " -0.07181384 -0.03656899 -0.21149572 -0.0683847 ] \n",
      " \n",
      "\n",
      "['sister', 'female', 'woman', 'girl', 'daughter', 'she', 'hers', 'her'] \n",
      "\n",
      "[-0.20329372 -0.21149572 -0.19101251 -0.07181384 -0.14172502 -0.38281677\n",
      " -0.19637266 -0.38537144] \n",
      " \n",
      "\n",
      "['woman', 'girl', 'she', 'mother', 'daughter', 'gal', 'female', 'her', 'herself', 'Mary'] \n",
      "\n",
      "[-0.19101251 -0.07181384 -0.38281677 -0.33231439 -0.14172502  0.11046532\n",
      " -0.21149572 -0.38537144 -0.29162606] \n",
      " \n",
      "\n",
      "['woman', 'girl', 'mother', 'daughter', 'sister', 'wife', 'aunt', 'niece', 'empress', 'queen', 'princess', 'duchess', 'lady', 'dame', 'waitress', 'actress', 'goddess', 'policewoman', 'postwoman', 'heroine', 'witch', 'stewardess', 'she'] \n",
      "\n",
      "[-0.19101251 -0.07181384 -0.33231439 -0.14172502 -0.20329372 -0.14672175\n",
      " -0.19757875 -0.02550667  0.28624678 -0.14977498 -0.0266901   0.09609589\n",
      " -0.10380705  0.11877606 -0.01527086 -0.04162245 -0.13963664 -0.1828927\n",
      " -0.14708484 -0.38281677] \n",
      " \n",
      "\n",
      "['lady', 'saleswoman', 'noblewoman', 'hostess', 'coquette', 'nun', 'heroine', 'actress', 'chairwoman', 'businesswoman', 'spokeswoman', 'waitress', 'councilwoman', 'stateswoman', 'policewoman', 'countrywomen', 'horsewoman', 'headmistress', 'governess', 'widow', 'witch', 'fiancee'] \n",
      "\n",
      "[-0.10380705  0.18485372  0.21867605 -0.1828927  -0.04162245  0.04124399\n",
      " -0.01527086  0.0710687  -0.08816735 -0.14708484  0.03851407] \n",
      " \n",
      "\n",
      "['baker', 'counselor', 'nanny', 'librarians', 'socialite', 'assistant', 'tailor', 'dancer', 'hairdresser', 'cashier', 'secretary', 'clerk', 'stenographer', 'optometrist', 'housekeeper', 'bookkeeper', 'homemaker', 'nurse', 'stylist', 'receptionist'] \n",
      "\n",
      "[ 0.2449971  -0.04545566  0.00894363  0.08557067  0.08139141 -0.07965659\n",
      "  0.20743154 -0.07452289  0.03742427  0.03030302  0.14591143 -0.16702582\n",
      "  0.14498526 -0.1833591   0.16452367] \n",
      " \n",
      "\n",
      "['woman', 'women', 'she', 'her', 'her', 'hers', 'girl', 'girls', 'female', 'feminine'] \n",
      "\n",
      "[-0.15539584 -0.12933664 -0.36871822 -0.51594405 -0.51594405  0.02125265\n",
      " -0.01122741  0.08976883  0.06622632  0.12544297] \n",
      " \n",
      "\n",
      "['sister', 'female', 'woman', 'girl', 'daughter', 'she', 'hers', 'her'] \n",
      "\n",
      "[-0.01912146  0.06622632 -0.15539584 -0.01122741 -0.07291275 -0.36871822\n",
      "  0.02125265 -0.51594405] \n",
      " \n",
      "\n",
      "['woman', 'girl', 'she', 'mother', 'daughter', 'gal', 'female', 'her', 'herself', 'Mary'] \n",
      "\n",
      "[-0.15539584 -0.01122741 -0.36871822 -0.16199444 -0.07291275  0.29713201\n",
      "  0.06622632 -0.51594405 -0.20157862] \n",
      " \n",
      "\n",
      "['woman', 'girl', 'mother', 'daughter', 'sister', 'wife', 'aunt', 'niece', 'empress', 'queen', 'princess', 'duchess', 'lady', 'dame', 'waitress', 'actress', 'goddess', 'policewoman', 'postwoman', 'heroine', 'witch', 'stewardess', 'she'] \n",
      "\n",
      "[-0.15539584 -0.01122741 -0.16199444 -0.07291275 -0.01912146 -0.1610849\n",
      "  0.06014685  0.36808673  0.37985375  0.13873786  0.20618536  0.39948202\n",
      "  0.23499881  0.47897455  0.31203676  0.18323883  0.17740902  0.11840217\n",
      "  0.10780327 -0.36871822] \n",
      " \n",
      "\n",
      "['lady', 'saleswoman', 'noblewoman', 'hostess', 'coquette', 'nun', 'heroine', 'actress', 'chairwoman', 'businesswoman', 'spokeswoman', 'waitress', 'councilwoman', 'stateswoman', 'policewoman', 'countrywomen', 'horsewoman', 'headmistress', 'governess', 'widow', 'witch', 'fiancee'] \n",
      "\n",
      "[0.23499881 0.45382017 0.04466144 0.23329118 0.11840217 0.18323883\n",
      " 0.27726573 0.31203676 0.16002485 0.27766133 0.16933411 0.10780327\n",
      " 0.35984897] \n",
      " \n",
      "\n",
      "['baker', 'counselor', 'nanny', 'librarians', 'socialite', 'assistant', 'tailor', 'dancer', 'hairdresser', 'cashier', 'secretary', 'clerk', 'stenographer', 'optometrist', 'housekeeper', 'bookkeeper', 'homemaker', 'nurse', 'stylist', 'receptionist'] \n",
      "\n",
      "[0.13948618 0.40107488 0.41755701 0.28172059 0.24859648 0.14172169\n",
      " 0.34894633 0.38094786 0.05667012 0.10827759 0.04358558 0.25727491\n",
      " 0.42052675 0.25229393 0.01260297 0.28948534 0.32355064] \n",
      " \n",
      "\n",
      "peak memory: 1510.57 MiB, increment: 0.01 MiB\n"
     ]
    }
   ],
   "source": [
    "%%memit\n",
    "for sim in similarity:\n",
    "        for i, j in zip(extracted_seeds, sim):\n",
    "            print(i, \"\\n\")\n",
    "            print(j, \"\\n \\n\")"
   ]
  },
  {
   "cell_type": "markdown",
   "id": "c21154d7",
   "metadata": {},
   "source": [
    "## Visualization"
   ]
  },
  {
   "cell_type": "code",
   "execution_count": 19,
   "id": "86454369",
   "metadata": {},
   "outputs": [
    {
     "data": {
      "image/png": "[encoded data removed]",
      "text/plain": [
       "<Figure size 432x288 with 1 Axes>"
      ]
     },
     "metadata": {},
     "output_type": "display_data"
    }
   ],
   "source": [
    " df1 = pd.DataFrame(\n",
    "    zip(similarity[0], seed_sets, [\"history and biography\"] * len(seeds)),\n",
    "    columns=[\"cosine similarity\", \"seed set\", \"dataset\"],\n",
    ")\n",
    "df2 = pd.DataFrame(\n",
    "    zip(similarity[1], seed_sets, [\"romance\"] * len(seeds)),\n",
    "    columns=[\"cosine similarity\", \"seed set\", \"dataset\"],\n",
    ")\n",
    "\n",
    "df = pd.concat([df1, df2])\n",
    "df = df.explode(\"cosine similarity\")\n",
    "df[\"cosine similarity\"] = df[\"cosine similarity\"].astype(\"float\")\n",
    "\n",
    "# Creating plot\n",
    "sns.set_theme(style=\"whitegrid\")\n",
    "fig, ax = plt.subplots()\n",
    "ax1 = sns.boxplot(\n",
    "    x=\"cosine similarity\", y=\"seed set\", hue=\"dataset\", data=df, palette=\"Accent\"\n",
    ")\n",
    "ax2 = sns.stripplot(\n",
    "    x=\"cosine similarity\",\n",
    "    y=\"seed set\",\n",
    "    hue=\"dataset\",\n",
    "    data=df,\n",
    "    jitter=True,\n",
    "    palette=\"Accent\",\n",
    "    dodge=True,\n",
    "    linewidth=1,\n",
    "    edgecolor=\"gray\",\n",
    ")\n",
    "\n",
    "legend = ax1.get_legend()\n",
    "handles = legend.legendHandles\n",
    "ax.legend(handles, [\"history and biography\", \"romance\"])\n",
    "plt.xlabel('cosine similairty to unpleasentness')\n",
    "# ax.set_xticklabels(['2011','2012','2013','2014','2015','2016','2017','2018'])\n",
    "\n",
    "# show plot\n",
    "plt.show()\n"
   ]
  },
  {
   "cell_type": "code",
   "execution_count": 20,
   "id": "9a8e3fec",
   "metadata": {},
   "outputs": [
    {
     "name": "stdout",
     "output_type": "stream",
     "text": [
      "Time taken is:  4.399393558502197\n"
     ]
    }
   ],
   "source": [
    "print(\"Time taken is: \", time.time() - start)"
   ]
  }
 ],
 "metadata": {
  "kernelspec": {
   "display_name": "Python 3 (ipykernel)",
   "language": "python",
   "name": "python3"
  },
  "language_info": {
   "codemirror_mode": {
    "name": "ipython",
    "version": 3
   },
   "file_extension": ".py",
   "mimetype": "text/x-python",
   "name": "python",
   "nbconvert_exporter": "python",
   "pygments_lexer": "ipython3",
   "version": "3.9.5"
  }
 },
 "nbformat": 4,
 "nbformat_minor": 5
}
