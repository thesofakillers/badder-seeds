{
 "cells": [
  {
   "cell_type": "code",
   "execution_count": 12,
   "id": "c416f8a2",
   "metadata": {},
   "outputs": [],
   "source": [
    "import os\n",
    "import time\n",
    "\n",
    "start = time.time()\n",
    "if os.path.isdir(\"../notebooks/\"):\n",
    "    os.chdir(\"..\")"
   ]
  },
  {
   "cell_type": "code",
   "execution_count": 13,
   "id": "5db09a6a",
   "metadata": {},
   "outputs": [
    {
     "name": "stdout",
     "output_type": "stream",
     "text": [
      "The memory_profiler extension is already loaded. To reload it, use:\n",
      "  %reload_ext memory_profiler\n"
     ]
    }
   ],
   "source": [
    "import json\n",
    "import random\n",
    "import itertools\n",
    "\n",
    "import numpy as np\n",
    "import pandas as pd\n",
    "import matplotlib.pyplot as plt\n",
    "import gensim.models as gm\n",
    "from tqdm import tqdm\n",
    "from gensim.models import KeyedVectors\n",
    "import seaborn as sns\n",
    "%load_ext memory_profiler\n",
    "\n",
    "from badseeds import replicate_bolukbasi\n",
    "from badseeds import utils, seedbank, metrics\n"
   ]
  },
  {
   "cell_type": "code",
   "execution_count": 14,
   "id": "203c5210",
   "metadata": {},
   "outputs": [],
   "source": [
    "# path to config json file containing paths to datasets. change if necessary\n",
    "CONFIG_PATH = \"./config.json\""
   ]
  },
  {
   "cell_type": "code",
   "execution_count": 15,
   "id": "554e6eeb",
   "metadata": {},
   "outputs": [],
   "source": [
    "with open(CONFIG_PATH, \"r\") as f:\n",
    "    config = json.load(f)"
   ]
  },
  {
   "cell_type": "code",
   "execution_count": 16,
   "id": "80c17f8e",
   "metadata": {},
   "outputs": [],
   "source": [
    "# for replicability\n",
    "np.random.seed(42)\n",
    "random.seed(42)"
   ]
  },
  {
   "cell_type": "markdown",
   "id": "e62bd0dd",
   "metadata": {},
   "source": [
    "## Models and Data"
   ]
  },
  {
   "cell_type": "markdown",
   "id": "ebccc814",
   "metadata": {},
   "source": [
    "### Models"
   ]
  },
  {
   "cell_type": "code",
   "execution_count": 26,
   "id": "0ef28ca0",
   "metadata": {},
   "outputs": [
    {
     "name": "stdout",
     "output_type": "stream",
     "text": [
      "b'vectors_sample10.kv'\n",
      "b'vectors_sample14.kv'\n",
      "b'vectors_sample18.kv'\n",
      "b'vectors_sample7.kv'\n",
      "b'vectors_sample11.kv'\n",
      "b'vectors_sample17.kv'\n",
      "b'vectors_sample16.kv'\n",
      "b'vectors_sample5.kv'\n",
      "b'vectors_sample3.kv'\n",
      "b'vectors_sample9.kv'\n",
      "b'vectors_sample13.kv'\n",
      "b'vectors_sample19.kv'\n",
      "b'vectors_sample12.kv'\n",
      "b'vectors_sample6.kv'\n",
      "b'vectors_sample2.kv'\n",
      "b'vectors_sample15.kv'\n",
      "b'vectors_sample20.kv'\n",
      "b'vectors_sample4.kv'\n",
      "b'vectors_sample1.kv'\n",
      "b'vectors_sample8.kv'\n",
      "peak memory: 1581.37 MiB, increment: 0.00 MiB\n"
     ]
    }
   ],
   "source": [
    "%%memit\n",
    "models = []\n",
    "\n",
    "# load google news word2vec\n",
    "# Load vectors directly from the file\n",
    "# models.append(\n",
    "#     KeyedVectors.load_word2vec_format(\n",
    "#         os.path.join(\n",
    "#             config[\"models\"][\"dir_path\"], config[\"models\"][\"google_news_subpath\"]\n",
    "#         )\n",
    "#         + \".bin\",\n",
    "#         binary=True,\n",
    "#     )\n",
    "# )\n",
    "\n",
    "direct = os.fsencode(\n",
    "    os.path.join(\n",
    "        config[\"models\"][\"dir_path\"], config[\"models\"][\"nyt_subpath\"][\"0\"]\n",
    "    )\n",
    ")\n",
    "\n",
    "for filename in os.listdir(direct):\n",
    "    print(filename)\n",
    "    f = os.path.join(direct, filename)\n",
    "\n",
    "    # checking if it is a file\n",
    "    if os.path.isfile(f):\n",
    "        f = os.fsdecode(f)\n",
    "        models.append(KeyedVectors.load(f))"
   ]
  },
  {
   "cell_type": "markdown",
   "id": "8bdc6a09",
   "metadata": {},
   "source": [
    "### Seeds"
   ]
  },
  {
   "cell_type": "code",
   "execution_count": 27,
   "id": "6fec88df",
   "metadata": {},
   "outputs": [
    {
     "name": "stdout",
     "output_type": "stream",
     "text": [
      "peak memory: 1581.81 MiB, increment: 0.43 MiB\n"
     ]
    }
   ],
   "source": [
    "%%memit\n",
    "# get desired seeds:\n",
    "\n",
    "seed = seedbank.seedbanking(config[\"seeds\"][\"dir_path\"] + \"seeds.json\", index=\"ID\")\n",
    "\n",
    "seed_genres = [\"gender pairs\", \"social class pairs\", \"chinese-hispanic name pairs\"]\n",
    "\n",
    "seed_list = [\n",
    "    [\n",
    "        \"definitional_female-Bolukbasi_et_al_2016\",\n",
    "        \"definitional_male-Bolukbasi_et_al_2016\",\n",
    "    ],\n",
    "    [\n",
    "        \"upperclass-Kozlowski_et_al_2019\",\n",
    "        \"lowerclass-Kozlowski_et_al_2019\",\n",
    "    ],\n",
    "    [\n",
    "        \"names_chinese-Garg_et_al_2018\",\n",
    "        \"names_hispanic-Garg_et_al_2018\",\n",
    "    ],\n",
    "]\n",
    "\n",
    "# hard coded shuffled seeds from appendix of the oirginal paper\n",
    "\n",
    "shuffled_seeds = [\n",
    "    [\n",
    "        [\n",
    "            \"herself\",\n",
    "            \"woman\",\n",
    "            \"daughter\",\n",
    "            \"mary\",\n",
    "            \"her\",\n",
    "            \"girl\",\n",
    "            \"mother\",\n",
    "            \"she\",\n",
    "            \"female\",\n",
    "            \"gal\",\n",
    "        ],\n",
    "        [\n",
    "            \"man\",\n",
    "            \"his\",\n",
    "            \"he\",\n",
    "            \"son\",\n",
    "            \"guy\",\n",
    "            \"himself\",\n",
    "            \"father\",\n",
    "            \"boy\",\n",
    "            \"male\",\n",
    "            \"john\",\n",
    "        ],\n",
    "    ],\n",
    "    [\n",
    "        [\n",
    "            \"richer\",\n",
    "            \"opulent\",\n",
    "            \"luxury\",\n",
    "            \"affluent\",\n",
    "            \"rich\",\n",
    "            \"affluence\",\n",
    "            \"richest\",\n",
    "            \"expensive\",\n",
    "        ],\n",
    "        [\n",
    "            \"poorer\",\n",
    "            \"impoverished\",\n",
    "            \"poorest\",\n",
    "            \"cheap\",\n",
    "            \"needy\",\n",
    "            \"poverty\",\n",
    "            \"inexpensive\",\n",
    "            \"poor\",\n",
    "        ],\n",
    "    ],\n",
    "    [\n",
    "        [\n",
    "            \"tang\",\n",
    "            \"chang\",\n",
    "            \"chu\",\n",
    "            \"yang\",\n",
    "            \"wu\",\n",
    "            \"hong\",\n",
    "            \"huang\",\n",
    "            \"wong\",\n",
    "            \"hu\",\n",
    "            \"liu\",\n",
    "            \"lin\",\n",
    "            \"chen\",\n",
    "            \"liang\",\n",
    "            \"chung\",\n",
    "            \"li\",\n",
    "            \"ng\",\n",
    "            \"wang\",\n",
    "        ],\n",
    "        [\n",
    "            \"ruiz\",\n",
    "            \"rodriguez\",\n",
    "            \"diaz\",\n",
    "            \"perez\",\n",
    "            \"lopez\",\n",
    "            \"vargas\",\n",
    "            \"alvarez\",\n",
    "            \"garcia\",\n",
    "            \"cruz\",\n",
    "            \"torres\",\n",
    "            \"gonzalez\",\n",
    "            \"soto\",\n",
    "            \"martinez\",\n",
    "            \"medina\",\n",
    "            \"rivera\",\n",
    "            \"castillo\",\n",
    "            \"castro\",\n",
    "            \"mendoza\",\n",
    "            \"sanchez\",\n",
    "            \"gomez\",\n",
    "        ],\n",
    "    ],\n",
    "]\n"
   ]
  },
  {
   "cell_type": "markdown",
   "id": "5683ae68",
   "metadata": {},
   "source": [
    "### Visualization and Function call"
   ]
  },
  {
   "cell_type": "code",
   "execution_count": 28,
   "id": "9abbabb3",
   "metadata": {},
   "outputs": [
    {
     "name": "stdout",
     "output_type": "stream",
     "text": [
      "\"Key 'Mary' not present\"\n",
      "\"Key 'John' not present\"\n",
      "\"Key 'Mary' not present\"\n",
      "\"Key 'John' not present\"\n",
      "\"Key 'Mary' not present\"\n",
      "\"Key 'John' not present\"\n",
      "\"Key 'Mary' not present\"\n",
      "\"Key 'John' not present\"\n",
      "\"Key 'Mary' not present\"\n",
      "\"Key 'John' not present\"\n",
      "\"Key 'Mary' not present\"\n",
      "\"Key 'John' not present\"\n",
      "\"Key 'Mary' not present\"\n",
      "\"Key 'John' not present\"\n",
      "\"Key 'Mary' not present\"\n",
      "\"Key 'John' not present\"\n",
      "\"Key 'Mary' not present\"\n",
      "\"Key 'John' not present\"\n",
      "\"Key 'Mary' not present\"\n",
      "\"Key 'John' not present\"\n",
      "\"Key 'Mary' not present\"\n",
      "\"Key 'John' not present\"\n",
      "\"Key 'Mary' not present\"\n",
      "\"Key 'John' not present\"\n",
      "\"Key 'Mary' not present\"\n",
      "\"Key 'John' not present\"\n",
      "\"Key 'Mary' not present\"\n",
      "\"Key 'John' not present\"\n",
      "\"Key 'Mary' not present\"\n",
      "\"Key 'John' not present\"\n",
      "\"Key 'Mary' not present\"\n",
      "\"Key 'John' not present\"\n",
      "\"Key 'Mary' not present\"\n",
      "\"Key 'John' not present\"\n",
      "\"Key 'Mary' not present\"\n",
      "\"Key 'John' not present\"\n",
      "\"Key 'Mary' not present\"\n",
      "\"Key 'John' not present\"\n",
      "\"Key 'Mary' not present\"\n",
      "\"Key 'John' not present\"\n",
      "\"Key 'chu' not present\"\n",
      "\"Key 'chu' not present\"\n"
     ]
    },
    {
     "data": {
      "image/png": "[encoded data removed]",
      "text/plain": [
       "<Figure size 864x360 with 3 Axes>"
      ]
     },
     "metadata": {
      "needs_background": "light"
     },
     "output_type": "display_data"
    },
    {
     "name": "stdout",
     "output_type": "stream",
     "text": [
      "peak memory: 1583.18 MiB, increment: 1.37 MiB\n"
     ]
    }
   ],
   "source": [
    "%%memit\n",
    "\n",
    "x = np.arange(10)\n",
    "width = 0.4\n",
    "\n",
    "fig, axes = plt.subplots(1, 3)\n",
    "fig.set_size_inches(w=12, h=5)\n",
    "# for row in axes\n",
    "for idx, ax in enumerate(axes):\n",
    "\n",
    "    # lower case seeds? she didnt do it in appendix (doesnt make sense tho)\n",
    "    seed_lists = [seed.loc[seed_set][\"Seeds\"] for seed_set in seed_list[idx]]\n",
    "    seed1 = [item.lower() for item in seed_lists[0]]\n",
    "    seed2 = [item.lower() for item in seed_lists[1]]\n",
    "\n",
    "    seed1_shuf = (shuffled_seeds[idx])[0]\n",
    "    seed2_shuf = (shuffled_seeds[idx])[1]\n",
    "\n",
    "    variance_ordered, variance_rnd, variance_inshuffle = replicate_bolukbasi.pca_seeds_model(\n",
    "        seed1, seed2, models, seed1_shuf, seed2_shuf\n",
    "    )\n",
    "\n",
    "    ax.bar(\n",
    "        x - 0.2,\n",
    "        np.mean(variance_ordered, axis=0),\n",
    "        width,\n",
    "        yerr=np.std(variance_ordered, axis=0),\n",
    "        label=\"original order\",\n",
    "    )\n",
    "\n",
    "    ax.bar(\n",
    "        x + 0.2,\n",
    "        np.mean(variance_inshuffle, axis=0),\n",
    "        width,\n",
    "        yerr=np.std(variance_inshuffle, axis=0),\n",
    "        label=\"shuffled\",\n",
    "    )\n",
    "    ax.legend()\n",
    "    ax.set_xlabel(\"Prinicipal Component\")\n",
    "    ax.set_ylabel(\"Explained Variance\")\n",
    "    ax.set_title(seed_genres[idx])\n",
    "plt.show()"
   ]
  },
  {
   "cell_type": "code",
   "execution_count": 29,
   "id": "0d1ba093",
   "metadata": {},
   "outputs": [
    {
     "name": "stdout",
     "output_type": "stream",
     "text": [
      "Time taken is:  239.10539603233337\n"
     ]
    }
   ],
   "source": [
    "print(\"Time taken is: \", time.time() - start)"
   ]
  },
  {
   "cell_type": "code",
   "execution_count": 30,
   "id": "af372bfe",
   "metadata": {},
   "outputs": [],
   "source": [
    "plt.rc(\"pgf\", texsystem=\"pdflatex\")\n",
    "fig.savefig(\"images/fig3.pdf\", bbox_inches='tight', dpi = 600)"
   ]
  }
 ],
 "metadata": {
  "kernelspec": {
   "display_name": "Python 3 (ipykernel)",
   "language": "python",
   "name": "python3"
  },
  "language_info": {
   "codemirror_mode": {
    "name": "ipython",
    "version": 3
   },
   "file_extension": ".py",
   "mimetype": "text/x-python",
   "name": "python",
   "nbconvert_exporter": "python",
   "pygments_lexer": "ipython3",
   "version": "3.9.7"
  }
 },
 "nbformat": 4,
 "nbformat_minor": 5
}
