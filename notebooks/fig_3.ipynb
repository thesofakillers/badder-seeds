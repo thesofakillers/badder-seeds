{
 "cells": [
  {
   "cell_type": "code",
   "execution_count": 1,
   "id": "0d6349d7-8a89-4e18-8852-2c597b47df28",
   "metadata": {},
   "outputs": [],
   "source": [
    "%load_ext autoreload\n",
    "%autoreload 2"
   ]
  },
  {
   "cell_type": "code",
   "execution_count": 2,
   "id": "b9cf020e",
   "metadata": {},
   "outputs": [],
   "source": [
    "import os\n",
    "\n",
    "if os.path.isdir(\"../notebooks/\"):\n",
    "    os.chdir(\"../badseeds/\")"
   ]
  },
  {
   "cell_type": "code",
   "execution_count": 3,
   "id": "758a0268",
   "metadata": {},
   "outputs": [],
   "source": [
    "import json\n",
    "import random\n",
    "import itertools\n",
    "\n",
    "import numpy as np\n",
    "import pandas as pd\n",
    "import matplotlib.pyplot as plt\n",
    "import gensim.models as gm\n",
    "from tqdm import tqdm\n",
    "from gensim.models import KeyedVectors\n",
    "import seaborn as sns\n",
    "\n",
    "from badseeds import utils, seedbank, metrics, fig_3"
   ]
  },
  {
   "cell_type": "code",
   "execution_count": 4,
   "id": "645be8fe",
   "metadata": {},
   "outputs": [],
   "source": [
    "# path to config json file containing paths to datasets. change if necessary\n",
    "CONFIG_PATH = \"../config.json\""
   ]
  },
  {
   "cell_type": "code",
   "execution_count": 5,
   "id": "8991aa22",
   "metadata": {},
   "outputs": [],
   "source": [
    "with open(CONFIG_PATH, \"r\") as f:\n",
    "    config = json.load(f)"
   ]
  },
  {
   "cell_type": "code",
   "execution_count": 6,
   "id": "0fac986a",
   "metadata": {},
   "outputs": [],
   "source": [
    "# for replicability\n",
    "np.random.seed(42)\n",
    "random.seed(42)"
   ]
  },
  {
   "cell_type": "markdown",
   "id": "501397ac",
   "metadata": {},
   "source": [
    "## Models and Data"
   ]
  },
  {
   "cell_type": "markdown",
   "id": "c991137f",
   "metadata": {},
   "source": [
    "### Models"
   ]
  },
  {
   "cell_type": "code",
   "execution_count": 7,
   "id": "68075c30",
   "metadata": {},
   "outputs": [],
   "source": [
    "datasets = []\n",
    "\n",
    "filenames = [\n",
    "    \"goodreads_hb_subpath\",\n",
    "    \"goodreads_r_subpath\",\n",
    "]\n",
    "\n",
    "for f in filenames:\n",
    "    models = []\n",
    "    direct = os.fsencode(\n",
    "        os.path.join(config[\"models\"][\"dir_path\"], config[\"models\"][f][\"0\"])\n",
    "    )\n",
    "\n",
    "    for filename in os.listdir(direct):\n",
    "        f = os.path.join(direct, filename)\n",
    "\n",
    "        # checking if it is a file\n",
    "        if os.path.isfile(f):\n",
    "            f = os.fsdecode(f)\n",
    "            if \".npy\" not in f:\n",
    "                models.append(KeyedVectors.load(f))\n",
    "\n",
    "    datasets.append(models)"
   ]
  },
  {
   "cell_type": "markdown",
   "id": "aa17d793",
   "metadata": {},
   "source": [
    "## Seeds"
   ]
  },
  {
   "cell_type": "code",
   "execution_count": 8,
   "id": "0476e1e8",
   "metadata": {},
   "outputs": [],
   "source": [
    "seeds = seedbank.seedbanking(config[\"seeds\"][\"dir_path\"] + \"seeds.json\", index=True)\n",
    "\n",
    "# comment/uncomment the appropriate seed set as desired\n",
    "seed_sets = [\n",
    "    \"female-Kozlowski_et_al_2019\",\n",
    "    \"female_1-Caliskan_et_al_2017\",\n",
    "    \"definitional_female-Bolukbasi_et_al_2016\",\n",
    "    \"female_singular-Hoyle_et_al_2019\",\n",
    "    \"female_definition_words_2-Zhao_et_al_2018\",\n",
    "    \"female_stereotype_words-Zhao_et_al_2018\",\n",
    "]\n",
    "\n",
    "# seed_sets = [\n",
    "#     \"male_1-Caliskan_et_al_2017\",\n",
    "#     \"male_2-Caliskan_et_al_2017\",\n",
    "#     \"male_pairs-Garg_et_al_2018\",\n",
    "#     \"male_definition_words_2-Zhao_et_al_2018\",\n",
    "#     \"male_stereotype_words-Zhao_et_al_2018\",\n",
    "#     \"male_2-Rudinger_et_al_2017\",\n",
    "# ]\n",
    "\n",
    "\n",
    "extracted_seeds = [seeds.loc[seed_set][\"Seeds\"] for seed_set in seed_sets]"
   ]
  },
  {
   "cell_type": "markdown",
   "id": "d83310a9",
   "metadata": {},
   "source": [
    "## Function call "
   ]
  },
  {
   "cell_type": "code",
   "execution_count": 10,
   "id": "c9910e3f",
   "metadata": {},
   "outputs": [],
   "source": [
    "similarity = fig_3.figure_3(extracted_seeds, datasets)"
   ]
  },
  {
   "cell_type": "code",
   "execution_count": 11,
   "id": "30ea6d35",
   "metadata": {},
   "outputs": [
    {
     "name": "stdout",
     "output_type": "stream",
     "text": [
      "['woman', 'women', 'she', 'her', 'her', 'hers', 'girl', 'girls', 'female', 'feminine'] \n",
      "\n",
      "[-0.17371292 -0.17547012 -0.35278643 -0.56608529 -0.56608529  0.02731732\n",
      " -0.06506962 -0.04182799 -0.04475303  0.31767634] \n",
      " \n",
      "\n",
      "['sister', 'female', 'woman', 'girl', 'daughter', 'she', 'hers', 'her'] \n",
      "\n",
      "[ 0.00432326 -0.04475303 -0.17371292 -0.06506962 -0.01148665 -0.35278643\n",
      "  0.02731732 -0.56608529] \n",
      " \n",
      "\n",
      "['woman', 'girl', 'she', 'mother', 'daughter', 'gal', 'female', 'her', 'herself', 'mary'] \n",
      "\n",
      "[-0.17371292 -0.06506962 -0.35278643 -0.06054574 -0.01148665  0.33908163\n",
      " -0.04475303 -0.56608529 -0.2415492   0.18632142] \n",
      " \n",
      "\n",
      "['woman', 'girl', 'mother', 'daughter', 'sister', 'wife', 'aunt', 'niece', 'empress', 'queen', 'princess', 'duchess', 'lady', 'dame', 'waitress', 'actress', 'goddess', 'policewoman', 'postwoman', 'heroine', 'witch', 'stewardess', 'she'] \n",
      "\n",
      "[-0.17371292 -0.06506962 -0.06054574 -0.01148665  0.00432326 -0.0860239\n",
      "  0.25674622  0.4963297   0.5491383   0.12658233  0.24319959  0.58806627\n",
      "  0.12331457  0.66101149  0.47194115  0.22552312  0.40241097 -0.20726657\n",
      "  0.09176207  0.24105023  0.53051629 -0.35278643] \n",
      " \n",
      "\n",
      "['lady', 'saleswoman', 'noblewoman', 'hostess', 'coquette', 'nun', 'heroine', 'actress', 'chairwoman', 'businesswoman', 'spokeswoman', 'waitress', 'councilwoman', 'stateswoman', 'policewoman', 'countrywomen', 'horsewoman', 'headmistress', 'governess', 'widow', 'witch', 'fiancee'] \n",
      "\n",
      "[ 0.12331457  0.13870687  0.64771071  0.51693751  0.7179654   0.38220229\n",
      "  0.09176207  0.22552312  0.45490152  0.47194115 -0.20726657  0.61455795\n",
      "  0.47709304  0.51891551  0.47685173  0.32104614  0.24105023  0.53144224] \n",
      " \n",
      "\n",
      "['baker', 'counselor', 'nanny', 'librarians', 'socialite', 'assistant', 'tailor', 'dancer', 'hairdresser', 'cashier', 'secretary', 'clerk', 'stenographer', 'optometrist', 'housekeeper', 'bookkeeper', 'homemaker', 'nurse', 'stylist', 'receptionist'] \n",
      "\n",
      "[0.13578798 0.46176522 0.59141277 0.399541   0.41847573 0.35686279\n",
      " 0.51636976 0.54019425 0.50536012 0.6655259  0.2831869  0.29860218\n",
      " 0.56601248 0.47096924 0.42403409 0.55252897 0.44823146 0.11278522\n",
      " 0.4939074  0.50219432] \n",
      " \n",
      "\n",
      "['woman', 'women', 'she', 'her', 'her', 'hers', 'girl', 'girls', 'female', 'feminine'] \n",
      "\n",
      "[-0.13813278 -0.11939491 -0.2656349  -0.28680376 -0.28680376 -0.13508633\n",
      " -0.0365875  -0.00974898 -0.06678959 -0.04286194] \n",
      " \n",
      "\n",
      "['sister', 'female', 'woman', 'girl', 'daughter', 'she', 'hers', 'her'] \n",
      "\n",
      "[-0.15765141 -0.06678959 -0.13813278 -0.0365875  -0.13984208 -0.2656349\n",
      " -0.13508633 -0.28680376] \n",
      " \n",
      "\n",
      "['woman', 'girl', 'she', 'mother', 'daughter', 'gal', 'female', 'her', 'herself', 'mary'] \n",
      "\n",
      "[-0.13813278 -0.0365875  -0.2656349  -0.27437199 -0.13984208  0.10805444\n",
      " -0.06678959 -0.28680376 -0.21658998 -0.0369153 ] \n",
      " \n",
      "\n",
      "['woman', 'girl', 'mother', 'daughter', 'sister', 'wife', 'aunt', 'niece', 'empress', 'queen', 'princess', 'duchess', 'lady', 'dame', 'waitress', 'actress', 'goddess', 'policewoman', 'postwoman', 'heroine', 'witch', 'stewardess', 'she'] \n",
      "\n",
      "[-0.13813278 -0.0365875  -0.27437199 -0.13984208 -0.15765141 -0.16617975\n",
      " -0.14203824  0.01688611  0.1507761  -0.13322946 -0.17056708  0.03564259\n",
      " -0.11435101  0.00519486 -0.02891403 -0.00724153 -0.09839232  0.23571403\n",
      " -0.08113178 -0.11212401  0.106      -0.2656349 ] \n",
      " \n",
      "\n",
      "['lady', 'saleswoman', 'noblewoman', 'hostess', 'coquette', 'nun', 'heroine', 'actress', 'chairwoman', 'businesswoman', 'spokeswoman', 'waitress', 'councilwoman', 'stateswoman', 'policewoman', 'countrywomen', 'horsewoman', 'headmistress', 'governess', 'widow', 'witch', 'fiancee'] \n",
      "\n",
      "[-0.11435101  0.10455912  0.15935743  0.1455839   0.18378977 -0.08113178\n",
      " -0.00724153 -0.02080121 -0.07891238 -0.02891403  0.23571403 -0.00251109\n",
      " -0.07616307 -0.11212401  0.03485811] \n",
      " \n",
      "\n",
      "['baker', 'counselor', 'nanny', 'librarians', 'socialite', 'assistant', 'tailor', 'dancer', 'hairdresser', 'cashier', 'secretary', 'clerk', 'stenographer', 'optometrist', 'housekeeper', 'bookkeeper', 'homemaker', 'nurse', 'stylist', 'receptionist'] \n",
      "\n",
      "[ 0.14109356 -0.01165766  0.02292551  0.03166366  0.05354843 -0.03899389\n",
      "  0.2846708  -0.02292148  0.16083315 -0.02800551  0.07415758  0.0104746\n",
      " -0.08265548  0.12581811 -0.11363626  0.09929459  0.14155646] \n",
      " \n",
      "\n"
     ]
    }
   ],
   "source": [
    "for sim in similarity:\n",
    "    for i, j in zip(extracted_seeds, sim):\n",
    "        print(i, \"\\n\")\n",
    "        print(j, \"\\n \\n\")"
   ]
  },
  {
   "cell_type": "markdown",
   "id": "c21154d7",
   "metadata": {},
   "source": [
    "## Visualization"
   ]
  },
  {
   "cell_type": "code",
   "execution_count": 12,
   "id": "86454369",
   "metadata": {
    "scrolled": true
   },
   "outputs": [
    {
     "data": {
      "image/png": "[encoded data removed]",
      "text/plain": [
       "<Figure size 432x288 with 1 Axes>"
      ]
     },
     "metadata": {},
     "output_type": "display_data"
    }
   ],
   "source": [
    "df1 = pd.DataFrame(\n",
    "    zip(similarity[0], seed_sets, [\"history and biography\"] * len(seeds)),\n",
    "    columns=[\"cosine similarity\", \"seed set\", \"dataset\"],\n",
    ")\n",
    "df2 = pd.DataFrame(\n",
    "    zip(similarity[1], seed_sets, [\"romance\"] * len(seeds)),\n",
    "    columns=[\"cosine similarity\", \"seed set\", \"dataset\"],\n",
    ")\n",
    "\n",
    "df = pd.concat([df1, df2])\n",
    "df = df.explode(\"cosine similarity\")\n",
    "df[\"cosine similarity\"] = df[\"cosine similarity\"].astype(\"float\")\n",
    "\n",
    "# Creating plot\n",
    "sns.set_theme(style=\"whitegrid\")\n",
    "fig, ax = plt.subplots()\n",
    "ax1 = sns.boxplot(\n",
    "    x=\"cosine similarity\", y=\"seed set\", hue=\"dataset\", data=df, palette=\"Accent\"\n",
    ")\n",
    "ax2 = sns.stripplot(\n",
    "    x=\"cosine similarity\",\n",
    "    y=\"seed set\",\n",
    "    hue=\"dataset\",\n",
    "    data=df,\n",
    "    jitter=True,\n",
    "    palette=\"Accent\",\n",
    "    dodge=True,\n",
    "    linewidth=1,\n",
    "    edgecolor=\"gray\",\n",
    ")\n",
    "\n",
    "legend = ax1.get_legend()\n",
    "handles = legend.legendHandles\n",
    "ax.legend(handles, [\"romance\", \"history and biography\"])\n",
    "plt.xlabel(\"cosine similairty to unpleasentness\")\n",
    "\n",
    "\n",
    "# show plot\n",
    "plt.show()"
   ]
  },
  {
   "cell_type": "code",
   "execution_count": 13,
   "id": "8e270bcd",
   "metadata": {},
   "outputs": [],
   "source": [
    "# save to latex\n",
    "plt.rc(\"pgf\", texsystem=\"pdflatex\")\n",
    "fig.savefig(\"images/fig_2_female.pdf\", bbox_inches=\"tight\", dpi=600)"
   ]
  }
 ],
 "metadata": {
  "kernelspec": {
   "display_name": "Python 3 (ipykernel)",
   "language": "python",
   "name": "python3"
  },
  "language_info": {
   "codemirror_mode": {
    "name": "ipython",
    "version": 3
   },
   "file_extension": ".py",
   "mimetype": "text/x-python",
   "name": "python",
   "nbconvert_exporter": "python",
   "pygments_lexer": "ipython3",
   "version": "3.9.5"
  }
 },
 "nbformat": 4,
 "nbformat_minor": 5
}
