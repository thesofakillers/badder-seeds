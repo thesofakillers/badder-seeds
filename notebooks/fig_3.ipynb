{
 "cells": [
  {
   "cell_type": "code",
   "execution_count": 12,
   "id": "c416f8a2",
   "metadata": {},
   "outputs": [],
   "source": [
    "import os\n",
    "\n",
    "if os.path.isdir(\"../notebooks/\"):\n",
    "    os.chdir(\"..\")"
   ]
  },
  {
   "cell_type": "code",
   "execution_count": 13,
   "id": "5db09a6a",
   "metadata": {},
   "outputs": [],
   "source": [
    "import json\n",
    "import random\n",
    "import itertools\n",
    "\n",
    "import numpy as np\n",
    "import pandas as pd\n",
    "import matplotlib.pyplot as plt\n",
    "import gensim.models as gm\n",
    "from tqdm import tqdm\n",
    "from gensim.models import KeyedVectors\n",
    "import seaborn as sns\n",
    "\n",
    "from badseeds import replicate_bolukbasi\n",
    "from badseeds import utils, seedbank, metrics\n"
   ]
  },
  {
   "cell_type": "code",
   "execution_count": 14,
   "id": "203c5210",
   "metadata": {},
   "outputs": [],
   "source": [
    "# path to config json file containing paths to datasets. change if necessary\n",
    "CONFIG_PATH = \"./config.json\""
   ]
  },
  {
   "cell_type": "code",
   "execution_count": 15,
   "id": "554e6eeb",
   "metadata": {},
   "outputs": [],
   "source": [
    "with open(CONFIG_PATH, \"r\") as f:\n",
    "    config = json.load(f)"
   ]
  },
  {
   "cell_type": "code",
   "execution_count": 16,
   "id": "80c17f8e",
   "metadata": {},
   "outputs": [],
   "source": [
    "# for replicability\n",
    "np.random.seed(42)\n",
    "random.seed(42)"
   ]
  },
  {
   "cell_type": "markdown",
   "id": "e62bd0dd",
   "metadata": {},
   "source": [
    "## Models and Data"
   ]
  },
  {
   "cell_type": "markdown",
   "id": "ebccc814",
   "metadata": {},
   "source": [
    "### Models"
   ]
  },
  {
   "cell_type": "code",
   "execution_count": 17,
   "id": "0ef28ca0",
   "metadata": {},
   "outputs": [],
   "source": [
    "models = []\n",
    "\n",
    "# load google news word2vec\n",
    "# Load vectors directly from the file\n",
    "models.append(\n",
    "    KeyedVectors.load_word2vec_format(\n",
    "        os.path.join(\n",
    "            config[\"models\"][\"dir_path\"], config[\"models\"][\"google_news_subpath\"]\n",
    "        )\n",
    "        + \".bin\",\n",
    "        binary=True,\n",
    "    )\n",
    ")\n",
    "\n",
    "# direct = os.fsencode(\n",
    "#     os.path.join(\n",
    "#         config[\"models\"][\"dir_path\"], config[\"models\"][\"nyt_subpath\"][\"10\"]\n",
    "#     )\n",
    "# )\n",
    "\n",
    "# for filename in os.listdir(direct):\n",
    "#     print(filename)\n",
    "#     f = os.path.join(direct, filename)\n",
    "\n",
    "#     # checking if it is a file\n",
    "#     if os.path.isfile(f):\n",
    "#         f = os.fsdecode(f)\n",
    "#         models.append(KeyedVectors.load(f))"
   ]
  },
  {
   "cell_type": "markdown",
   "id": "8bdc6a09",
   "metadata": {},
   "source": [
    "### Seeds"
   ]
  },
  {
   "cell_type": "code",
   "execution_count": 18,
   "id": "6fec88df",
   "metadata": {},
   "outputs": [],
   "source": [
    "# get desired seeds:\n",
    "\n",
    "seed = seedbank.seedbanking(config[\"seeds\"][\"dir_path\"] + \"seeds.json\", index=\"ID\")\n",
    "\n",
    "seed_genres = [\"gender pairs\", \"social class pairs\", \"chinese-hispanic name pairs\"]\n",
    "\n",
    "seed_list = [\n",
    "    [\n",
    "        \"definitional_female-Bolukbasi_et_al_2016\",\n",
    "        \"definitional_male-Bolukbasi_et_al_2016\",\n",
    "    ],\n",
    "    [\n",
    "        \"upperclass-Kozlowski_et_al_2019\",\n",
    "        \"lowerclass-Kozlowski_et_al_2019\",\n",
    "    ],\n",
    "    [\n",
    "        \"names_chinese-Garg_et_al_2018\",\n",
    "        \"names_hispanic-Garg_et_al_2018\",\n",
    "    ],\n",
    "]\n",
    "\n",
    "# hard coded shuffled seeds from appendix of the oirginal paper\n",
    "\n",
    "shuffled_seeds = [\n",
    "    [\n",
    "        [\n",
    "            \"herself\",\n",
    "            \"woman\",\n",
    "            \"daughter\",\n",
    "            \"Mary\",\n",
    "            \"her\",\n",
    "            \"girl\",\n",
    "            \"mother\",\n",
    "            \"she\",\n",
    "            \"female\",\n",
    "            \"gal\",\n",
    "        ],\n",
    "        [\n",
    "            \"man\",\n",
    "            \"his\",\n",
    "            \"he\",\n",
    "            \"son\",\n",
    "            \"guy\",\n",
    "            \"himself\",\n",
    "            \"father\",\n",
    "            \"boy\",\n",
    "            \"male\",\n",
    "            \"John\",\n",
    "        ],\n",
    "    ],\n",
    "    [\n",
    "        [\n",
    "            \"richer\",\n",
    "            \"opulent\",\n",
    "            \"luxury\",\n",
    "            \"affluent\",\n",
    "            \"rich\",\n",
    "            \"affluence\",\n",
    "            \"richest\",\n",
    "            \"expensive\",\n",
    "        ],\n",
    "        [\n",
    "            \"poorer\",\n",
    "            \"impoverished\",\n",
    "            \"poorest\",\n",
    "            \"cheap\",\n",
    "            \"needy\",\n",
    "            \"poverty\",\n",
    "            \"inexpensive\",\n",
    "            \"poor\",\n",
    "        ],\n",
    "    ],\n",
    "    [\n",
    "        [\n",
    "            \"tang\",\n",
    "            \"chang\",\n",
    "            \"chu\",\n",
    "            \"yang\",\n",
    "            \"wu\",\n",
    "            \"hong\",\n",
    "            \"huang\",\n",
    "            \"wong\",\n",
    "            \"hu\",\n",
    "            \"liu\",\n",
    "            \"lin\",\n",
    "            \"chen\",\n",
    "            \"liang\",\n",
    "            \"chung\",\n",
    "            \"li\",\n",
    "            \"ng\",\n",
    "            \"wang\",\n",
    "        ],\n",
    "        [\n",
    "            \"ruiz\",\n",
    "            \"rodriguez\",\n",
    "            \"diaz\",\n",
    "            \"perez\",\n",
    "            \"lopez\",\n",
    "            \"vargas\",\n",
    "            \"alvarez\",\n",
    "            \"garcia\",\n",
    "            \"cruz\",\n",
    "            \"torres\",\n",
    "            \"gonzalez\",\n",
    "            \"soto\",\n",
    "            \"martinez\",\n",
    "            \"medina\",\n",
    "            \"rivera\",\n",
    "            \"castillo\",\n",
    "            \"castro\",\n",
    "            \"mendoza\",\n",
    "            \"sanchez\",\n",
    "            \"gomez\",\n",
    "        ],\n",
    "    ],\n",
    "]\n"
   ]
  },
  {
   "cell_type": "markdown",
   "id": "5683ae68",
   "metadata": {},
   "source": [
    "### Visualization and Function call"
   ]
  },
  {
   "cell_type": "code",
   "execution_count": 20,
   "id": "9abbabb3",
   "metadata": {},
   "outputs": [
    {
     "ename": "NameError",
     "evalue": "name 'metrics' is not defined",
     "output_type": "error",
     "traceback": [
      "\u001b[0;31m---------------------------------------------------------------------------\u001b[0m",
      "\u001b[0;31mNameError\u001b[0m                                 Traceback (most recent call last)",
      "Input \u001b[0;32mIn [20]\u001b[0m, in \u001b[0;36m<module>\u001b[0;34m\u001b[0m\n\u001b[1;32m     13\u001b[0m seed1_shuf \u001b[38;5;241m=\u001b[39m (shuffled_seeds[idx])[\u001b[38;5;241m0\u001b[39m]\n\u001b[1;32m     14\u001b[0m seed2_shuf \u001b[38;5;241m=\u001b[39m (shuffled_seeds[idx])[\u001b[38;5;241m1\u001b[39m]\n\u001b[0;32m---> 16\u001b[0m variance_ordered, variance_rnd, variance_inshuffle \u001b[38;5;241m=\u001b[39m \u001b[43mreplicate_bolukbasi\u001b[49m\u001b[38;5;241;43m.\u001b[39;49m\u001b[43mpca_seeds_model\u001b[49m\u001b[43m(\u001b[49m\n\u001b[1;32m     17\u001b[0m \u001b[43m    \u001b[49m\u001b[43mseed1\u001b[49m\u001b[43m,\u001b[49m\u001b[43m \u001b[49m\u001b[43mseed2\u001b[49m\u001b[43m,\u001b[49m\u001b[43m \u001b[49m\u001b[43mmodels\u001b[49m\u001b[43m,\u001b[49m\u001b[43m \u001b[49m\u001b[43mseed1_shuf\u001b[49m\u001b[43m,\u001b[49m\u001b[43m \u001b[49m\u001b[43mseed2_shuf\u001b[49m\n\u001b[1;32m     18\u001b[0m \u001b[43m\u001b[49m\u001b[43m)\u001b[49m\n\u001b[1;32m     20\u001b[0m ax\u001b[38;5;241m.\u001b[39mbar(\n\u001b[1;32m     21\u001b[0m     x \u001b[38;5;241m-\u001b[39m \u001b[38;5;241m0.2\u001b[39m,\n\u001b[1;32m     22\u001b[0m     np\u001b[38;5;241m.\u001b[39mmean(variance_ordered, axis\u001b[38;5;241m=\u001b[39m\u001b[38;5;241m0\u001b[39m),\n\u001b[0;32m   (...)\u001b[0m\n\u001b[1;32m     25\u001b[0m     label\u001b[38;5;241m=\u001b[39m\u001b[38;5;124m\"\u001b[39m\u001b[38;5;124moriginal order\u001b[39m\u001b[38;5;124m\"\u001b[39m,\n\u001b[1;32m     26\u001b[0m )\n\u001b[1;32m     28\u001b[0m ax\u001b[38;5;241m.\u001b[39mbar(\n\u001b[1;32m     29\u001b[0m     x \u001b[38;5;241m+\u001b[39m \u001b[38;5;241m0.2\u001b[39m,\n\u001b[1;32m     30\u001b[0m     np\u001b[38;5;241m.\u001b[39mmean(variance_inshuffle, axis\u001b[38;5;241m=\u001b[39m\u001b[38;5;241m0\u001b[39m),\n\u001b[0;32m   (...)\u001b[0m\n\u001b[1;32m     33\u001b[0m     label\u001b[38;5;241m=\u001b[39m\u001b[38;5;124m\"\u001b[39m\u001b[38;5;124mshuffled\u001b[39m\u001b[38;5;124m\"\u001b[39m,\n\u001b[1;32m     34\u001b[0m )\n",
      "File \u001b[0;32m~/Documents/mlrc-2021/badseeds/replicate_bolukbasi.py:111\u001b[0m, in \u001b[0;36mpca_seeds_model\u001b[0;34m(seed1, seed2, models, seed1_shuf, seed2_shuf, components)\u001b[0m\n\u001b[1;32m    108\u001b[0m variance_inshuffle \u001b[38;5;241m=\u001b[39m []\n\u001b[1;32m    110\u001b[0m \u001b[38;5;28;01mfor\u001b[39;00m idx, model \u001b[38;5;129;01min\u001b[39;00m \u001b[38;5;28menumerate\u001b[39m(models):\n\u001b[0;32m--> 111\u001b[0m     pca_ordered \u001b[38;5;241m=\u001b[39m \u001b[43mmetrics\u001b[49m\u001b[38;5;241m.\u001b[39mdo_pca(seed1, seed2, model)\n\u001b[1;32m    112\u001b[0m     pca_rnd \u001b[38;5;241m=\u001b[39m metrics\u001b[38;5;241m.\u001b[39mdo_pca(seed1_rnd, seed2_rnd, model)\n\u001b[1;32m    113\u001b[0m     pca_inshuffle \u001b[38;5;241m=\u001b[39m metrics\u001b[38;5;241m.\u001b[39mdo_pca(seed1_shuf, seed2_shuf, model)\n",
      "\u001b[0;31mNameError\u001b[0m: name 'metrics' is not defined"
     ]
    },
    {
     "data": {
      "image/png": "[encoded data removed]",
      "text/plain": [
       "<Figure size 432x288 with 3 Axes>"
      ]
     },
     "metadata": {
      "needs_background": "light"
     },
     "output_type": "display_data"
    }
   ],
   "source": [
    "    x = np.arange(10)\n",
    "    width = 0.4\n",
    "    fig, axes = plt.subplots(1, 3)\n",
    "\n",
    "    # for row in axes\n",
    "    for idx, ax in enumerate(axes):\n",
    "\n",
    "        # lower case seeds? she didnt do it in appendix (doesnt make sense tho)\n",
    "        seed_lists = [seed.loc[seed_set][\"Seeds\"] for seed_set in seed_list[idx]]\n",
    "        seed1 = [item.lower() for item in seed_lists[0]]\n",
    "        seed2 = [item.lower() for item in seed_lists[1]]\n",
    "\n",
    "        seed1_shuf = (shuffled_seeds[idx])[0]\n",
    "        seed2_shuf = (shuffled_seeds[idx])[1]\n",
    "\n",
    "        variance_ordered, variance_rnd, variance_inshuffle = replicate_bolukbasi.pca_seeds_model(\n",
    "            seed1, seed2, models, seed1_shuf, seed2_shuf\n",
    "        )\n",
    "\n",
    "        ax.bar(\n",
    "            x - 0.2,\n",
    "            np.mean(variance_ordered, axis=0),\n",
    "            width,\n",
    "            yerr=np.std(variance_ordered, axis=0),\n",
    "            label=\"original order\",\n",
    "        )\n",
    "\n",
    "        ax.bar(\n",
    "            x + 0.2,\n",
    "            np.mean(variance_inshuffle, axis=0),\n",
    "            width,\n",
    "            yerr=np.std(variance_inshuffle, axis=0),\n",
    "            label=\"shuffled\",\n",
    "        )\n",
    "        ax.legend()\n",
    "        ax.set_xlabel(\"Prinicipal Component\")\n",
    "        ax.set_ylabel(\"Explained Variance\")\n",
    "        ax.set_title(seed_genres[idx])\n",
    "    plt.show()"
   ]
  }
 ],
 "metadata": {
  "kernelspec": {
   "display_name": "Python 3 (ipykernel)",
   "language": "python",
   "name": "python3"
  },
  "language_info": {
   "codemirror_mode": {
    "name": "ipython",
    "version": 3
   },
   "file_extension": ".py",
   "mimetype": "text/x-python",
   "name": "python",
   "nbconvert_exporter": "python",
   "pygments_lexer": "ipython3",
   "version": "3.9.7"
  }
 },
 "nbformat": 4,
 "nbformat_minor": 5
}
