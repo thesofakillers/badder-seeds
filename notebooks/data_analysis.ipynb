{
 "cells": [
  {
   "cell_type": "code",
   "execution_count": 1,
   "id": "e8297d0e-6a30-4651-a806-e7ed684da042",
   "metadata": {},
   "outputs": [],
   "source": [
    "import os\n",
    "if os.path.isdir('../notebooks/'): os.chdir('..')"
   ]
  },
  {
   "cell_type": "code",
   "execution_count": 2,
   "id": "3cf86f9d-063d-4cc8-bd25-19d9bcda2176",
   "metadata": {},
   "outputs": [],
   "source": [
    "import re\n",
    "\n",
    "import spacy\n",
    "from tqdm.auto import tqdm\n",
    "import pandas as pd\n",
    "import numpy as np\n",
    "\n",
    "from badseeds import preprocess"
   ]
  },
  {
   "cell_type": "markdown",
   "id": "15509f51-cbe6-49a1-90bb-0159c54e54aa",
   "metadata": {},
   "source": [
    "## Preprocessing\n",
    "\n",
    "If you already have saved proprocessed the datasets, preprocessing can be skipped, reading the preprocessed results from disk (Default). Otherwise, change the `PREPROC_NOW` flag to `True` to preprocess the data now. This will take a long time.\n"
   ]
  },
  {
   "cell_type": "code",
   "execution_count": 6,
   "id": "a676a87b-5284-4c14-b7d5-d6164e88d1e9",
   "metadata": {},
   "outputs": [
    {
     "name": "stdout",
     "output_type": "stream",
     "text": [
      "reading nyt\n",
      "reading wikitext\n",
      "reading goodreads romance\n"
     ]
    },
    {
     "name": "stderr",
     "output_type": "stream",
     "text": [
      "100%|██████████████████████| 8/8 [00:50<00:00,  6.30s/it]\n"
     ]
    },
    {
     "name": "stdout",
     "output_type": "stream",
     "text": [
      "reading goodreads history/biography\n"
     ]
    },
    {
     "name": "stderr",
     "output_type": "stream",
     "text": [
      "100%|██████████████████████| 5/5 [00:53<00:00, 10.79s/it]\n"
     ]
    }
   ],
   "source": [
    "PREPROC_NOW = False\n",
    "# if your paths are different, change them accordingly (paths to preproc files)\n",
    "NYT_PATH = \"data/processed/nytimes_news_articles.bin\"\n",
    "WIKI_PATH = \"data/processed/wiki.train.tokens.bin\"\n",
    "GRR_PATH = \"data/processed/romance\"\n",
    "GRHB_PATH = \"data/processed/history_biography\"\n",
    "# preprocess if requested. This will save results to disk.\n",
    "if PREPROC_NOW:\n",
    "    preprocess.preprocess_datasets()\n",
    "# read preprocessed results from disk\n",
    "pproc_data = preprocess.read_preprocessed_datasets(\n",
    "    NYT_PATH, WIKI_PATH, GRR_PATH, GRHB_PATH\n",
    ")"
   ]
  },
  {
   "cell_type": "markdown",
   "id": "99592670-70e6-409f-84aa-02bb753e4447",
   "metadata": {},
   "source": [
    "## Table 2"
   ]
  },
  {
   "cell_type": "markdown",
   "id": "59b40cc9-6127-44e7-904b-b98dca49e72e",
   "metadata": {},
   "source": [
    "### Prepare"
   ]
  },
  {
   "cell_type": "code",
   "execution_count": 3,
   "id": "6281930f-5ae8-4384-a5d4-595f699f566c",
   "metadata": {},
   "outputs": [],
   "source": [
    "table_2 = pd.DataFrame(\n",
    "    index=pd.Series(\n",
    "        [\"NYT\", \"WikiText\", \"Goodreads (Romance)\", \"Goodreads (History/Biography)\"],\n",
    "        name=\"Dataset\",\n",
    "    ),\n",
    "    columns=[\n",
    "        r\"Total Documents_ours\",\n",
    "        \"Total Documents_theirs\",\n",
    "        \"Total Words_ours\",\n",
    "        \"Total Words_theirs\",\n",
    "        \"Vocabulary Size_ours\",\n",
    "        \"Vocabulary Size_theirs\",\n",
    "        \"Mean Document Length_ours\",\n",
    "        \"Mean Document Length_theirs\",\n",
    "    ],\n",
    ")\n",
    "table_2.columns = table_2.columns.str.split('_', expand=True)\n",
    "table_2[(\"Total Documents\", \"theirs\")] = [8888, 28472, 197000, 136000]\n",
    "table_2[(\"Total Words\", \"theirs\")] = [7244457, 99197146, 24856924, 14324947]\n",
    "table_2[(\"Vocabulary Size\", \"theirs\")] = [162998, 546828, 214572, 163171]\n",
    "table_2[(\"Mean Document Length\", \"theirs\")] = [815 , 3484, 126, 105]"
   ]
  },
  {
   "cell_type": "code",
   "execution_count": 4,
   "id": "abd62205-09f2-4665-8495-c73b780345b5",
   "metadata": {},
   "outputs": [
    {
     "data": {
      "text/html": [
       "<div>\n",
       "<style scoped>\n",
       "    .dataframe tbody tr th:only-of-type {\n",
       "        vertical-align: middle;\n",
       "    }\n",
       "\n",
       "    .dataframe tbody tr th {\n",
       "        vertical-align: top;\n",
       "    }\n",
       "\n",
       "    .dataframe thead tr th {\n",
       "        text-align: left;\n",
       "    }\n",
       "\n",
       "    .dataframe thead tr:last-of-type th {\n",
       "        text-align: right;\n",
       "    }\n",
       "</style>\n",
       "<table border=\"1\" class=\"dataframe\">\n",
       "  <thead>\n",
       "    <tr>\n",
       "      <th></th>\n",
       "      <th colspan=\"2\" halign=\"left\">Total Documents</th>\n",
       "      <th colspan=\"2\" halign=\"left\">Total Words</th>\n",
       "      <th colspan=\"2\" halign=\"left\">Vocabulary Size</th>\n",
       "      <th colspan=\"2\" halign=\"left\">Mean Document Length</th>\n",
       "    </tr>\n",
       "    <tr>\n",
       "      <th></th>\n",
       "      <th>ours</th>\n",
       "      <th>theirs</th>\n",
       "      <th>ours</th>\n",
       "      <th>theirs</th>\n",
       "      <th>ours</th>\n",
       "      <th>theirs</th>\n",
       "      <th>ours</th>\n",
       "      <th>theirs</th>\n",
       "    </tr>\n",
       "    <tr>\n",
       "      <th>Dataset</th>\n",
       "      <th></th>\n",
       "      <th></th>\n",
       "      <th></th>\n",
       "      <th></th>\n",
       "      <th></th>\n",
       "      <th></th>\n",
       "      <th></th>\n",
       "      <th></th>\n",
       "    </tr>\n",
       "  </thead>\n",
       "  <tbody>\n",
       "    <tr>\n",
       "      <th>NYT</th>\n",
       "      <td>NaN</td>\n",
       "      <td>8888</td>\n",
       "      <td>NaN</td>\n",
       "      <td>7244457</td>\n",
       "      <td>NaN</td>\n",
       "      <td>162998</td>\n",
       "      <td>NaN</td>\n",
       "      <td>815</td>\n",
       "    </tr>\n",
       "    <tr>\n",
       "      <th>WikiText</th>\n",
       "      <td>NaN</td>\n",
       "      <td>28472</td>\n",
       "      <td>NaN</td>\n",
       "      <td>99197146</td>\n",
       "      <td>NaN</td>\n",
       "      <td>546828</td>\n",
       "      <td>NaN</td>\n",
       "      <td>3484</td>\n",
       "    </tr>\n",
       "    <tr>\n",
       "      <th>Goodreads (Romance)</th>\n",
       "      <td>NaN</td>\n",
       "      <td>197000</td>\n",
       "      <td>NaN</td>\n",
       "      <td>24856924</td>\n",
       "      <td>NaN</td>\n",
       "      <td>214572</td>\n",
       "      <td>NaN</td>\n",
       "      <td>126</td>\n",
       "    </tr>\n",
       "    <tr>\n",
       "      <th>Goodreads (History/Biography)</th>\n",
       "      <td>NaN</td>\n",
       "      <td>136000</td>\n",
       "      <td>NaN</td>\n",
       "      <td>14324947</td>\n",
       "      <td>NaN</td>\n",
       "      <td>163171</td>\n",
       "      <td>NaN</td>\n",
       "      <td>105</td>\n",
       "    </tr>\n",
       "  </tbody>\n",
       "</table>\n",
       "</div>"
      ],
      "text/plain": [
       "                              Total Documents         Total Words            \\\n",
       "                                         ours  theirs        ours    theirs   \n",
       "Dataset                                                                       \n",
       "NYT                                       NaN    8888         NaN   7244457   \n",
       "WikiText                                  NaN   28472         NaN  99197146   \n",
       "Goodreads (Romance)                       NaN  197000         NaN  24856924   \n",
       "Goodreads (History/Biography)             NaN  136000         NaN  14324947   \n",
       "\n",
       "                              Vocabulary Size         Mean Document Length  \\\n",
       "                                         ours  theirs                 ours   \n",
       "Dataset                                                                      \n",
       "NYT                                       NaN  162998                  NaN   \n",
       "WikiText                                  NaN  546828                  NaN   \n",
       "Goodreads (Romance)                       NaN  214572                  NaN   \n",
       "Goodreads (History/Biography)             NaN  163171                  NaN   \n",
       "\n",
       "                                      \n",
       "                              theirs  \n",
       "Dataset                               \n",
       "NYT                              815  \n",
       "WikiText                        3484  \n",
       "Goodreads (Romance)              126  \n",
       "Goodreads (History/Biography)    105  "
      ]
     },
     "execution_count": 4,
     "metadata": {},
     "output_type": "execute_result"
    }
   ],
   "source": [
    "table_2"
   ]
  },
  {
   "cell_type": "markdown",
   "id": "fba1708e-da15-4adf-b496-e83924c12110",
   "metadata": {},
   "source": [
    "### Total Documents"
   ]
  },
  {
   "cell_type": "code",
   "execution_count": 18,
   "id": "c8e34f8b-b46e-4d81-b205-4123ca0eae9c",
   "metadata": {},
   "outputs": [],
   "source": [
    "table_2[(\"Total Documents\", \"ours\")] = [len(docs) for _k, docs in pproc_data.items()]"
   ]
  },
  {
   "cell_type": "code",
   "execution_count": 19,
   "id": "e3fa2b7f-5744-4f61-922c-ac8c11e622e7",
   "metadata": {},
   "outputs": [
    {
     "data": {
      "text/html": [
       "<div>\n",
       "<style scoped>\n",
       "    .dataframe tbody tr th:only-of-type {\n",
       "        vertical-align: middle;\n",
       "    }\n",
       "\n",
       "    .dataframe tbody tr th {\n",
       "        vertical-align: top;\n",
       "    }\n",
       "\n",
       "    .dataframe thead tr th {\n",
       "        text-align: left;\n",
       "    }\n",
       "\n",
       "    .dataframe thead tr:last-of-type th {\n",
       "        text-align: right;\n",
       "    }\n",
       "</style>\n",
       "<table border=\"1\" class=\"dataframe\">\n",
       "  <thead>\n",
       "    <tr>\n",
       "      <th></th>\n",
       "      <th colspan=\"2\" halign=\"left\">Total Documents</th>\n",
       "      <th colspan=\"2\" halign=\"left\">Total Words</th>\n",
       "      <th colspan=\"2\" halign=\"left\">Vocabulary Size</th>\n",
       "      <th colspan=\"2\" halign=\"left\">Mean Document Length</th>\n",
       "    </tr>\n",
       "    <tr>\n",
       "      <th></th>\n",
       "      <th>ours</th>\n",
       "      <th>theirs</th>\n",
       "      <th>ours</th>\n",
       "      <th>theirs</th>\n",
       "      <th>ours</th>\n",
       "      <th>theirs</th>\n",
       "      <th>ours</th>\n",
       "      <th>theirs</th>\n",
       "    </tr>\n",
       "    <tr>\n",
       "      <th>Dataset</th>\n",
       "      <th></th>\n",
       "      <th></th>\n",
       "      <th></th>\n",
       "      <th></th>\n",
       "      <th></th>\n",
       "      <th></th>\n",
       "      <th></th>\n",
       "      <th></th>\n",
       "    </tr>\n",
       "  </thead>\n",
       "  <tbody>\n",
       "    <tr>\n",
       "      <th>NYT</th>\n",
       "      <td>8888</td>\n",
       "      <td>8888</td>\n",
       "      <td>NaN</td>\n",
       "      <td>7244457</td>\n",
       "      <td>NaN</td>\n",
       "      <td>162998</td>\n",
       "      <td>NaN</td>\n",
       "      <td>815</td>\n",
       "    </tr>\n",
       "    <tr>\n",
       "      <th>WikiText</th>\n",
       "      <td>28472</td>\n",
       "      <td>28472</td>\n",
       "      <td>NaN</td>\n",
       "      <td>99197146</td>\n",
       "      <td>NaN</td>\n",
       "      <td>546828</td>\n",
       "      <td>NaN</td>\n",
       "      <td>3484</td>\n",
       "    </tr>\n",
       "    <tr>\n",
       "      <th>Goodreads (Romance)</th>\n",
       "      <td>194500</td>\n",
       "      <td>197000</td>\n",
       "      <td>NaN</td>\n",
       "      <td>24856924</td>\n",
       "      <td>NaN</td>\n",
       "      <td>214572</td>\n",
       "      <td>NaN</td>\n",
       "      <td>126</td>\n",
       "    </tr>\n",
       "    <tr>\n",
       "      <th>Goodreads (History/Biography)</th>\n",
       "      <td>135000</td>\n",
       "      <td>136000</td>\n",
       "      <td>NaN</td>\n",
       "      <td>14324947</td>\n",
       "      <td>NaN</td>\n",
       "      <td>163171</td>\n",
       "      <td>NaN</td>\n",
       "      <td>105</td>\n",
       "    </tr>\n",
       "  </tbody>\n",
       "</table>\n",
       "</div>"
      ],
      "text/plain": [
       "                              Total Documents         Total Words            \\\n",
       "                                         ours  theirs        ours    theirs   \n",
       "Dataset                                                                       \n",
       "NYT                                      8888    8888         NaN   7244457   \n",
       "WikiText                                28472   28472         NaN  99197146   \n",
       "Goodreads (Romance)                    194500  197000         NaN  24856924   \n",
       "Goodreads (History/Biography)          135000  136000         NaN  14324947   \n",
       "\n",
       "                              Vocabulary Size         Mean Document Length  \\\n",
       "                                         ours  theirs                 ours   \n",
       "Dataset                                                                      \n",
       "NYT                                       NaN  162998                  NaN   \n",
       "WikiText                                  NaN  546828                  NaN   \n",
       "Goodreads (Romance)                       NaN  214572                  NaN   \n",
       "Goodreads (History/Biography)             NaN  163171                  NaN   \n",
       "\n",
       "                                      \n",
       "                              theirs  \n",
       "Dataset                               \n",
       "NYT                              815  \n",
       "WikiText                        3484  \n",
       "Goodreads (Romance)              126  \n",
       "Goodreads (History/Biography)    105  "
      ]
     },
     "execution_count": 19,
     "metadata": {},
     "output_type": "execute_result"
    }
   ],
   "source": [
    "table_2"
   ]
  },
  {
   "cell_type": "markdown",
   "id": "083e3b9d-69ed-4912-a44f-a908a6018e4a",
   "metadata": {},
   "source": [
    "### Total Words"
   ]
  },
  {
   "cell_type": "code",
   "execution_count": 20,
   "id": "14cbf362-664e-4e9b-af9c-dfc94c2aaa87",
   "metadata": {},
   "outputs": [
    {
     "name": "stderr",
     "output_type": "stream",
     "text": [
      "100%|███████████| 8888/8888 [00:00<00:00, 1076431.45it/s]\n",
      "100%|█████████| 28472/28472 [00:00<00:00, 1168415.31it/s]\n",
      "100%|███████| 194500/194500 [00:00<00:00, 1590935.85it/s]\n",
      "100%|███████| 135000/135000 [00:00<00:00, 2343749.13it/s]\n"
     ]
    }
   ],
   "source": [
    "# just every token\n",
    "table_2[(\"Total Words\", \"ours\")] = [\n",
    "    np.sum([len(doc) for doc in tqdm(docs)]) for _k, docs in pproc_data.items()\n",
    "]"
   ]
  },
  {
   "cell_type": "code",
   "execution_count": 21,
   "id": "2ef63899-56a5-4ada-993d-9434bcb545bf",
   "metadata": {},
   "outputs": [
    {
     "data": {
      "text/html": [
       "<div>\n",
       "<style scoped>\n",
       "    .dataframe tbody tr th:only-of-type {\n",
       "        vertical-align: middle;\n",
       "    }\n",
       "\n",
       "    .dataframe tbody tr th {\n",
       "        vertical-align: top;\n",
       "    }\n",
       "\n",
       "    .dataframe thead tr th {\n",
       "        text-align: left;\n",
       "    }\n",
       "\n",
       "    .dataframe thead tr:last-of-type th {\n",
       "        text-align: right;\n",
       "    }\n",
       "</style>\n",
       "<table border=\"1\" class=\"dataframe\">\n",
       "  <thead>\n",
       "    <tr>\n",
       "      <th></th>\n",
       "      <th colspan=\"2\" halign=\"left\">Total Documents</th>\n",
       "      <th colspan=\"2\" halign=\"left\">Total Words</th>\n",
       "      <th colspan=\"2\" halign=\"left\">Vocabulary Size</th>\n",
       "      <th colspan=\"2\" halign=\"left\">Mean Document Length</th>\n",
       "    </tr>\n",
       "    <tr>\n",
       "      <th></th>\n",
       "      <th>ours</th>\n",
       "      <th>theirs</th>\n",
       "      <th>ours</th>\n",
       "      <th>theirs</th>\n",
       "      <th>ours</th>\n",
       "      <th>theirs</th>\n",
       "      <th>ours</th>\n",
       "      <th>theirs</th>\n",
       "    </tr>\n",
       "    <tr>\n",
       "      <th>Dataset</th>\n",
       "      <th></th>\n",
       "      <th></th>\n",
       "      <th></th>\n",
       "      <th></th>\n",
       "      <th></th>\n",
       "      <th></th>\n",
       "      <th></th>\n",
       "      <th></th>\n",
       "    </tr>\n",
       "  </thead>\n",
       "  <tbody>\n",
       "    <tr>\n",
       "      <th>NYT</th>\n",
       "      <td>8888</td>\n",
       "      <td>8888</td>\n",
       "      <td>8682929</td>\n",
       "      <td>7244457</td>\n",
       "      <td>NaN</td>\n",
       "      <td>162998</td>\n",
       "      <td>NaN</td>\n",
       "      <td>815</td>\n",
       "    </tr>\n",
       "    <tr>\n",
       "      <th>WikiText</th>\n",
       "      <td>28472</td>\n",
       "      <td>28472</td>\n",
       "      <td>103627993</td>\n",
       "      <td>99197146</td>\n",
       "      <td>NaN</td>\n",
       "      <td>546828</td>\n",
       "      <td>NaN</td>\n",
       "      <td>3484</td>\n",
       "    </tr>\n",
       "    <tr>\n",
       "      <th>Goodreads (Romance)</th>\n",
       "      <td>194500</td>\n",
       "      <td>197000</td>\n",
       "      <td>28537205</td>\n",
       "      <td>24856924</td>\n",
       "      <td>NaN</td>\n",
       "      <td>214572</td>\n",
       "      <td>NaN</td>\n",
       "      <td>126</td>\n",
       "    </tr>\n",
       "    <tr>\n",
       "      <th>Goodreads (History/Biography)</th>\n",
       "      <td>135000</td>\n",
       "      <td>136000</td>\n",
       "      <td>16381558</td>\n",
       "      <td>14324947</td>\n",
       "      <td>NaN</td>\n",
       "      <td>163171</td>\n",
       "      <td>NaN</td>\n",
       "      <td>105</td>\n",
       "    </tr>\n",
       "  </tbody>\n",
       "</table>\n",
       "</div>"
      ],
      "text/plain": [
       "                              Total Documents         Total Words            \\\n",
       "                                         ours  theirs        ours    theirs   \n",
       "Dataset                                                                       \n",
       "NYT                                      8888    8888     8682929   7244457   \n",
       "WikiText                                28472   28472   103627993  99197146   \n",
       "Goodreads (Romance)                    194500  197000    28537205  24856924   \n",
       "Goodreads (History/Biography)          135000  136000    16381558  14324947   \n",
       "\n",
       "                              Vocabulary Size         Mean Document Length  \\\n",
       "                                         ours  theirs                 ours   \n",
       "Dataset                                                                      \n",
       "NYT                                       NaN  162998                  NaN   \n",
       "WikiText                                  NaN  546828                  NaN   \n",
       "Goodreads (Romance)                       NaN  214572                  NaN   \n",
       "Goodreads (History/Biography)             NaN  163171                  NaN   \n",
       "\n",
       "                                      \n",
       "                              theirs  \n",
       "Dataset                               \n",
       "NYT                              815  \n",
       "WikiText                        3484  \n",
       "Goodreads (Romance)              126  \n",
       "Goodreads (History/Biography)    105  "
      ]
     },
     "execution_count": 21,
     "metadata": {},
     "output_type": "execute_result"
    }
   ],
   "source": [
    "table_2"
   ]
  },
  {
   "cell_type": "code",
   "execution_count": null,
   "id": "b5806a3c-d7da-491e-b1a9-70157127357f",
   "metadata": {},
   "outputs": [],
   "source": [
    "# # how many alphanumeric tokens\n",
    "# np.sum(\n",
    "#     [\n",
    "#         np.sum(doc.to_array([\"IS_ALPHA\", \"IS_DIGIT\"]).any(axis=1))\n",
    "#         for doc in tqdm(wiki_docs)\n",
    "#     ]\n",
    "# )"
   ]
  },
  {
   "cell_type": "markdown",
   "id": "7d6d47ec-5289-4e3b-968b-0dcace69f8d6",
   "metadata": {},
   "source": [
    "### Vocabulary Size"
   ]
  },
  {
   "cell_type": "code",
   "execution_count": 75,
   "id": "2ab535eb-bd55-4ca6-b7e7-46dbb83138dc",
   "metadata": {},
   "outputs": [
    {
     "name": "stdout",
     "output_type": "stream",
     "text": [
      "NYT\n"
     ]
    },
    {
     "name": "stderr",
     "output_type": "stream",
     "text": [
      "100%|██████████████| 8888/8888 [00:05<00:00, 1739.28it/s]\n"
     ]
    },
    {
     "name": "stdout",
     "output_type": "stream",
     "text": [
      "WikiText\n"
     ]
    },
    {
     "name": "stderr",
     "output_type": "stream",
     "text": [
      "100%|█████████████| 28472/28472 [02:01<00:00, 235.17it/s]\n"
     ]
    },
    {
     "name": "stdout",
     "output_type": "stream",
     "text": [
      "Goodreads (Romance)\n"
     ]
    },
    {
     "name": "stderr",
     "output_type": "stream",
     "text": [
      "100%|██████████| 194500/194500 [00:40<00:00, 4791.37it/s]\n"
     ]
    },
    {
     "name": "stdout",
     "output_type": "stream",
     "text": [
      "Goodreads (History/Biography)\n"
     ]
    },
    {
     "name": "stderr",
     "output_type": "stream",
     "text": [
      "100%|██████████| 135000/135000 [00:21<00:00, 6175.09it/s]\n"
     ]
    }
   ],
   "source": [
    "vocab_sizes = []\n",
    "for key, docs in pproc_data.items():\n",
    "    print(key)\n",
    "    vocab = set()\n",
    "    for doc in tqdm(docs):\n",
    "        for token in doc:\n",
    "            vocab.add(token.text)\n",
    "    vocab_sizes.append(len(vocab))"
   ]
  },
  {
   "cell_type": "code",
   "execution_count": 76,
   "id": "e7ec6437-6a1a-43e6-996e-459b6a671b2c",
   "metadata": {},
   "outputs": [],
   "source": [
    "table_2[(\"Vocabulary Size\", \"ours\")] = vocab_sizes"
   ]
  },
  {
   "cell_type": "code",
   "execution_count": 77,
   "id": "0507fa75-92b4-4603-9396-fbc95315a624",
   "metadata": {},
   "outputs": [
    {
     "data": {
      "text/html": [
       "<div>\n",
       "<style scoped>\n",
       "    .dataframe tbody tr th:only-of-type {\n",
       "        vertical-align: middle;\n",
       "    }\n",
       "\n",
       "    .dataframe tbody tr th {\n",
       "        vertical-align: top;\n",
       "    }\n",
       "\n",
       "    .dataframe thead tr th {\n",
       "        text-align: left;\n",
       "    }\n",
       "\n",
       "    .dataframe thead tr:last-of-type th {\n",
       "        text-align: right;\n",
       "    }\n",
       "</style>\n",
       "<table border=\"1\" class=\"dataframe\">\n",
       "  <thead>\n",
       "    <tr>\n",
       "      <th></th>\n",
       "      <th colspan=\"2\" halign=\"left\">Total Documents</th>\n",
       "      <th colspan=\"2\" halign=\"left\">Total Words</th>\n",
       "      <th colspan=\"2\" halign=\"left\">Vocabulary Size</th>\n",
       "      <th colspan=\"2\" halign=\"left\">Mean Document Length</th>\n",
       "    </tr>\n",
       "    <tr>\n",
       "      <th></th>\n",
       "      <th>ours</th>\n",
       "      <th>theirs</th>\n",
       "      <th>ours</th>\n",
       "      <th>theirs</th>\n",
       "      <th>ours</th>\n",
       "      <th>theirs</th>\n",
       "      <th>ours</th>\n",
       "      <th>theirs</th>\n",
       "    </tr>\n",
       "    <tr>\n",
       "      <th>Dataset</th>\n",
       "      <th></th>\n",
       "      <th></th>\n",
       "      <th></th>\n",
       "      <th></th>\n",
       "      <th></th>\n",
       "      <th></th>\n",
       "      <th></th>\n",
       "      <th></th>\n",
       "    </tr>\n",
       "  </thead>\n",
       "  <tbody>\n",
       "    <tr>\n",
       "      <th>NYT</th>\n",
       "      <td>8888</td>\n",
       "      <td>8888</td>\n",
       "      <td>8682929</td>\n",
       "      <td>7244457</td>\n",
       "      <td>109713</td>\n",
       "      <td>162998</td>\n",
       "      <td>NaN</td>\n",
       "      <td>815</td>\n",
       "    </tr>\n",
       "    <tr>\n",
       "      <th>WikiText</th>\n",
       "      <td>28472</td>\n",
       "      <td>28472</td>\n",
       "      <td>103627993</td>\n",
       "      <td>99197146</td>\n",
       "      <td>228318</td>\n",
       "      <td>546828</td>\n",
       "      <td>NaN</td>\n",
       "      <td>3484</td>\n",
       "    </tr>\n",
       "    <tr>\n",
       "      <th>Goodreads (Romance)</th>\n",
       "      <td>194500</td>\n",
       "      <td>197000</td>\n",
       "      <td>28537205</td>\n",
       "      <td>24856924</td>\n",
       "      <td>249114</td>\n",
       "      <td>214572</td>\n",
       "      <td>NaN</td>\n",
       "      <td>126</td>\n",
       "    </tr>\n",
       "    <tr>\n",
       "      <th>Goodreads (History/Biography)</th>\n",
       "      <td>135000</td>\n",
       "      <td>136000</td>\n",
       "      <td>16381558</td>\n",
       "      <td>14324947</td>\n",
       "      <td>193012</td>\n",
       "      <td>163171</td>\n",
       "      <td>NaN</td>\n",
       "      <td>105</td>\n",
       "    </tr>\n",
       "  </tbody>\n",
       "</table>\n",
       "</div>"
      ],
      "text/plain": [
       "                              Total Documents         Total Words            \\\n",
       "                                         ours  theirs        ours    theirs   \n",
       "Dataset                                                                       \n",
       "NYT                                      8888    8888     8682929   7244457   \n",
       "WikiText                                28472   28472   103627993  99197146   \n",
       "Goodreads (Romance)                    194500  197000    28537205  24856924   \n",
       "Goodreads (History/Biography)          135000  136000    16381558  14324947   \n",
       "\n",
       "                              Vocabulary Size         Mean Document Length  \\\n",
       "                                         ours  theirs                 ours   \n",
       "Dataset                                                                      \n",
       "NYT                                    109713  162998                  NaN   \n",
       "WikiText                               228318  546828                  NaN   \n",
       "Goodreads (Romance)                    249114  214572                  NaN   \n",
       "Goodreads (History/Biography)          193012  163171                  NaN   \n",
       "\n",
       "                                      \n",
       "                              theirs  \n",
       "Dataset                               \n",
       "NYT                              815  \n",
       "WikiText                        3484  \n",
       "Goodreads (Romance)              126  \n",
       "Goodreads (History/Biography)    105  "
      ]
     },
     "execution_count": 77,
     "metadata": {},
     "output_type": "execute_result"
    }
   ],
   "source": [
    "table_2"
   ]
  },
  {
   "cell_type": "markdown",
   "id": "9101b129-a254-4b97-b218-a220faccac4f",
   "metadata": {},
   "source": [
    "### Mean Document Length"
   ]
  },
  {
   "cell_type": "code",
   "execution_count": 78,
   "id": "e0ad6771-bac7-406c-9b80-878ade5f9477",
   "metadata": {},
   "outputs": [
    {
     "name": "stderr",
     "output_type": "stream",
     "text": [
      "100%|████████████| 8888/8888 [00:00<00:00, 276677.51it/s]\n",
      "100%|████████████| 28472/28472 [00:03<00:00, 7641.48it/s]\n",
      "100%|█████████| 194500/194500 [00:02<00:00, 79583.73it/s]\n",
      "100%|███████| 135000/135000 [00:00<00:00, 1683187.60it/s]\n"
     ]
    }
   ],
   "source": [
    "table_2[(\"Mean Document Length\", \"ours\")] = [\n",
    "    np.mean([len(doc) for doc in tqdm(docs)]) for _k, docs in pproc_data.items()\n",
    "]"
   ]
  },
  {
   "cell_type": "code",
   "execution_count": 79,
   "id": "72d9f51e-e484-4ceb-bf17-a6a3dbe693b4",
   "metadata": {},
   "outputs": [
    {
     "data": {
      "text/html": [
       "<div>\n",
       "<style scoped>\n",
       "    .dataframe tbody tr th:only-of-type {\n",
       "        vertical-align: middle;\n",
       "    }\n",
       "\n",
       "    .dataframe tbody tr th {\n",
       "        vertical-align: top;\n",
       "    }\n",
       "\n",
       "    .dataframe thead tr th {\n",
       "        text-align: left;\n",
       "    }\n",
       "\n",
       "    .dataframe thead tr:last-of-type th {\n",
       "        text-align: right;\n",
       "    }\n",
       "</style>\n",
       "<table border=\"1\" class=\"dataframe\">\n",
       "  <thead>\n",
       "    <tr>\n",
       "      <th></th>\n",
       "      <th colspan=\"2\" halign=\"left\">Total Documents</th>\n",
       "      <th colspan=\"2\" halign=\"left\">Total Words</th>\n",
       "      <th colspan=\"2\" halign=\"left\">Vocabulary Size</th>\n",
       "      <th colspan=\"2\" halign=\"left\">Mean Document Length</th>\n",
       "    </tr>\n",
       "    <tr>\n",
       "      <th></th>\n",
       "      <th>ours</th>\n",
       "      <th>theirs</th>\n",
       "      <th>ours</th>\n",
       "      <th>theirs</th>\n",
       "      <th>ours</th>\n",
       "      <th>theirs</th>\n",
       "      <th>ours</th>\n",
       "      <th>theirs</th>\n",
       "    </tr>\n",
       "    <tr>\n",
       "      <th>Dataset</th>\n",
       "      <th></th>\n",
       "      <th></th>\n",
       "      <th></th>\n",
       "      <th></th>\n",
       "      <th></th>\n",
       "      <th></th>\n",
       "      <th></th>\n",
       "      <th></th>\n",
       "    </tr>\n",
       "  </thead>\n",
       "  <tbody>\n",
       "    <tr>\n",
       "      <th>NYT</th>\n",
       "      <td>8888</td>\n",
       "      <td>8888</td>\n",
       "      <td>8682929</td>\n",
       "      <td>7244457</td>\n",
       "      <td>109713</td>\n",
       "      <td>162998</td>\n",
       "      <td>976.927205</td>\n",
       "      <td>815</td>\n",
       "    </tr>\n",
       "    <tr>\n",
       "      <th>WikiText</th>\n",
       "      <td>28472</td>\n",
       "      <td>28472</td>\n",
       "      <td>103627993</td>\n",
       "      <td>99197146</td>\n",
       "      <td>228318</td>\n",
       "      <td>546828</td>\n",
       "      <td>3639.645722</td>\n",
       "      <td>3484</td>\n",
       "    </tr>\n",
       "    <tr>\n",
       "      <th>Goodreads (Romance)</th>\n",
       "      <td>194500</td>\n",
       "      <td>197000</td>\n",
       "      <td>28537205</td>\n",
       "      <td>24856924</td>\n",
       "      <td>249114</td>\n",
       "      <td>214572</td>\n",
       "      <td>146.720848</td>\n",
       "      <td>126</td>\n",
       "    </tr>\n",
       "    <tr>\n",
       "      <th>Goodreads (History/Biography)</th>\n",
       "      <td>135000</td>\n",
       "      <td>136000</td>\n",
       "      <td>16381558</td>\n",
       "      <td>14324947</td>\n",
       "      <td>193012</td>\n",
       "      <td>163171</td>\n",
       "      <td>121.344874</td>\n",
       "      <td>105</td>\n",
       "    </tr>\n",
       "  </tbody>\n",
       "</table>\n",
       "</div>"
      ],
      "text/plain": [
       "                              Total Documents         Total Words            \\\n",
       "                                         ours  theirs        ours    theirs   \n",
       "Dataset                                                                       \n",
       "NYT                                      8888    8888     8682929   7244457   \n",
       "WikiText                                28472   28472   103627993  99197146   \n",
       "Goodreads (Romance)                    194500  197000    28537205  24856924   \n",
       "Goodreads (History/Biography)          135000  136000    16381558  14324947   \n",
       "\n",
       "                              Vocabulary Size         Mean Document Length  \\\n",
       "                                         ours  theirs                 ours   \n",
       "Dataset                                                                      \n",
       "NYT                                    109713  162998           976.927205   \n",
       "WikiText                               228318  546828          3639.645722   \n",
       "Goodreads (Romance)                    249114  214572           146.720848   \n",
       "Goodreads (History/Biography)          193012  163171           121.344874   \n",
       "\n",
       "                                      \n",
       "                              theirs  \n",
       "Dataset                               \n",
       "NYT                              815  \n",
       "WikiText                        3484  \n",
       "Goodreads (Romance)              126  \n",
       "Goodreads (History/Biography)    105  "
      ]
     },
     "execution_count": 79,
     "metadata": {},
     "output_type": "execute_result"
    }
   ],
   "source": [
    "table_2"
   ]
  },
  {
   "cell_type": "code",
   "execution_count": 80,
   "id": "7b52b241-f1e4-4d9e-9191-056502e93933",
   "metadata": {},
   "outputs": [
    {
     "data": {
      "text/plain": [
       "'\\\\begin{tabular}{lrrrrrrrr}\\n\\\\toprule\\n{} & \\\\multicolumn{2}{l}{Total Documents} & \\\\multicolumn{2}{l}{Total Words} & \\\\multicolumn{2}{l}{Vocabulary Size} & \\\\multicolumn{2}{l}{Mean Document Length} \\\\\\\\\\n{} &            ours &  theirs &        ours &    theirs &            ours &  theirs &                 ours & theirs \\\\\\\\\\nDataset                       &                 &         &             &           &                 &         &                      &        \\\\\\\\\\n\\\\midrule\\nNYT                           &            8888 &    8888 &     8682929 &   7244457 &          109713 &  162998 &           976.927205 &    815 \\\\\\\\\\nWikiText                      &           28472 &   28472 &   103627993 &  99197146 &          228318 &  546828 &          3639.645722 &   3484 \\\\\\\\\\nGoodreads (Romance)           &          194500 &  197000 &    28537205 &  24856924 &          249114 &  214572 &           146.720848 &    126 \\\\\\\\\\nGoodreads (History/Biography) &          135000 &  136000 &    16381558 &  14324947 &          193012 &  163171 &           121.344874 &    105 \\\\\\\\\\n\\\\bottomrule\\n\\\\end{tabular}\\n'"
      ]
     },
     "execution_count": 80,
     "metadata": {},
     "output_type": "execute_result"
    }
   ],
   "source": [
    "table_2.to_latex()"
   ]
  }
 ],
 "metadata": {
  "kernelspec": {
   "display_name": "Python 3 (ipykernel)",
   "language": "python",
   "name": "python3"
  },
  "language_info": {
   "codemirror_mode": {
    "name": "ipython",
    "version": 3
   },
   "file_extension": ".py",
   "mimetype": "text/x-python",
   "name": "python",
   "nbconvert_exporter": "python",
   "pygments_lexer": "ipython3",
   "version": "3.9.7"
  }
 },
 "nbformat": 4,
 "nbformat_minor": 5
}
