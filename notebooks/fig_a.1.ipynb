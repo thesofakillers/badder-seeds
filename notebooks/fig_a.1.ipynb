{
 "cells": [
  {
   "cell_type": "code",
   "execution_count": 1,
   "id": "9770e888-efd6-4b45-99e4-d32c716b3722",
   "metadata": {},
   "outputs": [],
   "source": [
    "%load_ext autoreload\n",
    "%autoreload 2"
   ]
  },
  {
   "cell_type": "code",
   "execution_count": 2,
   "id": "dcdebbf1-c3e5-480b-a827-41b8453c77ba",
   "metadata": {},
   "outputs": [],
   "source": [
    "import os\n",
    "\n",
    "if os.path.isdir(\"../notebooks/\"):\n",
    "    os.chdir(\"..\")"
   ]
  },
  {
   "cell_type": "code",
   "execution_count": 3,
   "id": "f8665633-9b3a-4fbf-8ea9-39bba38e40f3",
   "metadata": {},
   "outputs": [],
   "source": [
    "import json\n",
    "\n",
    "import numpy as np\n",
    "import matplotlib.pyplot as plt\n",
    "import seaborn as sns\n",
    "\n",
    "from badseeds import seedbank\n",
    "\n",
    "plt.rcParams[\"font.family\"] = \"serif\""
   ]
  },
  {
   "cell_type": "code",
   "execution_count": 4,
   "id": "2bced73d-eb62-408a-8d33-f2d8d40651c2",
   "metadata": {},
   "outputs": [],
   "source": [
    "# path to config json file containing paths to datasets. change if necessary\n",
    "CONFIG_PATH = \"./config.json\""
   ]
  },
  {
   "cell_type": "code",
   "execution_count": 5,
   "id": "9061d814-799d-46f4-b9dc-2c07091f0ab8",
   "metadata": {},
   "outputs": [],
   "source": [
    "with open(CONFIG_PATH, \"r\") as f:\n",
    "    config = json.load(f)"
   ]
  },
  {
   "cell_type": "code",
   "execution_count": 6,
   "id": "ea0b303e-69b2-401a-8971-e61b0567cda4",
   "metadata": {},
   "outputs": [],
   "source": [
    "# Get our gathered seeds\n",
    "seeds = seedbank.seedbanking(\n",
    "    config[\"seeds\"][\"dir_path\"] + \"seeds.json\",\n",
    "    index=False,\n",
    "    filter_bigrams=False,\n",
    "    filter_short=False,\n",
    ")"
   ]
  },
  {
   "cell_type": "code",
   "execution_count": 7,
   "id": "589dd9f0-fed3-43d5-9ea3-fc8dac1a5156",
   "metadata": {},
   "outputs": [],
   "source": [
    "sets_per_paper = np.sort(seeds.groupby(\"Used in Paper\").count()[\"Seeds ID\"].to_numpy())"
   ]
  },
  {
   "cell_type": "code",
   "execution_count": 8,
   "id": "cf5a5a7c-b45c-4014-b125-420e9ba71b20",
   "metadata": {},
   "outputs": [],
   "source": [
    "seeds_per_set = np.sort(seeds[\"Seeds\"].apply(len).to_numpy())"
   ]
  },
  {
   "cell_type": "code",
   "execution_count": 9,
   "id": "10a61524-bcf2-4e66-be3d-ceff2d5d7954",
   "metadata": {},
   "outputs": [
    {
     "data": {
      "image/png": "[encoded data removed]",
      "text/plain": [
       "<Figure size 468.091x216 with 2 Axes>"
      ]
     },
     "metadata": {
      "needs_background": "light"
     },
     "output_type": "display_data"
    }
   ],
   "source": [
    "# plot\n",
    "fig, (ax1, ax2) = plt.subplots(2, 1)\n",
    "fig.set_size_inches(w=6.50127, h=3)\n",
    "\n",
    "ax1 = sns.boxplot(data=seeds_per_set, orient=\"h\", color=\"#C3DFF2\", ax=ax1)\n",
    "ax1.set_xlim([-2, 100])\n",
    "ax1.set_xlabel(\"Number of Seeds per Set\", fontsize=12)\n",
    "ax1.spines[\"top\"].set_color(\"white\")\n",
    "ax1.spines[\"right\"].set_color(\"white\")\n",
    "ax1.set_yticks([])\n",
    "\n",
    "sns.boxplot(data=sets_per_paper, orient=\"h\", color=\"#BDC5F0\", ax=ax2)\n",
    "ax2.set_xlabel(\"Number of Sets per Paper\", fontsize=12)\n",
    "ax2.spines[\"top\"].set_color(\"white\")\n",
    "ax2.spines[\"right\"].set_color(\"white\")\n",
    "ax2.set_yticks([])\n",
    "\n",
    "plt.tight_layout()\n",
    "plt.show()"
   ]
  },
  {
   "cell_type": "code",
   "execution_count": 10,
   "id": "336e61a1-b9f6-452e-9100-8e01b49caee1",
   "metadata": {},
   "outputs": [],
   "source": [
    "# save to latex\n",
    "fig.savefig(\"images/fig_1.pdf\", bbox_inches=\"tight\")"
   ]
  }
 ],
 "metadata": {
  "kernelspec": {
   "display_name": "Python 3 (ipykernel)",
   "language": "python",
   "name": "python3"
  },
  "language_info": {
   "codemirror_mode": {
    "name": "ipython",
    "version": 3
   },
   "file_extension": ".py",
   "mimetype": "text/x-python",
   "name": "python",
   "nbconvert_exporter": "python",
   "pygments_lexer": "ipython3",
   "version": "3.9.7"
  }
 },
 "nbformat": 4,
 "nbformat_minor": 5
}
