{
 "cells": [
  {
   "cell_type": "code",
   "execution_count": 1,
   "id": "3ec7e241",
   "metadata": {},
   "outputs": [],
   "source": [
    "import os\n",
    "\n",
    "if os.path.isdir(\"../notebooks/\"):\n",
    "    os.chdir(\"..\")"
   ]
  },
  {
   "cell_type": "code",
   "execution_count": 2,
   "id": "f2076ade",
   "metadata": {},
   "outputs": [],
   "source": [
    "import json\n",
    "\n",
    "from badseeds import dataloader"
   ]
  },
  {
   "cell_type": "code",
   "execution_count": 3,
   "id": "7427cadd",
   "metadata": {},
   "outputs": [],
   "source": [
    "# path to config json file containing paths to datasets. change if necessary\n",
    "CONFIG_PATH = \"./config.json\""
   ]
  },
  {
   "cell_type": "code",
   "execution_count": 4,
   "id": "c100bfd1",
   "metadata": {},
   "outputs": [],
   "source": [
    "with open(CONFIG_PATH, \"r\") as f:\n",
    "    config = json.load(f)"
   ]
  },
  {
   "cell_type": "code",
   "execution_count": 8,
   "id": "42cdf2af",
   "metadata": {},
   "outputs": [],
   "source": [
    "DOWNLOAD_RAW = True\n",
    "DOWNLOAD_PREPROCESSED = False\n",
    "DOWNLOAD_SEEDS = False\n",
    "DOWNLOAD_MODELS = False\n",
    "DOWNLOAD_ALL = False"
   ]
  },
  {
   "cell_type": "code",
   "execution_count": 9,
   "id": "6d8a403e",
   "metadata": {},
   "outputs": [],
   "source": [
    "loadthedata = dataloader.LoadTheData(config)"
   ]
  },
  {
   "cell_type": "code",
   "execution_count": 10,
   "id": "c0335edd",
   "metadata": {},
   "outputs": [
    {
     "name": "stdout",
     "output_type": "stream",
     "text": [
      "Created folder :  ./data/raw/\n",
      "Downloading the WikiText103 dataset\n"
     ]
    },
    {
     "name": "stderr",
     "output_type": "stream",
     "text": [
      "100%|████████████████████████████████████████| 190M/190M [01:38<00:00, 1.94MB/s]\n"
     ]
    },
    {
     "name": "stdout",
     "output_type": "stream",
     "text": [
      "Finished downloading the WikiText103 dataset\n"
     ]
    },
    {
     "name": "stderr",
     "output_type": "stream",
     "text": [
      "Downloading...\n",
      "From: https://drive.google.com/uc?id=1lDkTzM6zpYU-HGkVAQgsw0dBzik-Zde9\n",
      "To: /home/jille/Desktop/mlrc-2021/data/raw/goodreads_reviews_history_biography.json.gz\n",
      "100%|████████████████████████████████████████| 754M/754M [01:13<00:00, 10.3MB/s]\n"
     ]
    },
    {
     "name": "stdout",
     "output_type": "stream",
     "text": [
      "Unzipping the /data/raw/goodreads_reviews_history_biography dataset\n",
      "Finished unzipping the /data/raw/goodreads_reviews_history_biography dataset\n"
     ]
    },
    {
     "name": "stderr",
     "output_type": "stream",
     "text": [
      "Downloading...\n",
      "From: https://drive.google.com/uc?id=1NpFsDQKBj_lrTzSASfyKbmkSykzN88wE\n",
      "To: /home/jille/Desktop/mlrc-2021/data/raw/goodreads_reviews_romance.json.gz\n",
      "100%|██████████████████████████████████████| 1.30G/1.30G [01:57<00:00, 11.0MB/s]\n"
     ]
    },
    {
     "name": "stdout",
     "output_type": "stream",
     "text": [
      "Unzipping the /data/raw/goodreads_reviews_romance dataset\n",
      "Finished unzipping the /data/raw/goodreads_reviews_romance dataset\n"
     ]
    },
    {
     "name": "stderr",
     "output_type": "stream",
     "text": [
      "Downloading...\n",
      "From: https://drive.google.com/uc?id=1-2LL6wgTwDzTKfPx3RQrXi-LS6lraFYn\n",
      "To: /home/jille/Desktop/mlrc-2021/data/raw/nytimes_news_articles.txt.gz\n",
      "100%|██████████████████████████████████████| 17.5M/17.5M [00:01<00:00, 12.8MB/s]\n"
     ]
    },
    {
     "name": "stdout",
     "output_type": "stream",
     "text": [
      "Unzipping the /data/raw/nytimes_news_articles dataset\n",
      "Finished unzipping the /data/raw/nytimes_news_articles dataset\n"
     ]
    }
   ],
   "source": [
    "if DOWNLOAD_RAW:\n",
    "    loadthedata.download_raw()\n",
    "elif DOWNLOAD_PREPROCESSED:\n",
    "    loadthedata.download_preprocessed()\n",
    "elif DOWNLOAD_SEEDS:\n",
    "    loadthedata.download_seeds()\n",
    "elif DOWNLOAD_MODELS:\n",
    "    loadthedata.download_models()\n",
    "elif DOWNLOAD_ALL:\n",
    "    loadthedata.download_all()"
   ]
  },
  {
   "cell_type": "code",
   "execution_count": null,
   "id": "8349c93d",
   "metadata": {},
   "outputs": [],
   "source": []
  }
 ],
 "metadata": {
  "kernelspec": {
   "display_name": "Python 3 (ipykernel)",
   "language": "python",
   "name": "python3"
  },
  "language_info": {
   "codemirror_mode": {
    "name": "ipython",
    "version": 3
   },
   "file_extension": ".py",
   "mimetype": "text/x-python",
   "name": "python",
   "nbconvert_exporter": "python",
   "pygments_lexer": "ipython3",
   "version": "3.9.5"
  }
 },
 "nbformat": 4,
 "nbformat_minor": 5
}
