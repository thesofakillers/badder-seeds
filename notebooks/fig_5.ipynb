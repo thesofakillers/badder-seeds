{
 "cells": [
  {
   "cell_type": "code",
   "execution_count": 1,
   "id": "f1ba104f-864f-4c14-8e8d-ba06f40c42a6",
   "metadata": {},
   "outputs": [],
   "source": [
    "%load_ext autoreload\n",
    "%autoreload 2"
   ]
  },
  {
   "cell_type": "code",
   "execution_count": 2,
   "id": "2ce6bb8b-a100-4741-9908-8cf26a5b515c",
   "metadata": {},
   "outputs": [],
   "source": [
    "import os\n",
    "\n",
    "if os.path.isdir(\"../notebooks/\"):\n",
    "    os.chdir(\"..\")"
   ]
  },
  {
   "cell_type": "code",
   "execution_count": 31,
   "id": "c128e717-d9ba-41b6-8175-db7a09bd7a2a",
   "metadata": {},
   "outputs": [],
   "source": [
    "import json\n",
    "import random\n",
    "import itertools\n",
    "\n",
    "import numpy as np\n",
    "import matplotlib.pyplot as plt\n",
    "import gensim.models as gm\n",
    "from tqdm import tqdm\n",
    "\n",
    "from badseeds import utils, seedbank, metrics"
   ]
  },
  {
   "cell_type": "code",
   "execution_count": 4,
   "id": "ac7bee13-3821-4971-9a09-5f18f7fee73e",
   "metadata": {},
   "outputs": [],
   "source": [
    "# path to config json file containing paths to datasets. change if necessary\n",
    "CONFIG_PATH = \"./config.json\""
   ]
  },
  {
   "cell_type": "code",
   "execution_count": 5,
   "id": "19a9f52a-0a51-4592-b7d1-1cc4c4d9f889",
   "metadata": {},
   "outputs": [],
   "source": [
    "with open(CONFIG_PATH, \"r\") as f:\n",
    "    config = json.load(f)"
   ]
  },
  {
   "cell_type": "code",
   "execution_count": 6,
   "id": "caed2768-b481-4268-96d3-040fc3ccf490",
   "metadata": {},
   "outputs": [],
   "source": [
    "# for replicability\n",
    "np.random.seed(42)\n",
    "random.seed(42)"
   ]
  },
  {
   "cell_type": "markdown",
   "id": "9372120e-83c7-4349-ae95-261be7a7031d",
   "metadata": {},
   "source": [
    "## Models and Data"
   ]
  },
  {
   "cell_type": "markdown",
   "id": "47251c4c-723b-4f13-b455-879ba6fbff64",
   "metadata": {},
   "source": [
    "### Models"
   ]
  },
  {
   "cell_type": "code",
   "execution_count": 7,
   "id": "548a14a2-5af3-433e-b88b-7c827e0477f8",
   "metadata": {},
   "outputs": [],
   "source": [
    "embeddings_dir = os.path.join(\n",
    "    config[\"models\"][\"dir_path\"], config[\"models\"][\"nyt_subpath\"][\"0\"]\n",
    ")"
   ]
  },
  {
   "cell_type": "code",
   "execution_count": 8,
   "id": "4bc760ed-6c8c-411a-b299-5765ac5cb400",
   "metadata": {},
   "outputs": [
    {
     "name": "stderr",
     "output_type": "stream",
     "text": [
      "100%|█████████████████████████████████████████████████████████████████████████████████████████████████████████████████████████████████████████████████████████| 20/20 [00:03<00:00,  5.93it/s]\n"
     ]
    }
   ],
   "source": [
    "models = []\n",
    "for file in tqdm(os.listdir(embeddings_dir)):\n",
    "    if file.endswith(\".kv\"):\n",
    "        models.append(gm.KeyedVectors.load(os.path.join(embeddings_dir, file)))"
   ]
  },
  {
   "cell_type": "markdown",
   "id": "7a5eb540-3c2d-4a3b-927b-f1b48a30beac",
   "metadata": {},
   "source": [
    "### Data"
   ]
  },
  {
   "cell_type": "markdown",
   "id": "7a59d1a5-6777-466e-9200-962c7a6ad1e1",
   "metadata": {},
   "source": [
    "#### Gathered Seeds"
   ]
  },
  {
   "cell_type": "code",
   "execution_count": 9,
   "id": "f2cb327e-3854-4473-b3be-b03dc7ca873b",
   "metadata": {},
   "outputs": [],
   "source": [
    "seeds = seedbank.seedbanking(config[\"seeds\"][\"dir_path\"] + \"seeds.json\")"
   ]
  },
  {
   "cell_type": "code",
   "execution_count": 10,
   "id": "642754e9-73cd-4cb9-88c9-9e128cac5173",
   "metadata": {},
   "outputs": [],
   "source": [
    "gathered_seeds = seeds[\"Seeds\"]"
   ]
  },
  {
   "cell_type": "code",
   "execution_count": 11,
   "id": "8dbbbfac-c206-4866-8061-62d191e325ac",
   "metadata": {},
   "outputs": [],
   "source": [
    "highlighted_ids = {\n",
    "    \"names\": [\"white_names-Knoche_et_al_2019\", \"black_names-Knoche_et_al_2019\"],\n",
    "    \"roles\": [\"caucasian_roles-Manzini_et_al_2019\", \"black_roles-Manzini_et_al_2019\"],\n",
    "}"
   ]
  },
  {
   "cell_type": "code",
   "execution_count": 12,
   "id": "e0ab4501-7f91-44a6-a0b0-beab390cdfd2",
   "metadata": {},
   "outputs": [
    {
     "data": {
      "text/html": [
       "<div>\n",
       "<style scoped>\n",
       "    .dataframe tbody tr th:only-of-type {\n",
       "        vertical-align: middle;\n",
       "    }\n",
       "\n",
       "    .dataframe tbody tr th {\n",
       "        vertical-align: top;\n",
       "    }\n",
       "\n",
       "    .dataframe thead th {\n",
       "        text-align: right;\n",
       "    }\n",
       "</style>\n",
       "<table border=\"1\" class=\"dataframe\">\n",
       "  <thead>\n",
       "    <tr style=\"text-align: right;\">\n",
       "      <th></th>\n",
       "      <th>index</th>\n",
       "      <th>Category</th>\n",
       "      <th>Seeds</th>\n",
       "      <th>Source / Justification</th>\n",
       "      <th>Source Categories</th>\n",
       "      <th>Used in Paper</th>\n",
       "      <th>Link</th>\n",
       "      <th>Seeds ID</th>\n",
       "    </tr>\n",
       "  </thead>\n",
       "  <tbody>\n",
       "    <tr>\n",
       "      <th>137</th>\n",
       "      <td>151</td>\n",
       "      <td>white names</td>\n",
       "      <td>[adam, chip, harry, josh, roger, alan, frank, ...</td>\n",
       "      <td>We combined and extended sets which were previ...</td>\n",
       "      <td>borrowed-from-social-sciences, prior-work</td>\n",
       "      <td>Identifying Biases in Politically Biased Wikis...</td>\n",
       "      <td>https://github.com/MKnoche/wiki_bias_embedding</td>\n",
       "      <td>white_names-Knoche_et_al_2019</td>\n",
       "    </tr>\n",
       "    <tr>\n",
       "      <th>138</th>\n",
       "      <td>152</td>\n",
       "      <td>black names</td>\n",
       "      <td>[alonzo, jamel, lerone, percell, theo, alphons...</td>\n",
       "      <td>We combined and extended sets which were previ...</td>\n",
       "      <td>borrowed-from-social-sciences, prior-work</td>\n",
       "      <td>Identifying Biases in Politically Biased Wikis...</td>\n",
       "      <td>https://github.com/MKnoche/wiki_bias_embedding</td>\n",
       "      <td>black_names-Knoche_et_al_2019</td>\n",
       "    </tr>\n",
       "  </tbody>\n",
       "</table>\n",
       "</div>"
      ],
      "text/plain": [
       "     index     Category                                              Seeds  \\\n",
       "137    151  white names  [adam, chip, harry, josh, roger, alan, frank, ...   \n",
       "138    152  black names  [alonzo, jamel, lerone, percell, theo, alphons...   \n",
       "\n",
       "                                Source / Justification  \\\n",
       "137  We combined and extended sets which were previ...   \n",
       "138  We combined and extended sets which were previ...   \n",
       "\n",
       "                             Source Categories  \\\n",
       "137  borrowed-from-social-sciences, prior-work   \n",
       "138  borrowed-from-social-sciences, prior-work   \n",
       "\n",
       "                                         Used in Paper  \\\n",
       "137  Identifying Biases in Politically Biased Wikis...   \n",
       "138  Identifying Biases in Politically Biased Wikis...   \n",
       "\n",
       "                                               Link  \\\n",
       "137  https://github.com/MKnoche/wiki_bias_embedding   \n",
       "138  https://github.com/MKnoche/wiki_bias_embedding   \n",
       "\n",
       "                          Seeds ID  \n",
       "137  white_names-Knoche_et_al_2019  \n",
       "138  black_names-Knoche_et_al_2019  "
      ]
     },
     "execution_count": 12,
     "metadata": {},
     "output_type": "execute_result"
    }
   ],
   "source": [
    "seeds[seeds[\"Seeds ID\"].isin(highlighted_ids[\"names\"])]"
   ]
  },
  {
   "cell_type": "code",
   "execution_count": 13,
   "id": "434fa87e-7f7d-4fbd-a5b0-8b0a9d03b80d",
   "metadata": {},
   "outputs": [
    {
     "data": {
      "text/html": [
       "<div>\n",
       "<style scoped>\n",
       "    .dataframe tbody tr th:only-of-type {\n",
       "        vertical-align: middle;\n",
       "    }\n",
       "\n",
       "    .dataframe tbody tr th {\n",
       "        vertical-align: top;\n",
       "    }\n",
       "\n",
       "    .dataframe thead th {\n",
       "        text-align: right;\n",
       "    }\n",
       "</style>\n",
       "<table border=\"1\" class=\"dataframe\">\n",
       "  <thead>\n",
       "    <tr style=\"text-align: right;\">\n",
       "      <th></th>\n",
       "      <th>index</th>\n",
       "      <th>Category</th>\n",
       "      <th>Seeds</th>\n",
       "      <th>Source / Justification</th>\n",
       "      <th>Source Categories</th>\n",
       "      <th>Used in Paper</th>\n",
       "      <th>Link</th>\n",
       "      <th>Seeds ID</th>\n",
       "    </tr>\n",
       "  </thead>\n",
       "  <tbody>\n",
       "    <tr>\n",
       "      <th>48</th>\n",
       "      <td>48</td>\n",
       "      <td>black roles</td>\n",
       "      <td>[slave, musician, runner, criminal, homeless]</td>\n",
       "      <td>For race we consulted a number of different so...</td>\n",
       "      <td>borrowed-from-social-sciences</td>\n",
       "      <td>Black is to Criminal as Caucasian is to Police...</td>\n",
       "      <td>https://github.com/TManzini/DebiasMulticlassWo...</td>\n",
       "      <td>black_roles-Manzini_et_al_2019</td>\n",
       "    </tr>\n",
       "    <tr>\n",
       "      <th>49</th>\n",
       "      <td>49</td>\n",
       "      <td>caucasian roles</td>\n",
       "      <td>[manager, executive, redneck, hillbilly, leade...</td>\n",
       "      <td>For race we consulted a number of different so...</td>\n",
       "      <td>borrowed-from-social-sciences</td>\n",
       "      <td>Black is to Criminal as Caucasian is to Police...</td>\n",
       "      <td>https://github.com/TManzini/DebiasMulticlassWo...</td>\n",
       "      <td>caucasian_roles-Manzini_et_al_2019</td>\n",
       "    </tr>\n",
       "  </tbody>\n",
       "</table>\n",
       "</div>"
      ],
      "text/plain": [
       "    index         Category                                              Seeds  \\\n",
       "48     48      black roles      [slave, musician, runner, criminal, homeless]   \n",
       "49     49  caucasian roles  [manager, executive, redneck, hillbilly, leade...   \n",
       "\n",
       "                               Source / Justification  \\\n",
       "48  For race we consulted a number of different so...   \n",
       "49  For race we consulted a number of different so...   \n",
       "\n",
       "                Source Categories  \\\n",
       "48  borrowed-from-social-sciences   \n",
       "49  borrowed-from-social-sciences   \n",
       "\n",
       "                                        Used in Paper  \\\n",
       "48  Black is to Criminal as Caucasian is to Police...   \n",
       "49  Black is to Criminal as Caucasian is to Police...   \n",
       "\n",
       "                                                 Link  \\\n",
       "48  https://github.com/TManzini/DebiasMulticlassWo...   \n",
       "49  https://github.com/TManzini/DebiasMulticlassWo...   \n",
       "\n",
       "                              Seeds ID  \n",
       "48      black_roles-Manzini_et_al_2019  \n",
       "49  caucasian_roles-Manzini_et_al_2019  "
      ]
     },
     "execution_count": 13,
     "metadata": {},
     "output_type": "execute_result"
    }
   ],
   "source": [
    "seeds[seeds[\"Seeds ID\"].isin(highlighted_ids[\"roles\"])]"
   ]
  },
  {
   "cell_type": "markdown",
   "id": "9b75090d-e018-4db4-afd6-51d3dd68dd45",
   "metadata": {},
   "source": [
    "#### Generated Seeds"
   ]
  },
  {
   "cell_type": "code",
   "execution_count": 14,
   "id": "34de83db-4814-4f01-acd5-208ff9f6b653",
   "metadata": {},
   "outputs": [
    {
     "name": "stderr",
     "output_type": "stream",
     "text": [
      "100%|█████████████████████████████████████████████████████████████████████████████████████████████████████████████████████████████████████████████████████████| 50/50 [00:01<00:00, 46.26it/s]\n"
     ]
    }
   ],
   "source": [
    "# 50 generated seed sets of size 25\n",
    "generated_seeds = [\n",
    "    utils.generate_seed_set(model, n=4) for model in tqdm(random.choices(models, k=50))\n",
    "]"
   ]
  },
  {
   "cell_type": "markdown",
   "id": "7ed7d6dc-e980-4c76-9d9b-5f13b79af537",
   "metadata": {},
   "source": [
    "## Processing"
   ]
  },
  {
   "cell_type": "markdown",
   "id": "3dc25d96-5f3b-487d-82ae-995b68b893f1",
   "metadata": {},
   "source": [
    "### Embedding"
   ]
  },
  {
   "cell_type": "code",
   "execution_count": 15,
   "id": "12f43921-7a51-4567-a3ac-aa3a86501c7a",
   "metadata": {},
   "outputs": [],
   "source": [
    "gathered_seeds_embeddings = [\n",
    "    utils.get_embeddings(seed_set, models, query_strat=\"average\")\n",
    "    for seed_set in gathered_seeds\n",
    "]"
   ]
  },
  {
   "cell_type": "code",
   "execution_count": 16,
   "id": "e9505514-73be-4ab4-84d2-13ec9bcd7a7f",
   "metadata": {},
   "outputs": [],
   "source": [
    "generated_seeds_embeddings = [\n",
    "    utils.get_embeddings(seed_set, models, query_strat=\"average\")\n",
    "    for seed_set in generated_seeds\n",
    "]"
   ]
  },
  {
   "cell_type": "markdown",
   "id": "8539c140-5457-47c7-b527-1c00d05f0db0",
   "metadata": {},
   "source": [
    "### Pairing"
   ]
  },
  {
   "cell_type": "code",
   "execution_count": 17,
   "id": "102e39a6-9f2f-4b84-bf59-c690fb813dee",
   "metadata": {},
   "outputs": [],
   "source": [
    "gathered_emb_pairs = [\n",
    "    (set_a, set_b)\n",
    "    for set_a, set_b in zip(\n",
    "        gathered_seeds_embeddings[::2], gathered_seeds_embeddings[1::2]\n",
    "    )\n",
    "]"
   ]
  },
  {
   "cell_type": "code",
   "execution_count": 18,
   "id": "374384cd-9099-4909-82cb-63b7cf051f06",
   "metadata": {},
   "outputs": [],
   "source": [
    "gathered_pairs_names = [\n",
    "    f\"{string_a} vs {string_b}\"\n",
    "    for string_a, string_b in zip(\n",
    "        seeds[\"Category\"][::2], seeds[\"Category\"][1::2]\n",
    "    )\n",
    "]"
   ]
  },
  {
   "cell_type": "code",
   "execution_count": 19,
   "id": "bdb619d1-2b4d-49d2-857a-f183af9924f3",
   "metadata": {},
   "outputs": [],
   "source": [
    "generated_emb_pairs = list(itertools.combinations(generated_seeds_embeddings, 2))"
   ]
  },
  {
   "cell_type": "markdown",
   "id": "52a423f6-fd7e-44d2-a653-8b57b18d9ea6",
   "metadata": {},
   "source": [
    "### PCA Explained Variance"
   ]
  },
  {
   "cell_type": "code",
   "execution_count": 20,
   "id": "5d217c5e-815e-46af-8cb0-88d52eafa551",
   "metadata": {},
   "outputs": [],
   "source": [
    "gathered_pca_models = [\n",
    "    metrics.do_pca_embeddings(set_a, set_b, 10)\n",
    "    for (set_a, set_b) in (gathered_emb_pairs)\n",
    "]"
   ]
  },
  {
   "cell_type": "code",
   "execution_count": 21,
   "id": "06e9d66e-741f-447c-abe0-833cd67df8b3",
   "metadata": {},
   "outputs": [],
   "source": [
    "generated_pca_models = [\n",
    "    metrics.do_pca_embeddings(set_a, set_b, 4)\n",
    "    for (set_a, set_b) in (generated_emb_pairs)\n",
    "]"
   ]
  },
  {
   "cell_type": "code",
   "execution_count": 22,
   "id": "01e946b6-7704-4065-bbb5-3c63fb20c472",
   "metadata": {},
   "outputs": [],
   "source": [
    "gathered_exp_var = [\n",
    "    model.explained_variance_ratio_[0] if model is not None else np.nan\n",
    "    for model in gathered_pca_models\n",
    "]"
   ]
  },
  {
   "cell_type": "code",
   "execution_count": 23,
   "id": "c4c0c0c9-932a-4bdf-9d53-54cc0de13d3b",
   "metadata": {},
   "outputs": [],
   "source": [
    "generated_exp_var = [\n",
    "    model.explained_variance_ratio_[0] if model is not None else np.nan\n",
    "    for model in generated_pca_models\n",
    "]"
   ]
  },
  {
   "cell_type": "code",
   "execution_count": 24,
   "id": "f861d594-e11c-44c3-a5be-5597e10478d1",
   "metadata": {},
   "outputs": [
    {
     "data": {
      "text/plain": [
       "1225"
      ]
     },
     "execution_count": 24,
     "metadata": {},
     "output_type": "execute_result"
    }
   ],
   "source": [
    "len([v for v in generated_exp_var if v != np.nan]) "
   ]
  },
  {
   "cell_type": "markdown",
   "id": "9da3a68c-feb9-4433-bbc4-59474d057c49",
   "metadata": {},
   "source": [
    "### Set Similarity"
   ]
  },
  {
   "cell_type": "code",
   "execution_count": 25,
   "id": "e5e43557-befb-4aa4-9a73-cdc5a3d13112",
   "metadata": {},
   "outputs": [],
   "source": [
    "gathered_set_sim = [\n",
    "    metrics.set_similarity(set_a, set_b, False)\n",
    "    for (set_a, set_b) in (gathered_emb_pairs)\n",
    "]"
   ]
  },
  {
   "cell_type": "code",
   "execution_count": 26,
   "id": "aae7eded-77ec-461c-b275-7edfac7b04c3",
   "metadata": {},
   "outputs": [],
   "source": [
    "generated_set_sim = [\n",
    "    metrics.set_similarity(set_a, set_b, False)\n",
    "    for (set_a, set_b) in (generated_emb_pairs)\n",
    "]"
   ]
  },
  {
   "cell_type": "code",
   "execution_count": 27,
   "id": "0f76ff82-113b-41b2-ba20-ea17cb1199c6",
   "metadata": {},
   "outputs": [
    {
     "data": {
      "text/plain": [
       "1225"
      ]
     },
     "execution_count": 27,
     "metadata": {},
     "output_type": "execute_result"
    }
   ],
   "source": [
    "len([v for v in generated_set_sim if v != np.nan]) "
   ]
  },
  {
   "cell_type": "markdown",
   "id": "a4f72348-ac6d-44e8-88b8-b5e8502b47b9",
   "metadata": {},
   "source": [
    "### Additional Processing"
   ]
  },
  {
   "cell_type": "code",
   "execution_count": 28,
   "id": "848cf656-54e9-49c9-aea3-b49522345b06",
   "metadata": {},
   "outputs": [],
   "source": [
    "# linear fit of generated seed data\n",
    "gen_coef = np.polyfit(generated_set_sim, generated_exp_var, 1)\n",
    "gen_poly1d_fn = np.poly1d(gen_coef)"
   ]
  },
  {
   "cell_type": "markdown",
   "id": "c780139c-fc67-49e4-892a-2e0457d1fa20",
   "metadata": {},
   "source": [
    "## Plotting"
   ]
  },
  {
   "cell_type": "code",
   "execution_count": 30,
   "id": "7c86f849-4e17-4bd5-bb5e-6a5bfab32415",
   "metadata": {},
   "outputs": [
    {
     "data": {
      "image/png": "[encoded data removed]",
      "text/plain": [
       "<Figure size 468.091x360 with 1 Axes>"
      ]
     },
     "metadata": {
      "needs_background": "light"
     },
     "output_type": "display_data"
    }
   ],
   "source": [
    "fig, ax = plt.subplots(1, 1)\n",
    "\n",
    "fig.set_size_inches(w=6.50127, h=5)\n",
    "\n",
    "ax.plot(\n",
    "    generated_set_sim,\n",
    "    generated_exp_var,\n",
    "    \"o\",\n",
    "    generated_set_sim,\n",
    "    gen_poly1d_fn(generated_set_sim),\n",
    "    color=\"#B8CCE1\",\n",
    "    linewidth=3,\n",
    "    markersize=10,\n",
    "    markerfacecolor=\"#B8CCE1\",\n",
    "    markeredgecolor=\"white\",\n",
    ")\n",
    "ax.plot(\n",
    "    gathered_set_sim,\n",
    "    gathered_exp_var,\n",
    "    \"o\",\n",
    "    markersize=10,\n",
    "    markerfacecolor=\"#F1B7B0\",\n",
    "    markeredgecolor=\"white\",\n",
    ")\n",
    "\n",
    "plt.show()"
   ]
  },
  {
   "cell_type": "code",
   "execution_count": null,
   "id": "a163170c-cfa3-4510-aecf-4c4e4d3bf69e",
   "metadata": {},
   "outputs": [],
   "source": []
  }
 ],
 "metadata": {
  "kernelspec": {
   "display_name": "Python 3 (ipykernel)",
   "language": "python",
   "name": "python3"
  },
  "language_info": {
   "codemirror_mode": {
    "name": "ipython",
    "version": 3
   },
   "file_extension": ".py",
   "mimetype": "text/x-python",
   "name": "python",
   "nbconvert_exporter": "python",
   "pygments_lexer": "ipython3",
   "version": "3.9.7"
  }
 },
 "nbformat": 4,
 "nbformat_minor": 5
}
