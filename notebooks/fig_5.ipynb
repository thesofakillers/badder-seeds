{
 "cells": [
  {
   "cell_type": "code",
   "execution_count": 73,
   "id": "f1ba104f-864f-4c14-8e8d-ba06f40c42a6",
   "metadata": {},
   "outputs": [
    {
     "name": "stdout",
     "output_type": "stream",
     "text": [
      "The autoreload extension is already loaded. To reload it, use:\n",
      "  %reload_ext autoreload\n"
     ]
    }
   ],
   "source": [
    "%load_ext autoreload\n",
    "%autoreload 2"
   ]
  },
  {
   "cell_type": "code",
   "execution_count": 74,
   "id": "2ce6bb8b-a100-4741-9908-8cf26a5b515c",
   "metadata": {},
   "outputs": [],
   "source": [
    "import os\n",
    "\n",
    "if os.path.isdir(\"../notebooks/\"):\n",
    "    os.chdir(\"..\")"
   ]
  },
  {
   "cell_type": "code",
   "execution_count": 75,
   "id": "c128e717-d9ba-41b6-8175-db7a09bd7a2a",
   "metadata": {},
   "outputs": [],
   "source": [
    "import json\n",
    "\n",
    "import numpy as np\n",
    "import matplotlib.pyplot as plt\n",
    "import gensim.models as gm\n",
    "from tqdm import tqdm\n",
    "\n",
    "from badseeds import seedbank, utils"
   ]
  },
  {
   "cell_type": "code",
   "execution_count": 76,
   "id": "ac7bee13-3821-4971-9a09-5f18f7fee73e",
   "metadata": {},
   "outputs": [],
   "source": [
    "# path to config json file containing paths to datasets. change if necessary\n",
    "CONFIG_PATH = \"./config.json\""
   ]
  },
  {
   "cell_type": "code",
   "execution_count": 77,
   "id": "19a9f52a-0a51-4592-b7d1-1cc4c4d9f889",
   "metadata": {},
   "outputs": [],
   "source": [
    "with open(CONFIG_PATH, \"r\") as f:\n",
    "    config = json.load(f)"
   ]
  },
  {
   "cell_type": "markdown",
   "id": "9372120e-83c7-4349-ae95-261be7a7031d",
   "metadata": {},
   "source": [
    "## Models and Data"
   ]
  },
  {
   "cell_type": "markdown",
   "id": "47251c4c-723b-4f13-b455-879ba6fbff64",
   "metadata": {},
   "source": [
    "### Models"
   ]
  },
  {
   "cell_type": "code",
   "execution_count": 50,
   "id": "548a14a2-5af3-433e-b88b-7c827e0477f8",
   "metadata": {},
   "outputs": [],
   "source": [
    "embeddings_dir = os.path.join(\n",
    "    config[\"models\"][\"dir_path\"], config[\"models\"][\"nyt_subpath\"][\"0\"]\n",
    ")"
   ]
  },
  {
   "cell_type": "code",
   "execution_count": 51,
   "id": "4bc760ed-6c8c-411a-b299-5765ac5cb400",
   "metadata": {},
   "outputs": [
    {
     "name": "stderr",
     "output_type": "stream",
     "text": [
      "100%|██████████████████████████████████████████████████| 20/20 [00:10<00:00,  1.83it/s]\n"
     ]
    }
   ],
   "source": [
    "models = []\n",
    "for file in tqdm(os.listdir(embeddings_dir)):\n",
    "    if file.endswith(\".kv\"):\n",
    "        models.append(gm.KeyedVectors.load(os.path.join(embeddings_dir, file)))"
   ]
  },
  {
   "cell_type": "markdown",
   "id": "7a5eb540-3c2d-4a3b-927b-f1b48a30beac",
   "metadata": {},
   "source": [
    "### Data"
   ]
  },
  {
   "cell_type": "markdown",
   "id": "7a59d1a5-6777-466e-9200-962c7a6ad1e1",
   "metadata": {},
   "source": [
    "#### Gathered Seeds"
   ]
  },
  {
   "cell_type": "code",
   "execution_count": 88,
   "id": "f2cb327e-3854-4473-b3be-b03dc7ca873b",
   "metadata": {},
   "outputs": [],
   "source": [
    "seeds = seedbank.seedbanking(config[\"seeds\"][\"dir_path\"] + \"seeds.json\")"
   ]
  },
  {
   "cell_type": "code",
   "execution_count": 72,
   "id": "d4abb5a3-c288-4f0d-90c1-947822522bc5",
   "metadata": {},
   "outputs": [
    {
     "data": {
      "text/plain": [
       "0       True\n",
       "1       True\n",
       "2       True\n",
       "3       True\n",
       "4       True\n",
       "       ...  \n",
       "173    False\n",
       "174    False\n",
       "175    False\n",
       "176    False\n",
       "177    False\n",
       "Name: Used in Paper, Length: 178, dtype: bool"
      ]
     },
     "execution_count": 72,
     "metadata": {},
     "output_type": "execute_result"
    }
   ],
   "source": [
    "seeds[\"Used in Paper\"].isin(\n",
    "    [\n",
    "        \"Semantics derived automatically from language corpora contain human-like biases (Caliskan et al., 2017)\"\n",
    "    ]\n",
    ")"
   ]
  },
  {
   "cell_type": "code",
   "execution_count": 92,
   "id": "642754e9-73cd-4cb9-88c9-9e128cac5173",
   "metadata": {},
   "outputs": [],
   "source": [
    "gathered_seeds = seedbank.get_seeds(\n",
    "    seeds, seeds[\"Seeds ID\"].tolist(), id_loc=\"Seeds ID\"\n",
    ")"
   ]
  },
  {
   "cell_type": "markdown",
   "id": "9b75090d-e018-4db4-afd6-51d3dd68dd45",
   "metadata": {},
   "source": [
    "#### Generated Seeds\n",
    "\n",
    "currently using mock dataimport random"
   ]
  },
  {
   "cell_type": "code",
   "execution_count": 27,
   "id": "34de83db-4814-4f01-acd5-208ff9f6b653",
   "metadata": {},
   "outputs": [],
   "source": [
    "from urllib.request import Request, urlopen\n",
    "import random\n",
    "\n",
    "url = \"https://svnweb.freebsd.org/csrg/share/dict/words?revision=61569&view=co\"\n",
    "req = Request(url, headers={\"User-Agent\": \"Mozilla/5.0\"})\n",
    "\n",
    "web_byte = urlopen(req).read()\n",
    "\n",
    "webpage = web_byte.decode(\"utf-8\")"
   ]
  },
  {
   "cell_type": "code",
   "execution_count": 28,
   "id": "054cf997-41f8-4365-9685-79e13ed36b55",
   "metadata": {},
   "outputs": [],
   "source": [
    "generated_seeds = random.choices(webpage.split(\"\\n\"), k=1000)"
   ]
  },
  {
   "cell_type": "markdown",
   "id": "7ed7d6dc-e980-4c76-9d9b-5f13b79af537",
   "metadata": {},
   "source": [
    "## Processing"
   ]
  },
  {
   "cell_type": "code",
   "execution_count": 29,
   "id": "12f43921-7a51-4567-a3ac-aa3a86501c7a",
   "metadata": {},
   "outputs": [],
   "source": [
    "gathered_seeds_embeddings = [\n",
    "    utils.get_embeddings(seed_set, models, query_strat=\"average\")\n",
    "    for seed_set in gathered_seeds\n",
    "]"
   ]
  },
  {
   "cell_type": "code",
   "execution_count": 43,
   "id": "2ed97d6b-6d36-4bfd-b74b-206d5ccae93e",
   "metadata": {},
   "outputs": [
    {
     "data": {
      "text/plain": [
       "178"
      ]
     },
     "execution_count": 43,
     "metadata": {},
     "output_type": "execute_result"
    }
   ],
   "source": [
    "len(gathered_seeds_embeddings)"
   ]
  },
  {
   "cell_type": "code",
   "execution_count": 44,
   "id": "ee4c7b7a-bd22-4361-b808-c4d957e6c984",
   "metadata": {},
   "outputs": [
    {
     "data": {
      "text/html": [
       "<div>\n",
       "<style scoped>\n",
       "    .dataframe tbody tr th:only-of-type {\n",
       "        vertical-align: middle;\n",
       "    }\n",
       "\n",
       "    .dataframe tbody tr th {\n",
       "        vertical-align: top;\n",
       "    }\n",
       "\n",
       "    .dataframe thead th {\n",
       "        text-align: right;\n",
       "    }\n",
       "</style>\n",
       "<table border=\"1\" class=\"dataframe\">\n",
       "  <thead>\n",
       "    <tr style=\"text-align: right;\">\n",
       "      <th></th>\n",
       "      <th>Category</th>\n",
       "      <th>Seeds</th>\n",
       "      <th>Source / Justification</th>\n",
       "      <th>Source Categories</th>\n",
       "      <th>Used in Paper</th>\n",
       "      <th>Link</th>\n",
       "    </tr>\n",
       "    <tr>\n",
       "      <th>Seeds ID</th>\n",
       "      <th></th>\n",
       "      <th></th>\n",
       "      <th></th>\n",
       "      <th></th>\n",
       "      <th></th>\n",
       "      <th></th>\n",
       "    </tr>\n",
       "  </thead>\n",
       "  <tbody>\n",
       "    <tr>\n",
       "      <th>adjectives_appearance-Garg_et_al_2018</th>\n",
       "      <td>adjectives appearance</td>\n",
       "      <td>['alluring', 'voluptuous', 'blushing', 'homely...</td>\n",
       "      <td>\"mostly from\" http://usefulenglish.ru/vocabula...</td>\n",
       "      <td>other</td>\n",
       "      <td>Word Embeddings Quantify 100 Years of Gender a...</td>\n",
       "      <td>https://github.com/nikhgarg/EmbeddingDynamicSt...</td>\n",
       "    </tr>\n",
       "    <tr>\n",
       "      <th>adjectives_intelligence-Garg_et_al_2018</th>\n",
       "      <td>adjectives intelligence</td>\n",
       "      <td>['precocious', 'resourceful', 'inquisitive', '...</td>\n",
       "      <td>mostly from https://www.e-education.psu.edu/wr...</td>\n",
       "      <td>other</td>\n",
       "      <td>Word Embeddings Quantify 100 Years of Gender a...</td>\n",
       "      <td>https://github.com/nikhgarg/EmbeddingDynamicSt...</td>\n",
       "    </tr>\n",
       "    <tr>\n",
       "      <th>adjectives_otherization-Garg_et_al_2018</th>\n",
       "      <td>adjectives otherization</td>\n",
       "      <td>['devious', 'bizarre', 'venomous', 'erratic', ...</td>\n",
       "      <td>part of a list mostly from Gunkel (1987) (pers...</td>\n",
       "      <td>borrowed-from-social-sciences</td>\n",
       "      <td>Word Embeddings Quantify 100 Years of Gender a...</td>\n",
       "      <td>https://github.com/nikhgarg/EmbeddingDynamicSt...</td>\n",
       "    </tr>\n",
       "    <tr>\n",
       "      <th>adjectives_princeton-Garg_et_al_2018</th>\n",
       "      <td>adjectives princeton</td>\n",
       "      <td>['brilliant', 'intelligent', 'honest', 'alert'...</td>\n",
       "      <td>part of a list mostly from Gunkel (1987) (pers...</td>\n",
       "      <td>borrowed-from-social-sciences</td>\n",
       "      <td>Word Embeddings Quantify 100 Years of Gender a...</td>\n",
       "      <td>https://github.com/nikhgarg/EmbeddingDynamicSt...</td>\n",
       "    </tr>\n",
       "    <tr>\n",
       "      <th>adjectives_sensitive-Garg_et_al_2018</th>\n",
       "      <td>adjectives sensitive</td>\n",
       "      <td>['inhibited', 'complacent', 'sensitive', 'mell...</td>\n",
       "      <td>part of a list mostly from Gunkel (1987) (pers...</td>\n",
       "      <td>borrowed-from-social-sciences</td>\n",
       "      <td>Word Embeddings Quantify 100 Years of Gender a...</td>\n",
       "      <td>https://github.com/nikhgarg/EmbeddingDynamicSt...</td>\n",
       "    </tr>\n",
       "    <tr>\n",
       "      <th>...</th>\n",
       "      <td>...</td>\n",
       "      <td>...</td>\n",
       "      <td>...</td>\n",
       "      <td>...</td>\n",
       "      <td>...</td>\n",
       "      <td>...</td>\n",
       "    </tr>\n",
       "    <tr>\n",
       "      <th>white-Rudinger_et_al_2017</th>\n",
       "      <td>white</td>\n",
       "      <td>['white', 'white_person', 'white_man', 'white_...</td>\n",
       "      <td>The U.S. Equal Employment Opportunity Commissi...</td>\n",
       "      <td>corpus-derived</td>\n",
       "      <td>Social Bias in Elicited Natural Language Infer...</td>\n",
       "      <td>https://github.com/cjmay/snli-ethics</td>\n",
       "    </tr>\n",
       "    <tr>\n",
       "      <th>white_collar_job-Fast_et_al_2016</th>\n",
       "      <td>white collar job</td>\n",
       "      <td>['detective', 'executive', 'scientist', 'biolo...</td>\n",
       "      <td>\"...to generate Empath’s category names and se...</td>\n",
       "      <td>crowd-sourced, curated, lexical-resources</td>\n",
       "      <td>Empath: Understanding Topic Signals in Large-S...</td>\n",
       "      <td>https://github.com/Ejhfast/empath-client</td>\n",
       "    </tr>\n",
       "    <tr>\n",
       "      <th>white_names-Knoche_et_al_2019</th>\n",
       "      <td>white names</td>\n",
       "      <td>['adam', 'chip', 'harry', 'josh', 'roger', 'al...</td>\n",
       "      <td>We combined and extended sets which were previ...</td>\n",
       "      <td>borrowed-from-social-sciences, prior-work</td>\n",
       "      <td>Identifying Biases in Politically Biased Wikis...</td>\n",
       "      <td>https://github.com/MKnoche/wiki_bias_embedding</td>\n",
       "    </tr>\n",
       "    <tr>\n",
       "      <th>young-Rudinger_et_al_2017</th>\n",
       "      <td>young</td>\n",
       "      <td>['young', 'young_woman', 'young_man']</td>\n",
       "      <td>The U.S. Equal Employment Opportunity Commissi...</td>\n",
       "      <td>corpus-derived</td>\n",
       "      <td>Social Bias in Elicited Natural Language Infer...</td>\n",
       "      <td>https://github.com/cjmay/snli-ethics</td>\n",
       "    </tr>\n",
       "    <tr>\n",
       "      <th>young_names-Caliskan_et_al_2017</th>\n",
       "      <td>young names</td>\n",
       "      <td>['Tiffany', 'Michelle', 'Cindy', 'Kristy', 'Br...</td>\n",
       "      <td>None</td>\n",
       "      <td>None</td>\n",
       "      <td>Semantics derived automatically from language ...</td>\n",
       "      <td>https://dataverse.harvard.edu/dataset.xhtml?pe...</td>\n",
       "    </tr>\n",
       "  </tbody>\n",
       "</table>\n",
       "<p>178 rows × 6 columns</p>\n",
       "</div>"
      ],
      "text/plain": [
       "                                                        Category  \\\n",
       "Seeds ID                                                           \n",
       "adjectives_appearance-Garg_et_al_2018      adjectives appearance   \n",
       "adjectives_intelligence-Garg_et_al_2018  adjectives intelligence   \n",
       "adjectives_otherization-Garg_et_al_2018  adjectives otherization   \n",
       "adjectives_princeton-Garg_et_al_2018        adjectives princeton   \n",
       "adjectives_sensitive-Garg_et_al_2018        adjectives sensitive   \n",
       "...                                                          ...   \n",
       "white-Rudinger_et_al_2017                                  white   \n",
       "white_collar_job-Fast_et_al_2016                white collar job   \n",
       "white_names-Knoche_et_al_2019                        white names   \n",
       "young-Rudinger_et_al_2017                                  young   \n",
       "young_names-Caliskan_et_al_2017                      young names   \n",
       "\n",
       "                                                                                     Seeds  \\\n",
       "Seeds ID                                                                                     \n",
       "adjectives_appearance-Garg_et_al_2018    ['alluring', 'voluptuous', 'blushing', 'homely...   \n",
       "adjectives_intelligence-Garg_et_al_2018  ['precocious', 'resourceful', 'inquisitive', '...   \n",
       "adjectives_otherization-Garg_et_al_2018  ['devious', 'bizarre', 'venomous', 'erratic', ...   \n",
       "adjectives_princeton-Garg_et_al_2018     ['brilliant', 'intelligent', 'honest', 'alert'...   \n",
       "adjectives_sensitive-Garg_et_al_2018     ['inhibited', 'complacent', 'sensitive', 'mell...   \n",
       "...                                                                                    ...   \n",
       "white-Rudinger_et_al_2017                ['white', 'white_person', 'white_man', 'white_...   \n",
       "white_collar_job-Fast_et_al_2016         ['detective', 'executive', 'scientist', 'biolo...   \n",
       "white_names-Knoche_et_al_2019            ['adam', 'chip', 'harry', 'josh', 'roger', 'al...   \n",
       "young-Rudinger_et_al_2017                            ['young', 'young_woman', 'young_man']   \n",
       "young_names-Caliskan_et_al_2017          ['Tiffany', 'Michelle', 'Cindy', 'Kristy', 'Br...   \n",
       "\n",
       "                                                                    Source / Justification  \\\n",
       "Seeds ID                                                                                     \n",
       "adjectives_appearance-Garg_et_al_2018    \"mostly from\" http://usefulenglish.ru/vocabula...   \n",
       "adjectives_intelligence-Garg_et_al_2018  mostly from https://www.e-education.psu.edu/wr...   \n",
       "adjectives_otherization-Garg_et_al_2018  part of a list mostly from Gunkel (1987) (pers...   \n",
       "adjectives_princeton-Garg_et_al_2018     part of a list mostly from Gunkel (1987) (pers...   \n",
       "adjectives_sensitive-Garg_et_al_2018     part of a list mostly from Gunkel (1987) (pers...   \n",
       "...                                                                                    ...   \n",
       "white-Rudinger_et_al_2017                The U.S. Equal Employment Opportunity Commissi...   \n",
       "white_collar_job-Fast_et_al_2016         \"...to generate Empath’s category names and se...   \n",
       "white_names-Knoche_et_al_2019            We combined and extended sets which were previ...   \n",
       "young-Rudinger_et_al_2017                The U.S. Equal Employment Opportunity Commissi...   \n",
       "young_names-Caliskan_et_al_2017                                                       None   \n",
       "\n",
       "                                                                 Source Categories  \\\n",
       "Seeds ID                                                                             \n",
       "adjectives_appearance-Garg_et_al_2018                                        other   \n",
       "adjectives_intelligence-Garg_et_al_2018                                      other   \n",
       "adjectives_otherization-Garg_et_al_2018              borrowed-from-social-sciences   \n",
       "adjectives_princeton-Garg_et_al_2018                 borrowed-from-social-sciences   \n",
       "adjectives_sensitive-Garg_et_al_2018                 borrowed-from-social-sciences   \n",
       "...                                                                            ...   \n",
       "white-Rudinger_et_al_2017                                           corpus-derived   \n",
       "white_collar_job-Fast_et_al_2016         crowd-sourced, curated, lexical-resources   \n",
       "white_names-Knoche_et_al_2019            borrowed-from-social-sciences, prior-work   \n",
       "young-Rudinger_et_al_2017                                           corpus-derived   \n",
       "young_names-Caliskan_et_al_2017                                               None   \n",
       "\n",
       "                                                                             Used in Paper  \\\n",
       "Seeds ID                                                                                     \n",
       "adjectives_appearance-Garg_et_al_2018    Word Embeddings Quantify 100 Years of Gender a...   \n",
       "adjectives_intelligence-Garg_et_al_2018  Word Embeddings Quantify 100 Years of Gender a...   \n",
       "adjectives_otherization-Garg_et_al_2018  Word Embeddings Quantify 100 Years of Gender a...   \n",
       "adjectives_princeton-Garg_et_al_2018     Word Embeddings Quantify 100 Years of Gender a...   \n",
       "adjectives_sensitive-Garg_et_al_2018     Word Embeddings Quantify 100 Years of Gender a...   \n",
       "...                                                                                    ...   \n",
       "white-Rudinger_et_al_2017                Social Bias in Elicited Natural Language Infer...   \n",
       "white_collar_job-Fast_et_al_2016         Empath: Understanding Topic Signals in Large-S...   \n",
       "white_names-Knoche_et_al_2019            Identifying Biases in Politically Biased Wikis...   \n",
       "young-Rudinger_et_al_2017                Social Bias in Elicited Natural Language Infer...   \n",
       "young_names-Caliskan_et_al_2017          Semantics derived automatically from language ...   \n",
       "\n",
       "                                                                                      Link  \n",
       "Seeds ID                                                                                    \n",
       "adjectives_appearance-Garg_et_al_2018    https://github.com/nikhgarg/EmbeddingDynamicSt...  \n",
       "adjectives_intelligence-Garg_et_al_2018  https://github.com/nikhgarg/EmbeddingDynamicSt...  \n",
       "adjectives_otherization-Garg_et_al_2018  https://github.com/nikhgarg/EmbeddingDynamicSt...  \n",
       "adjectives_princeton-Garg_et_al_2018     https://github.com/nikhgarg/EmbeddingDynamicSt...  \n",
       "adjectives_sensitive-Garg_et_al_2018     https://github.com/nikhgarg/EmbeddingDynamicSt...  \n",
       "...                                                                                    ...  \n",
       "white-Rudinger_et_al_2017                             https://github.com/cjmay/snli-ethics  \n",
       "white_collar_job-Fast_et_al_2016                  https://github.com/Ejhfast/empath-client  \n",
       "white_names-Knoche_et_al_2019               https://github.com/MKnoche/wiki_bias_embedding  \n",
       "young-Rudinger_et_al_2017                             https://github.com/cjmay/snli-ethics  \n",
       "young_names-Caliskan_et_al_2017          https://dataverse.harvard.edu/dataset.xhtml?pe...  \n",
       "\n",
       "[178 rows x 6 columns]"
      ]
     },
     "execution_count": 44,
     "metadata": {},
     "output_type": "execute_result"
    }
   ],
   "source": [
    "seeds"
   ]
  },
  {
   "cell_type": "code",
   "execution_count": 40,
   "id": "5d217c5e-815e-46af-8cb0-88d52eafa551",
   "metadata": {},
   "outputs": [],
   "source": [
    "# gathered_pca_models = [metrics.do_pca\n",
    "\n",
    "generated_seeds[\"set_sim\"] = comp_set_sim(generated_seeds[\"seeds\"], \"generated\")"
   ]
  },
  {
   "cell_type": "code",
   "execution_count": 71,
   "id": "848cf656-54e9-49c9-aea3-b49522345b06",
   "metadata": {},
   "outputs": [],
   "source": [
    "# linear fit of generated seed data\n",
    "gen_coef = np.polyfit(generated_seeds[\"set_sim\"], generated_seeds[\"exp_var\"], 1)\n",
    "gen_poly1d_fn = np.poly1d(gen_coef)"
   ]
  },
  {
   "cell_type": "markdown",
   "id": "c780139c-fc67-49e4-892a-2e0457d1fa20",
   "metadata": {},
   "source": [
    "## Plotting"
   ]
  },
  {
   "cell_type": "code",
   "execution_count": 69,
   "id": "7c86f849-4e17-4bd5-bb5e-6a5bfab32415",
   "metadata": {},
   "outputs": [
    {
     "data": {
      "image/png": "[encoded data removed]",
      "text/plain": [
       "<Figure size 468.091x360 with 1 Axes>"
      ]
     },
     "metadata": {
      "needs_background": "light"
     },
     "output_type": "display_data"
    }
   ],
   "source": [
    "fig, ax = plt.subplots(1, 1)\n",
    "\n",
    "fig.set_size_inches(w=6.50127, h=5)\n",
    "\n",
    "ax.plot(\n",
    "    generated_seeds[\"set_sim\"],\n",
    "    generated_seeds[\"exp_var\"],\n",
    "    \"o\",\n",
    "    generated_seeds[\"set_sim\"],\n",
    "    gen_poly1d_fn(generated_seeds[\"set_sim\"]),\n",
    "    color=\"#B8CCE1\",\n",
    "    linewidth=3,\n",
    "    markersize=10,\n",
    "    markerfacecolor=\"#B8CCE1\",\n",
    "    markeredgecolor=\"white\",\n",
    ")\n",
    "\n",
    "plt.show()"
   ]
  }
 ],
 "metadata": {
  "kernelspec": {
   "display_name": "Python 3 (ipykernel)",
   "language": "python",
   "name": "python3"
  },
  "language_info": {
   "codemirror_mode": {
    "name": "ipython",
    "version": 3
   },
   "file_extension": ".py",
   "mimetype": "text/x-python",
   "name": "python",
   "nbconvert_exporter": "python",
   "pygments_lexer": "ipython3",
   "version": "3.9.7"
  }
 },
 "nbformat": 4,
 "nbformat_minor": 5
}
