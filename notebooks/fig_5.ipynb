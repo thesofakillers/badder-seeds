{
 "cells": [
  {
   "cell_type": "code",
   "execution_count": 1,
   "id": "f1ba104f-864f-4c14-8e8d-ba06f40c42a6",
   "metadata": {},
   "outputs": [],
   "source": [
    "%load_ext autoreload\n",
    "%autoreload 2"
   ]
  },
  {
   "cell_type": "code",
   "execution_count": 2,
   "id": "2ce6bb8b-a100-4741-9908-8cf26a5b515c",
   "metadata": {},
   "outputs": [],
   "source": [
    "import os\n",
    "\n",
    "if os.path.isdir(\"../notebooks/\"):\n",
    "    os.chdir(\"..\")"
   ]
  },
  {
   "cell_type": "code",
   "execution_count": 3,
   "id": "c128e717-d9ba-41b6-8175-db7a09bd7a2a",
   "metadata": {},
   "outputs": [],
   "source": [
    "import json\n",
    "import random\n",
    "import itertools\n",
    "\n",
    "import numpy as np\n",
    "import pandas as pd\n",
    "import matplotlib.pyplot as plt\n",
    "import gensim.models as gm\n",
    "from tqdm import tqdm\n",
    "\n",
    "from badseeds import utils, seedbank, metrics\n",
    "\n",
    "plt.rcParams[\"font.family\"] = \"serif\""
   ]
  },
  {
   "cell_type": "code",
   "execution_count": 4,
   "id": "ac7bee13-3821-4971-9a09-5f18f7fee73e",
   "metadata": {},
   "outputs": [],
   "source": [
    "# path to config json file containing paths to datasets. change if necessary\n",
    "CONFIG_PATH = \"./config.json\""
   ]
  },
  {
   "cell_type": "code",
   "execution_count": 5,
   "id": "19a9f52a-0a51-4592-b7d1-1cc4c4d9f889",
   "metadata": {},
   "outputs": [],
   "source": [
    "with open(CONFIG_PATH, \"r\") as f:\n",
    "    config = json.load(f)"
   ]
  },
  {
   "cell_type": "code",
   "execution_count": 6,
   "id": "caed2768-b481-4268-96d3-040fc3ccf490",
   "metadata": {},
   "outputs": [],
   "source": [
    "# for replicability\n",
    "np.random.seed(42)\n",
    "random.seed(42)"
   ]
  },
  {
   "cell_type": "markdown",
   "id": "9372120e-83c7-4349-ae95-261be7a7031d",
   "metadata": {},
   "source": [
    "## Models and Data"
   ]
  },
  {
   "cell_type": "markdown",
   "id": "47251c4c-723b-4f13-b455-879ba6fbff64",
   "metadata": {},
   "source": [
    "### Models"
   ]
  },
  {
   "cell_type": "code",
   "execution_count": 7,
   "id": "548a14a2-5af3-433e-b88b-7c827e0477f8",
   "metadata": {},
   "outputs": [],
   "source": [
    "embeddings_dir = os.path.join(\n",
    "    config[\"models\"][\"dir_path\"], config[\"models\"][\"wiki_subpath\"][\"10\"]\n",
    ")"
   ]
  },
  {
   "cell_type": "code",
   "execution_count": 8,
   "id": "4bc760ed-6c8c-411a-b299-5765ac5cb400",
   "metadata": {},
   "outputs": [
    {
     "name": "stderr",
     "output_type": "stream",
     "text": [
      "100%|██████████████████████████████████████████████████| 40/40 [00:08<00:00,  4.85it/s]\n"
     ]
    }
   ],
   "source": [
    "models = []\n",
    "for file in tqdm(os.listdir(embeddings_dir)):\n",
    "    if file.endswith(\".kv\"):\n",
    "        models.append(gm.KeyedVectors.load(os.path.join(embeddings_dir, file)))"
   ]
  },
  {
   "cell_type": "markdown",
   "id": "7a5eb540-3c2d-4a3b-927b-f1b48a30beac",
   "metadata": {},
   "source": [
    "### Data"
   ]
  },
  {
   "cell_type": "markdown",
   "id": "7a59d1a5-6777-466e-9200-962c7a6ad1e1",
   "metadata": {},
   "source": [
    "#### Gathered Seed Sets"
   ]
  },
  {
   "cell_type": "code",
   "execution_count": 9,
   "id": "f2cb327e-3854-4473-b3be-b03dc7ca873b",
   "metadata": {},
   "outputs": [],
   "source": [
    "seeds = seedbank.seedbanking(config[\"seeds\"][\"dir_path\"] + \"seeds.json\", index=False)"
   ]
  },
  {
   "cell_type": "code",
   "execution_count": 10,
   "id": "642754e9-73cd-4cb9-88c9-9e128cac5173",
   "metadata": {},
   "outputs": [],
   "source": [
    "gathered_seeds = seeds[\"Seeds\"]"
   ]
  },
  {
   "cell_type": "code",
   "execution_count": 11,
   "id": "8dbbbfac-c206-4866-8061-62d191e325ac",
   "metadata": {},
   "outputs": [],
   "source": [
    "highlighted_ids = {\n",
    "    \"names\": [\"white_names-Knoche_et_al_2019\", \"black_names-Knoche_et_al_2019\"],\n",
    "    \"roles\": [\"caucasian_roles-Manzini_et_al_2019\", \"black_roles-Manzini_et_al_2019\"],\n",
    "}"
   ]
  },
  {
   "cell_type": "code",
   "execution_count": 12,
   "id": "e0ab4501-7f91-44a6-a0b0-beab390cdfd2",
   "metadata": {},
   "outputs": [
    {
     "data": {
      "text/plain": [
       "137    [adam, chip, harry, josh, roger, alan, frank, ...\n",
       "138    [alonzo, jamel, lerone, percell, theo, alphons...\n",
       "Name: Seeds, dtype: object"
      ]
     },
     "execution_count": 12,
     "metadata": {},
     "output_type": "execute_result"
    }
   ],
   "source": [
    "seeds[seeds[\"Seeds ID\"].isin(highlighted_ids[\"names\"])][\"Seeds\"]"
   ]
  },
  {
   "cell_type": "code",
   "execution_count": 13,
   "id": "434fa87e-7f7d-4fbd-a5b0-8b0a9d03b80d",
   "metadata": {},
   "outputs": [
    {
     "data": {
      "text/plain": [
       "48        [slave, musician, runner, criminal, homeless]\n",
       "49    [manager, executive, redneck, hillbilly, leade...\n",
       "Name: Seeds, dtype: object"
      ]
     },
     "execution_count": 13,
     "metadata": {},
     "output_type": "execute_result"
    }
   ],
   "source": [
    "seeds[seeds[\"Seeds ID\"].isin(highlighted_ids[\"roles\"])][\"Seeds\"]"
   ]
  },
  {
   "cell_type": "markdown",
   "id": "69a8334f-dad7-496d-b4e0-ba5555105c57",
   "metadata": {},
   "source": [
    "##### Gathered Seed Set Pairs"
   ]
  },
  {
   "cell_type": "code",
   "execution_count": 14,
   "id": "fb68f903-b29d-4ad5-bfe4-4bc554ea4cb4",
   "metadata": {},
   "outputs": [],
   "source": [
    "pair_df = pd.read_csv(config[\"pairs\"][\"dir_path\"] + \"seed_set_pairings.csv\")"
   ]
  },
  {
   "cell_type": "markdown",
   "id": "9b75090d-e018-4db4-afd6-51d3dd68dd45",
   "metadata": {},
   "source": [
    "#### Generated Seed Sets"
   ]
  },
  {
   "cell_type": "code",
   "execution_count": 15,
   "id": "34de83db-4814-4f01-acd5-208ff9f6b653",
   "metadata": {},
   "outputs": [
    {
     "name": "stderr",
     "output_type": "stream",
     "text": [
      "100%|██████████████████████████████████████████████████| 50/50 [00:01<00:00, 32.51it/s]\n"
     ]
    }
   ],
   "source": [
    "# 50 generated seed sets of size 25\n",
    "generated_seeds = [\n",
    "    utils.generate_seed_set(model, n=24) for model in tqdm(random.choices(models, k=50))\n",
    "]"
   ]
  },
  {
   "cell_type": "markdown",
   "id": "7ed7d6dc-e980-4c76-9d9b-5f13b79af537",
   "metadata": {},
   "source": [
    "## Processing"
   ]
  },
  {
   "cell_type": "markdown",
   "id": "3dc25d96-5f3b-487d-82ae-995b68b893f1",
   "metadata": {},
   "source": [
    "### Embedding"
   ]
  },
  {
   "cell_type": "code",
   "execution_count": 16,
   "id": "12f43921-7a51-4567-a3ac-aa3a86501c7a",
   "metadata": {},
   "outputs": [],
   "source": [
    "gathered_seeds_embeddings = [\n",
    "    utils.get_embeddings(seed_set, models, query_strat=\"average\")\n",
    "    for seed_set in gathered_seeds\n",
    "]"
   ]
  },
  {
   "cell_type": "code",
   "execution_count": 17,
   "id": "e9505514-73be-4ab4-84d2-13ec9bcd7a7f",
   "metadata": {},
   "outputs": [],
   "source": [
    "generated_seeds_embeddings = [\n",
    "    utils.get_embeddings(seed_set, models, query_strat=\"average\")\n",
    "    for seed_set in generated_seeds\n",
    "]"
   ]
  },
  {
   "cell_type": "markdown",
   "id": "8539c140-5457-47c7-b527-1c00d05f0db0",
   "metadata": {},
   "source": [
    "### Pairing"
   ]
  },
  {
   "cell_type": "markdown",
   "id": "6ad357d2-a45d-45d6-9b88-5bb35c34a66b",
   "metadata": {},
   "source": [
    "#### Gathered Seed Sets"
   ]
  },
  {
   "cell_type": "code",
   "execution_count": 18,
   "id": "ab0bf813-6fe4-44ef-a470-6eafe9924b53",
   "metadata": {},
   "outputs": [],
   "source": [
    "pair_ids = [list(x) for x in pair_df.to_records(index=False)]"
   ]
  },
  {
   "cell_type": "code",
   "execution_count": 19,
   "id": "bf0b3faa-3142-4428-b5b7-26d85a487aaf",
   "metadata": {},
   "outputs": [],
   "source": [
    "pair_idxs = [seeds[seeds[\"Seeds ID\"].isin(pair)].index.to_list() for pair in pair_ids]"
   ]
  },
  {
   "cell_type": "code",
   "execution_count": 20,
   "id": "5e1c81c6-97d1-4ab4-9c51-daeffc577728",
   "metadata": {},
   "outputs": [],
   "source": [
    "gathered_emb_pairs = [\n",
    "    [gathered_seeds_embeddings[i], gathered_seeds_embeddings[j]] for (i, j) in pair_idxs\n",
    "]"
   ]
  },
  {
   "cell_type": "markdown",
   "id": "b4a30b31-6feb-47c7-abda-cd55633bfc7f",
   "metadata": {},
   "source": [
    "#### Generated Seed Sets"
   ]
  },
  {
   "cell_type": "code",
   "execution_count": 21,
   "id": "bdb619d1-2b4d-49d2-857a-f183af9924f3",
   "metadata": {},
   "outputs": [],
   "source": [
    "generated_emb_pairs = list(itertools.combinations(generated_seeds_embeddings, 2))"
   ]
  },
  {
   "cell_type": "markdown",
   "id": "52a423f6-fd7e-44d2-a653-8b57b18d9ea6",
   "metadata": {},
   "source": [
    "### PCA Explained Variance"
   ]
  },
  {
   "cell_type": "markdown",
   "id": "56dfc6d3-7cdd-4512-8296-4c5fbb20bf71",
   "metadata": {},
   "source": [
    "#### Gathered Seed Sets"
   ]
  },
  {
   "cell_type": "code",
   "execution_count": 22,
   "id": "5d217c5e-815e-46af-8cb0-88d52eafa551",
   "metadata": {},
   "outputs": [],
   "source": [
    "gathered_pca_models = [\n",
    "    metrics.do_pca_embeddings(set_a, set_b, 3)\n",
    "    for (set_a, set_b) in (gathered_emb_pairs)\n",
    "]"
   ]
  },
  {
   "cell_type": "code",
   "execution_count": 23,
   "id": "01e946b6-7704-4065-bbb5-3c63fb20c472",
   "metadata": {},
   "outputs": [],
   "source": [
    "gathered_exp_var = [\n",
    "    model.explained_variance_ratio_[0] if model is not None else np.nan\n",
    "    for model in gathered_pca_models\n",
    "]"
   ]
  },
  {
   "cell_type": "markdown",
   "id": "77923090-206f-4b8c-ae6e-27ae2eb4ed64",
   "metadata": {},
   "source": [
    "#### Generated Seed Sets"
   ]
  },
  {
   "cell_type": "code",
   "execution_count": 24,
   "id": "06e9d66e-741f-447c-abe0-833cd67df8b3",
   "metadata": {},
   "outputs": [],
   "source": [
    "generated_pca_models = [\n",
    "    metrics.do_pca_embeddings(set_a, set_b, 3)\n",
    "    for (set_a, set_b) in (generated_emb_pairs)\n",
    "]"
   ]
  },
  {
   "cell_type": "code",
   "execution_count": 25,
   "id": "c4c0c0c9-932a-4bdf-9d53-54cc0de13d3b",
   "metadata": {},
   "outputs": [],
   "source": [
    "generated_exp_var = [\n",
    "    model.explained_variance_ratio_[0] if model is not None else np.nan\n",
    "    for model in generated_pca_models\n",
    "]"
   ]
  },
  {
   "cell_type": "markdown",
   "id": "9da3a68c-feb9-4433-bbc4-59474d057c49",
   "metadata": {},
   "source": [
    "### Set Similarity"
   ]
  },
  {
   "cell_type": "code",
   "execution_count": 26,
   "id": "e5e43557-befb-4aa4-9a73-cdc5a3d13112",
   "metadata": {},
   "outputs": [],
   "source": [
    "gathered_set_sim = [\n",
    "    metrics.set_similarity(set_a, set_b, True)\n",
    "    for (set_a, set_b) in (gathered_emb_pairs)\n",
    "]"
   ]
  },
  {
   "cell_type": "code",
   "execution_count": 27,
   "id": "aae7eded-77ec-461c-b275-7edfac7b04c3",
   "metadata": {},
   "outputs": [],
   "source": [
    "generated_set_sim = [\n",
    "    metrics.set_similarity(set_a, set_b, True)\n",
    "    for (set_a, set_b) in (generated_emb_pairs)\n",
    "]"
   ]
  },
  {
   "cell_type": "markdown",
   "id": "a4f72348-ac6d-44e8-88b8-b5e8502b47b9",
   "metadata": {},
   "source": [
    "### Additional Processing"
   ]
  },
  {
   "cell_type": "code",
   "execution_count": 28,
   "id": "848cf656-54e9-49c9-aea3-b49522345b06",
   "metadata": {},
   "outputs": [],
   "source": [
    "# linear fit of generated seed data\n",
    "gen_coef = np.polyfit(generated_set_sim, generated_exp_var, 1)\n",
    "gen_poly1d_fn = np.poly1d(gen_coef)"
   ]
  },
  {
   "cell_type": "markdown",
   "id": "c780139c-fc67-49e4-892a-2e0457d1fa20",
   "metadata": {},
   "source": [
    "## Plotting"
   ]
  },
  {
   "cell_type": "code",
   "execution_count": 29,
   "id": "ed57ad48-c9c8-4355-9f66-4296f42858f8",
   "metadata": {},
   "outputs": [],
   "source": [
    "names_idx = pair_df[pair_df[\"ID_A\"] == \"white_names-Knoche_et_al_2019\"].index.to_list()[\n",
    "    0\n",
    "]\n",
    "roles_idx = pair_df[\n",
    "    pair_df[\"ID_B\"] == \"caucasian_roles-Manzini_et_al_2019\"\n",
    "].index.to_list()[0]"
   ]
  },
  {
   "cell_type": "code",
   "execution_count": 30,
   "id": "7c86f849-4e17-4bd5-bb5e-6a5bfab32415",
   "metadata": {},
   "outputs": [
    {
     "data": {
      "image/png": "[encoded data removed]",
      "text/plain": [
       "<Figure size 468.091x360 with 1 Axes>"
      ]
     },
     "metadata": {
      "needs_background": "light"
     },
     "output_type": "display_data"
    }
   ],
   "source": [
    "fig, ax = plt.subplots(1, 1)\n",
    "\n",
    "fig.set_size_inches(w=6.50127, h=5)\n",
    "\n",
    "# generated\n",
    "ax.plot(\n",
    "    generated_set_sim,\n",
    "    generated_exp_var,\n",
    "    \"o\",\n",
    "    generated_set_sim,\n",
    "    gen_poly1d_fn(generated_set_sim),\n",
    "    color=\"#B8CCE1\",\n",
    "    linewidth=3,\n",
    "    markersize=10,\n",
    "    markerfacecolor=\"#B8CCE1\",\n",
    "    markeredgecolor=\"white\",\n",
    ")\n",
    "# gathered\n",
    "ax.plot(\n",
    "    gathered_set_sim,\n",
    "    gathered_exp_var,\n",
    "    \"o\",\n",
    "    markersize=10,\n",
    "    markerfacecolor=\"#F1B7B0\",\n",
    "    markeredgecolor=\"white\",\n",
    ")\n",
    "\n",
    "highlighted_set_sim = [gathered_set_sim[idx] for idx in [names_idx, roles_idx]]\n",
    "highlighted_exp_var = [gathered_exp_var[idx] for idx in [names_idx, roles_idx]]\n",
    "# highlighted gathered\n",
    "ax.plot(\n",
    "    highlighted_set_sim,\n",
    "    highlighted_exp_var,\n",
    "    \"o\",\n",
    "    markersize=10,\n",
    "    markerfacecolor=\"#EC5E7B\",\n",
    "    markeredgecolor=\"white\",\n",
    ")\n",
    "\n",
    "for i, label in enumerate([\"Black vs White Names\", \"Black vs White Roles\"]):\n",
    "    ax.annotate(\n",
    "        label,\n",
    "        (highlighted_set_sim[i], highlighted_exp_var[i]),\n",
    "        xytext=(-10, 10),\n",
    "        textcoords='offset points',\n",
    "        horizontalalignment=\"right\",\n",
    "        color=\"#EC5E7B\",\n",
    "        weight=\"heavy\",\n",
    "        fontsize=12,\n",
    "        bbox=dict(facecolor='white', alpha=0.5, edgecolor='white')\n",
    "    )\n",
    "\n",
    "\n",
    "ax.set_xlabel(\"Set Similarity\")\n",
    "ax.set_ylabel(\"Explained Variance Ratio\")\n",
    "\n",
    "fig.set_tight_layout(True)\n",
    "plt.show()"
   ]
  },
  {
   "cell_type": "code",
   "execution_count": 31,
   "id": "a874680d-7513-4cbc-95b3-825ff06dd27d",
   "metadata": {},
   "outputs": [],
   "source": [
    "# save to latex\n",
    "plt.rc(\"pgf\", texsystem=\"pdflatex\")\n",
    "fig.savefig(\"images/fig_5.pgf\", bbox_inches=\"tight\")"
   ]
  }
 ],
 "metadata": {
  "kernelspec": {
   "display_name": "Python 3 (ipykernel)",
   "language": "python",
   "name": "python3"
  },
  "language_info": {
   "codemirror_mode": {
    "name": "ipython",
    "version": 3
   },
   "file_extension": ".py",
   "mimetype": "text/x-python",
   "name": "python",
   "nbconvert_exporter": "python",
   "pygments_lexer": "ipython3",
   "version": "3.9.5"
  }
 },
 "nbformat": 4,
 "nbformat_minor": 5
}
