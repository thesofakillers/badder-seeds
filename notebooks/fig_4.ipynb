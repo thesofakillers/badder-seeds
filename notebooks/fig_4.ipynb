{
 "cells": [
  {
   "cell_type": "code",
   "execution_count": 60,
   "id": "639cc4e6-3618-439c-828c-d791833e7454",
   "metadata": {},
   "outputs": [],
   "source": [
    "import os\n",
    "import time\n",
    "\n",
    "start = time.time()\n",
    "\n",
    "if os.path.isdir(\"../notebooks/\"):\n",
    "    os.chdir(\"..\")"
   ]
  },
  {
   "cell_type": "code",
   "execution_count": 61,
   "id": "fcc04878",
   "metadata": {},
   "outputs": [
    {
     "name": "stdout",
     "output_type": "stream",
     "text": [
      "The memory_profiler extension is already loaded. To reload it, use:\n",
      "  %reload_ext memory_profiler\n"
     ]
    }
   ],
   "source": [
    "import json\n",
    "import random\n",
    "import itertools\n",
    "import collections\n",
    "%load_ext memory_profiler\n",
    "\n",
    "import numpy as np\n",
    "import pandas as pd\n",
    "import matplotlib.pyplot as plt\n",
    "import gensim.models as gm\n",
    "from tqdm import tqdm\n",
    "from gensim.models import KeyedVectors\n",
    "import seaborn as sns\n",
    "from sklearn.metrics.pairwise import cosine_similarity\n",
    "\n",
    "\n",
    "from badseeds import replicate_fig2\n",
    "from badseeds import utils, seedbank, metrics, replicate_bolukbasi, replicate_fig4\n"
   ]
  },
  {
   "cell_type": "code",
   "execution_count": 62,
   "id": "4d634052",
   "metadata": {},
   "outputs": [],
   "source": [
    "# path to config json file containing paths to datasets. change if necessary\n",
    "CONFIG_PATH = \"./config.json\""
   ]
  },
  {
   "cell_type": "code",
   "execution_count": 63,
   "id": "0b5b844d",
   "metadata": {},
   "outputs": [],
   "source": [
    "with open(CONFIG_PATH, \"r\") as f:\n",
    "    config = json.load(f)"
   ]
  },
  {
   "cell_type": "code",
   "execution_count": 64,
   "id": "467517a5-242b-4cc5-a6c8-ad45a6a8519b",
   "metadata": {},
   "outputs": [],
   "source": [
    "import numpy as np\n",
    "import matplotlib.pyplot as plt\n",
    "import matplotlib\n",
    "import seaborn as sns\n",
    "\n",
    "plt.rcParams[\"font.family\"] = \"serif\""
   ]
  },
  {
   "cell_type": "code",
   "execution_count": 65,
   "id": "80fca67a",
   "metadata": {},
   "outputs": [],
   "source": [
    "# for replicability\n",
    "np.random.seed(42)\n",
    "random.seed(42)"
   ]
  },
  {
   "cell_type": "code",
   "execution_count": 66,
   "id": "cfea2ba7-42df-48ae-bacd-d11dbacc5178",
   "metadata": {},
   "outputs": [],
   "source": [
    "# # mock data\n",
    "# from urllib.request import Request, urlopen\n",
    "# import random\n",
    "\n",
    "# url = \"https://svnweb.freebsd.org/csrg/share/dict/words?revision=61569&view=co\"\n",
    "# req = Request(url, headers={\"User-Agent\": \"Mozilla/5.0\"})\n",
    "\n",
    "# web_byte = urlopen(req).read()\n",
    "\n",
    "# webpage = web_byte.decode(\"utf-8\")\n",
    "# random_30_words = random.choices(webpage.split(\"\\n\"), k=30)"
   ]
  },
  {
   "cell_type": "code",
   "execution_count": 67,
   "id": "2c51d8d8-9105-4b34-8010-36cb816e732c",
   "metadata": {},
   "outputs": [],
   "source": [
    "# gender_pairs_words = random_30_words[:10]\n",
    "# gender_pairs_values = np.sort(np.random.randn(10))\n",
    "\n",
    "# random_pairs_words = random_30_words[10:20]\n",
    "# random_pairs_values = np.sort(np.random.randn(10))\n",
    "\n",
    "# shuffled_gender_pairs_words = random_30_words[20:]\n",
    "# shuffled_gender_pairs_values = np.sort(np.random.randn(10))\n",
    "# # print(gender_pairs_words)"
   ]
  },
  {
   "cell_type": "markdown",
   "id": "d4a998e2",
   "metadata": {},
   "source": [
    "## Models and Data"
   ]
  },
  {
   "cell_type": "markdown",
   "id": "9d2eafaf",
   "metadata": {},
   "source": [
    "### Models"
   ]
  },
  {
   "cell_type": "code",
   "execution_count": 68,
   "id": "3368bf56",
   "metadata": {},
   "outputs": [
    {
     "name": "stdout",
     "output_type": "stream",
     "text": [
      "peak memory: 304.06 MiB, increment: 0.65 MiB\n"
     ]
    }
   ],
   "source": [
    "%%memit\n",
    "models = []\n",
    "# load google news word2vec\n",
    "# Load vectors directly from the file\n",
    "# models.append(\n",
    "#     KeyedVectors.load_word2vec_format(\n",
    "#         os.path.join(\n",
    "#             config[\"models\"][\"dir_path\"], config[\"models\"][\"google_news_subpath\"]\n",
    "#         )\n",
    "#         + \".bin\",\n",
    "#         binary=True,\n",
    "#     )\n",
    "# )\n",
    "\n",
    "# replicate fig. 3 with NYT dataset\n",
    "# get embeddings trained on NYT with min freq of 100\n",
    "\n",
    "direct = os.fsencode(\n",
    "    os.path.join(\n",
    "        config[\"models\"][\"dir_path\"], config[\"models\"][\"nyt_subpath\"][\"100\"]\n",
    "    )\n",
    ")\n",
    "\n",
    "for filename in os.listdir(direct):\n",
    "    f = os.path.join(direct, filename)\n",
    "\n",
    "    # checking if it is a file\n",
    "    if os.path.isfile(f):\n",
    "        f = os.fsdecode(f)\n",
    "        models.append(KeyedVectors.load(f))\n"
   ]
  },
  {
   "cell_type": "markdown",
   "id": "ae63994a",
   "metadata": {},
   "source": [
    "### Seeds"
   ]
  },
  {
   "cell_type": "code",
   "execution_count": 69,
   "id": "f447e6da",
   "metadata": {},
   "outputs": [
    {
     "name": "stdout",
     "output_type": "stream",
     "text": [
      "peak memory: 304.34 MiB, increment: 0.24 MiB\n"
     ]
    }
   ],
   "source": [
    "%%memit\n",
    "# get desired seeds:\n",
    "seed = seedbank.seedbanking(config[\"seeds\"][\"dir_path\"] + \"seeds.json\", index=\"ID\")\n",
    "\n",
    "gender_seed_list = [\n",
    "    \"definitional_female-Bolukbasi_et_al_2016\",\n",
    "    \"definitional_male-Bolukbasi_et_al_2016\",\n",
    "]\n",
    "\n",
    "# lower case seeds? she didnt do it in appendix (doesnt make sense tho)\n",
    "\n",
    "seed_list = [seed.loc[seed_set]['Seeds'] for seed_set in gender_seed_list]\n",
    "seed1 = [item.lower() for item in seed_list[0]]\n",
    "seed2 = [item.lower() for item in seed_list[1]]\n",
    "\n",
    "# hard coded shuffled seeds from paper\n",
    "seed1_shuf = [\n",
    "    \"female\",\n",
    "    \"she\",\n",
    "    \"woman\",\n",
    "    \"gal\",\n",
    "    \"her\",\n",
    "    \"daughter\",\n",
    "    \"girl\",\n",
    "    \"herself\",\n",
    "    \"mother\",\n",
    "    \"mary\",\n",
    "]\n",
    "#misses seed\n",
    "seed2_shuf = [\n",
    "    \"john\",\n",
    "    \"man\",\n",
    "    \"son\",\n",
    "    \"father\",\n",
    "    \"male\",\n",
    "    \"himself\",\n",
    "    \"guy\",\n",
    "    \"he\",\n",
    "    \"his\",\n",
    "    \"boy\",\n",
    "]\n",
    "\n",
    "seed2_rnd = [\n",
    "    \"chun\",\n",
    "    \"brush\",\n",
    "    \"dictates\",\n",
    "    \"caesar\",\n",
    "    \"fewest\",\n",
    "    \"breitbart\",\n",
    "    \"rod\",\n",
    "    \"heaped\",\n",
    "    \"julianna\",\n",
    "    \"longest\",\n",
    "]\n",
    "seed1_rnd = [\n",
    "    \"negatives\",\n",
    "    \"vel\",\n",
    "    \"theirs\",\n",
    "    \"canoe\",\n",
    "    \"meet\",\n",
    "    \"bilingual\",\n",
    "    \"mor\",\n",
    "    \"facets\",\n",
    "    \"fari\",\n",
    "    \"lily\",\n",
    "]"
   ]
  },
  {
   "cell_type": "markdown",
   "id": "54bef2b0",
   "metadata": {},
   "source": [
    "### Function call"
   ]
  },
  {
   "cell_type": "code",
   "execution_count": 70,
   "id": "846e35ef",
   "metadata": {
    "scrolled": false
   },
   "outputs": [
    {
     "name": "stdout",
     "output_type": "stream",
     "text": [
      "\"Key 'gal' not present\"\n",
      "\"Key 'gal' not present\"\n",
      "\"Key 'gal' not present\"\n",
      "\"Key 'gal' not present\"\n",
      "\"Key 'gal' not present\"\n",
      "\"Key 'gal' not present\"\n",
      "\"Key 'gal' not present\"\n",
      "\"Key 'gal' not present\"\n",
      "\"Key 'gal' not present\"\n",
      "\"Key 'gal' not present\"\n",
      "\"Key 'gal' not present\"\n",
      "\"Key 'gal' not present\"\n",
      "\"Key 'gal' not present\"\n",
      "\"Key 'gal' not present\"\n",
      "\"Key 'gal' not present\"\n",
      "\"Key 'gal' not present\"\n",
      "\"Key 'gal' not present\"\n",
      "\"Key 'gal' not present\"\n",
      "\"Key 'gal' not present\"\n",
      "\"Key 'gal' not present\"\n",
      "\"Key 'gal' not present\"\n",
      "\"Key 'gal' not present\"\n",
      "\"Key 'gal' not present\"\n",
      "\"Key 'gal' not present\"\n",
      "\"Key 'gal' not present\"\n",
      "\"Key 'gal' not present\"\n",
      "\"Key 'gal' not present\"\n",
      "\"Key 'gal' not present\"\n",
      "\"Key 'gal' not present\"\n",
      "\"Key 'gal' not present\"\n",
      "\"Key 'gal' not present\"\n",
      "\"Key 'gal' not present\"\n",
      "\"Key 'gal' not present\"\n",
      "\"Key 'gal' not present\"\n",
      "\"Key 'gal' not present\"\n",
      "\"Key 'gal' not present\"\n",
      "\"Key 'gal' not present\"\n",
      "\"Key 'gal' not present\"\n",
      "\"Key 'gal' not present\"\n",
      "\"Key 'gal' not present\"\n",
      "\"Key 'gal' not present\"\n",
      "\"Key 'gal' not present\"\n",
      "\"Key 'gal' not present\"\n",
      "\"Key 'gal' not present\"\n",
      "\"Key 'gal' not present\"\n",
      "\"Key 'gal' not present\"\n",
      "\"Key 'gal' not present\"\n",
      "\"Key 'gal' not present\"\n",
      "\"Key 'gal' not present\"\n",
      "\"Key 'gal' not present\"\n",
      "\"Key 'gal' not present\"\n",
      "\"Key 'gal' not present\"\n",
      "\"Key 'gal' not present\"\n",
      "\"Key 'gal' not present\"\n",
      "\"Key 'gal' not present\"\n",
      "\"Key 'gal' not present\"\n",
      "\"Key 'gal' not present\"\n",
      "\"Key 'gal' not present\"\n",
      "\"Key 'gal' not present\"\n",
      "\"Key 'gal' not present\"\n",
      "\"Key 'gal' not present\"\n",
      "\"Key 'gal' not present\"\n",
      "\"Key 'gal' not present\"\n",
      "\"Key 'gal' not present\"\n",
      "\"Key 'gal' not present\"\n",
      "\"Key 'gal' not present\"\n",
      "\"Key 'gal' not present\"\n",
      "\"Key 'gal' not present\"\n",
      "\"Key 'gal' not present\"\n",
      "\"Key 'gal' not present\"\n",
      "\"Key 'gal' not present\"\n",
      "\"Key 'gal' not present\"\n",
      "\"Key 'gal' not present\"\n",
      "\"Key 'gal' not present\"\n",
      "\"Key 'gal' not present\"\n",
      "\"Key 'gal' not present\"\n",
      "\"Key 'gal' not present\"\n",
      "\"Key 'gal' not present\"\n",
      "\"Key 'gal' not present\"\n",
      "\"Key 'gal' not present\"\n",
      "peak memory: 304.37 MiB, increment: 0.00 MiB\n"
     ]
    }
   ],
   "source": [
    "%%memit\n",
    "(\n",
    "    variance_ordered,\n",
    "    variance_rnd,\n",
    "    variance_inshuffle,\n",
    ") = replicate_bolukbasi.pca_seeds_model(\n",
    "    seed1, seed2, models, seed1_shuf = seed1_shuf, seed2_shuf = seed2_shuf,components=True\n",
    ")\n",
    "\n"
   ]
  },
  {
   "cell_type": "markdown",
   "id": "fcc15010",
   "metadata": {},
   "source": [
    "#### Pairs"
   ]
  },
  {
   "cell_type": "code",
   "execution_count": 71,
   "id": "c794eb4c",
   "metadata": {},
   "outputs": [],
   "source": [
    "collect = collections.Counter(models[0].index_to_key)\n",
    "s = 0\n",
    "for model in models[1:]:\n",
    "    s += len(model.index_to_key)\n",
    "    collect = (collect & collections.Counter(model.index_to_key))\n",
    "\n",
    "overlap_list = list((collect).elements())\n",
    "overlap_embed = utils.get_embeddings(overlap_list, models, query_strat=\"average\")"
   ]
  },
  {
   "cell_type": "code",
   "execution_count": 72,
   "id": "80391d33",
   "metadata": {},
   "outputs": [],
   "source": [
    "vals = []\n",
    "words = []\n",
    "for var in [variance_ordered,variance_rnd,variance_inshuffle]:\n",
    "    temp = (np.mean(var, axis=0)[0])\n",
    "    cos_sim = cosine_similarity(overlap_embed, [temp]).flatten()\n",
    "    v, w = zip(*sorted(zip(list(cos_sim), overlap_list)))\n",
    "    vals.append(v[:10]+v[-10:])\n",
    "    words.append((w[:10]+w[-10:]))\n",
    "    \n",
    "gender_pairs_values, gender_pairs_words = np.asarray(vals[0]), words[0]\n",
    "random_pairs_values, random_pairs_words= np.asarray(vals[1]), words[1]\n",
    "shuffled_gender_pairs_values, shuffled_gender_pairs_words= np.asarray(vals[2]), words[2]"
   ]
  },
  {
   "cell_type": "markdown",
   "id": "a41b6383",
   "metadata": {},
   "source": [
    ">uses top 10 components of first model and ranks them across all models"
   ]
  },
  {
   "cell_type": "code",
   "execution_count": 82,
   "id": "1bbd3cc0",
   "metadata": {},
   "outputs": [],
   "source": [
    "# vals = []\n",
    "# words = []\n",
    "# # for var in [variance_ordered,variance_rnd,variance_inshuffle]:\n",
    "# temp = (np.mean(variance_ordered, axis=0)[0])\n",
    "# cos_sim = cosine_similarity(overlap_embed, [temp]).flatten()\n",
    "# v, w = zip(*sorted(zip(list(cos_sim), overlap_list)))\n",
    "# vals.append(v[:10]+v[-10:])\n",
    "# words.append((w[:10]+w[-10:]))\n",
    "# word = ((w[:10]+w[-10:]))\n",
    "\n",
    "\n",
    "# temp = (np.mean(variance_rnd, axis=0)[0])\n",
    "# cos_sim = cosine_similarity(overlap_embed, [temp]).flatten()\n",
    "# v, w = zip(*sorted(zip(list(cos_sim), word)))\n",
    "# vals.append(v[:10]+v[-10:])\n",
    "# words.append((w[:10]+w[-10:]))\n",
    "\n",
    "# temp = (np.mean(variance_inshuffle, axis=0)[0])\n",
    "# cos_sim = cosine_similarity(overlap_embed, [temp]).flatten()\n",
    "# v, w = zip(*sorted(zip(list(cos_sim), word)))\n",
    "# vals.append(v[:10]+v[-10:])\n",
    "# words.append((w[:10]+w[-10:]))\n",
    "\n",
    "# gender_pairs_values, gender_pairs_words = np.asarray(vals[0]), words[0]\n",
    "# random_pairs_values, random_pairs_words= np.asarray(vals[1]), words[1]\n",
    "# shuffled_gender_pairs_values, shuffled_gender_pairs_words= np.asarray(vals[2]), words[2]"
   ]
  },
  {
   "cell_type": "markdown",
   "id": "31c07e83",
   "metadata": {},
   "source": [
    "## Visualization"
   ]
  },
  {
   "cell_type": "code",
   "execution_count": 83,
   "id": "1771ac10-a25f-4886-9918-a40e55908d0d",
   "metadata": {},
   "outputs": [
    {
     "data": {
      "image/png": "[encoded data removed]",
      "text/plain": [
       "<Figure size 468.091x360 with 3 Axes>"
      ]
     },
     "metadata": {
      "needs_background": "light"
     },
     "output_type": "display_data"
    },
    {
     "name": "stdout",
     "output_type": "stream",
     "text": [
      "peak memory: 305.61 MiB, increment: 0.00 MiB\n"
     ]
    }
   ],
   "source": [
    "%%memit\n",
    "# plot\n",
    "fig, (ax1, ax2, ax3) = plt.subplots(1, 3)\n",
    "fig.set_size_inches(w=6.50127, h=5)\n",
    "fig.tight_layout(rect=[0, 0, 0.9, 1], pad=6)\n",
    "\n",
    "all_values = np.concatenate(\n",
    "    [gender_pairs_values, random_pairs_values, shuffled_gender_pairs_values]\n",
    ")\n",
    "vmin, vmax = np.min(all_values), np.max(all_values)\n",
    "\n",
    "ax1 = sns.heatmap(\n",
    "    gender_pairs_values[::-1, np.newaxis],\n",
    "    yticklabels=gender_pairs_words,\n",
    "    xticklabels=[],\n",
    "    cmap=plt.get_cmap(\"PiYG\"),\n",
    "    ax=ax1,\n",
    "    cbar=False,\n",
    "    annot=True,\n",
    "    center=np.zeros(1),\n",
    "    linewidths=0.5,\n",
    "    vmin=vmin,\n",
    "    vmax=vmax,\n",
    ")\n",
    "ax1.set_yticklabels(ax1.get_yticklabels(), rotation=0, fontsize=10)\n",
    "\n",
    "\n",
    "ax2 = sns.heatmap(\n",
    "    random_pairs_values[::-1, np.newaxis],\n",
    "    yticklabels=random_pairs_words,\n",
    "    xticklabels=[],\n",
    "    cmap=plt.get_cmap(\"PiYG\"),\n",
    "    ax=ax2,\n",
    "    cbar=False,\n",
    "    annot=True,\n",
    "    center=0,\n",
    "    linewidths=0.5,\n",
    "    vmin=vmin,\n",
    "    vmax=vmax,\n",
    ")\n",
    "ax2.set_yticklabels(ax2.get_yticklabels(), rotation=0, fontsize=10)\n",
    "\n",
    "ax3 = sns.heatmap(\n",
    "    shuffled_gender_pairs_values[::-1, np.newaxis],\n",
    "    yticklabels=shuffled_gender_pairs_words,\n",
    "    xticklabels=[],\n",
    "    cmap=plt.get_cmap(\"PiYG\"),\n",
    "    ax=ax3,\n",
    "    cbar=False,\n",
    "    annot=True,\n",
    "    center=0,\n",
    "    linewidths=0.5,\n",
    "    vmin=vmin,\n",
    "    vmax=vmax,\n",
    ")\n",
    "ax3.set_yticklabels(ax3.get_yticklabels(), rotation=0, fontsize=10)\n",
    "\n",
    "# f.set_tight_layout(True)\n",
    "plt.show()"
   ]
  },
  {
   "cell_type": "code",
   "execution_count": 84,
   "id": "0df216d2-6d3a-4db2-9d4b-c11f2a5d36da",
   "metadata": {},
   "outputs": [],
   "source": [
    "# save to latex\n",
    "plt.rc(\"pgf\", texsystem=\"pdflatex\")\n",
    "# fig.savefig(\"images/fig_4.pgf\", bbox_inches=\"tight\")\n",
    "fig.savefig(\"images/fig_4_same.png\", bbox_inches='tight')"
   ]
  },
  {
   "cell_type": "code",
   "execution_count": 78,
   "id": "3a23988c",
   "metadata": {},
   "outputs": [
    {
     "name": "stdout",
     "output_type": "stream",
     "text": [
      "Time taken is:  4.253480434417725\n"
     ]
    }
   ],
   "source": [
    "print(\"Time taken is: \", time.time() - start)"
   ]
  }
 ],
 "metadata": {
  "kernelspec": {
   "display_name": "Python 3 (ipykernel)",
   "language": "python",
   "name": "python3"
  },
  "language_info": {
   "codemirror_mode": {
    "name": "ipython",
    "version": 3
   },
   "file_extension": ".py",
   "mimetype": "text/x-python",
   "name": "python",
   "nbconvert_exporter": "python",
   "pygments_lexer": "ipython3",
   "version": "3.9.7"
  }
 },
 "nbformat": 4,
 "nbformat_minor": 5
}
