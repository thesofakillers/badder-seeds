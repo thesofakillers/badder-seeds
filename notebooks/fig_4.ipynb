{
 "cells": [
  {
   "cell_type": "code",
   "execution_count": 1,
   "id": "639cc4e6-3618-439c-828c-d791833e7454",
   "metadata": {},
   "outputs": [],
   "source": [
    "import os\n",
    "import time\n",
    "\n",
    "start = time.time()\n",
    "\n",
    "if os.path.isdir(\"../notebooks/\"):\n",
    "    os.chdir(\"..\")"
   ]
  },
  {
   "cell_type": "code",
   "execution_count": 2,
   "id": "fcc04878",
   "metadata": {},
   "outputs": [],
   "source": [
    "import json\n",
    "import random\n",
    "import itertools\n",
    "import collections\n",
    "%load_ext memory_profiler\n",
    "\n",
    "import numpy as np\n",
    "import pandas as pd\n",
    "import matplotlib.pyplot as plt\n",
    "import gensim.models as gm\n",
    "from tqdm import tqdm\n",
    "from gensim.models import KeyedVectors\n",
    "import seaborn as sns\n",
    "from sklearn.metrics.pairwise import cosine_similarity\n",
    "\n",
    "\n",
    "from badseeds import replicate_fig2\n",
    "from badseeds import utils, seedbank, metrics, replicate_bolukbasi, replicate_fig4\n"
   ]
  },
  {
   "cell_type": "code",
   "execution_count": 3,
   "id": "4d634052",
   "metadata": {},
   "outputs": [],
   "source": [
    "# path to config json file containing paths to datasets. change if necessary\n",
    "CONFIG_PATH = \"./config.json\""
   ]
  },
  {
   "cell_type": "code",
   "execution_count": 4,
   "id": "0b5b844d",
   "metadata": {},
   "outputs": [],
   "source": [
    "with open(CONFIG_PATH, \"r\") as f:\n",
    "    config = json.load(f)"
   ]
  },
  {
   "cell_type": "code",
   "execution_count": 5,
   "id": "467517a5-242b-4cc5-a6c8-ad45a6a8519b",
   "metadata": {},
   "outputs": [],
   "source": [
    "import numpy as np\n",
    "import matplotlib.pyplot as plt\n",
    "import matplotlib\n",
    "import seaborn as sns\n",
    "\n",
    "plt.rcParams[\"font.family\"] = \"serif\""
   ]
  },
  {
   "cell_type": "code",
   "execution_count": 6,
   "id": "80fca67a",
   "metadata": {},
   "outputs": [],
   "source": [
    "# for replicability\n",
    "np.random.seed(42)\n",
    "random.seed(42)"
   ]
  },
  {
   "cell_type": "markdown",
   "id": "d4a998e2",
   "metadata": {},
   "source": [
    "## Models and Data"
   ]
  },
  {
   "cell_type": "markdown",
   "id": "9d2eafaf",
   "metadata": {},
   "source": [
    "### Models"
   ]
  },
  {
   "cell_type": "markdown",
   "id": "952c00b5",
   "metadata": {},
   "source": [
    "> Load in models"
   ]
  },
  {
   "cell_type": "code",
   "execution_count": 7,
   "id": "3368bf56",
   "metadata": {},
   "outputs": [
    {
     "name": "stdout",
     "output_type": "stream",
     "text": [
      "peak memory: 511.90 MiB, increment: 90.36 MiB\n"
     ]
    }
   ],
   "source": [
    "%%memit\n",
    "models = []\n",
    "# load google news word2vec\n",
    "# Load vectors directly from the file\n",
    "# models.append(\n",
    "#     KeyedVectors.load_word2vec_format(\n",
    "#         os.path.join(\n",
    "#             config[\"models\"][\"dir_path\"], config[\"models\"][\"google_news_subpath\"]\n",
    "#         )\n",
    "#         + \".bin\",\n",
    "#         binary=True,\n",
    "#     )\n",
    "# )\n",
    "\n",
    "# replicate fig. 3 with NYT dataset\n",
    "# get embeddings trained on NYT with min freq of 100\n",
    "\n",
    "direct = os.fsencode(\n",
    "    os.path.join(\n",
    "        config[\"models\"][\"dir_path\"], config[\"models\"][\"nyt_subpath\"][\"100\"]\n",
    "    )\n",
    ")\n",
    "\n",
    "for filename in os.listdir(direct):\n",
    "    f = os.path.join(direct, filename)\n",
    "\n",
    "    # checking if it is a file\n",
    "    if os.path.isfile(f):\n",
    "        f = os.fsdecode(f)\n",
    "        models.append(KeyedVectors.load(f))\n"
   ]
  },
  {
   "cell_type": "markdown",
   "id": "ae63994a",
   "metadata": {},
   "source": [
    "### Seeds"
   ]
  },
  {
   "cell_type": "markdown",
   "id": "0666095a",
   "metadata": {},
   "source": [
    "> Get seed pairs"
   ]
  },
  {
   "cell_type": "code",
   "execution_count": 8,
   "id": "f447e6da",
   "metadata": {},
   "outputs": [
    {
     "name": "stdout",
     "output_type": "stream",
     "text": [
      "peak memory: 515.50 MiB, increment: 2.94 MiB\n"
     ]
    }
   ],
   "source": [
    "%%memit\n",
    "# get desired seeds:\n",
    "seed = seedbank.seedbanking(config[\"seeds\"][\"dir_path\"] + \"seeds.json\", index=\"ID\")\n",
    "\n",
    "gender_seed_list = [\n",
    "    \"definitional_female-Bolukbasi_et_al_2016\",\n",
    "    \"definitional_male-Bolukbasi_et_al_2016\",\n",
    "]\n",
    "\n",
    "# lower case seeds? she didnt do it in appendix (doesnt make sense tho)\n",
    "\n",
    "seed_list = [seed.loc[seed_set]['Seeds'] for seed_set in gender_seed_list]\n",
    "seed1 = seed_list[0]\n",
    "seed2 = seed_list[1]\n",
    "\n",
    "# hard coded shuffled seeds from paper\n",
    "seed1_shuf = [\n",
    "    \"female\",\n",
    "    \"she\",\n",
    "    \"woman\",\n",
    "    \"gal\",\n",
    "    \"her\",\n",
    "    \"daughter\",\n",
    "    \"girl\",\n",
    "    \"herself\",\n",
    "    \"mother\",\n",
    "    \"mary\",\n",
    "]\n",
    "#misses seed\n",
    "seed2_shuf = [\n",
    "    \"john\",\n",
    "    \"man\",\n",
    "    \"son\",\n",
    "    \"father\",\n",
    "    \"male\",\n",
    "    \"himself\",\n",
    "    \"guy\",\n",
    "    \"he\",\n",
    "    \"his\",\n",
    "    \"boy\",\n",
    "]\n",
    "\n",
    "seed2_rnd = [\n",
    "    \"chun\",\n",
    "    \"brush\",\n",
    "    \"dictates\",\n",
    "    \"caesar\",\n",
    "    \"fewest\",\n",
    "    \"breitbart\",\n",
    "    \"rod\",\n",
    "    \"heaped\",\n",
    "    \"julianna\",\n",
    "    \"longest\",\n",
    "]\n",
    "seed1_rnd = [\n",
    "    \"negatives\",\n",
    "    \"vel\",\n",
    "    \"theirs\",\n",
    "    \"canoe\",\n",
    "    \"meet\",\n",
    "    \"bilingual\",\n",
    "    \"mor\",\n",
    "    \"facets\",\n",
    "    \"fari\",\n",
    "    \"lily\",\n",
    "]"
   ]
  },
  {
   "cell_type": "markdown",
   "id": "54bef2b0",
   "metadata": {},
   "source": [
    "### Function call"
   ]
  },
  {
   "cell_type": "code",
   "execution_count": 19,
   "id": "846e35ef",
   "metadata": {
    "scrolled": false
   },
   "outputs": [
    {
     "name": "stdout",
     "output_type": "stream",
     "text": [
      "['essential' 'want' 'suspension' 'talked' 'competitive' 'information'\n",
      " 'hero' 'bat' 'seconds' 'black']\n",
      "['derby' 'passed' 'achieve' 'discussed' 'providing' 'resulted' 'inmates'\n",
      " 'wearing' 'bid' 'rose']\n",
      "\"Key 'gal' not present\"\n",
      "\"Key 'gal' not present\"\n",
      "\"Key 'gal' not present\"\n",
      "\"Key 'gal' not present\"\n",
      "\"Key 'gal' not present\"\n",
      "\"Key 'gal' not present\"\n",
      "\"Key 'gal' not present\"\n",
      "\"Key 'gal' not present\"\n",
      "\"Key 'gal' not present\"\n",
      "\"Key 'gal' not present\"\n",
      "\"Key 'gal' not present\"\n",
      "\"Key 'gal' not present\"\n",
      "\"Key 'gal' not present\"\n",
      "\"Key 'gal' not present\"\n",
      "\"Key 'gal' not present\"\n",
      "\"Key 'gal' not present\"\n",
      "\"Key 'gal' not present\"\n",
      "\"Key 'gal' not present\"\n",
      "\"Key 'gal' not present\"\n",
      "\"Key 'gal' not present\"\n",
      "\"Key 'gal' not present\"\n",
      "\"Key 'gal' not present\"\n",
      "\"Key 'gal' not present\"\n",
      "\"Key 'gal' not present\"\n",
      "\"Key 'gal' not present\"\n",
      "\"Key 'gal' not present\"\n",
      "\"Key 'gal' not present\"\n",
      "\"Key 'gal' not present\"\n",
      "\"Key 'gal' not present\"\n",
      "\"Key 'gal' not present\"\n",
      "\"Key 'gal' not present\"\n",
      "\"Key 'gal' not present\"\n",
      "\"Key 'gal' not present\"\n",
      "\"Key 'gal' not present\"\n",
      "\"Key 'gal' not present\"\n",
      "\"Key 'gal' not present\"\n",
      "\"Key 'gal' not present\"\n",
      "\"Key 'gal' not present\"\n",
      "\"Key 'gal' not present\"\n",
      "\"Key 'gal' not present\"\n"
     ]
    }
   ],
   "source": [
    "# %%memit\n",
    "(\n",
    "    variance_ordered,\n",
    "    variance_rnd,\n",
    "    variance_inshuffle,\n",
    ") = replicate_bolukbasi.pca_seeds_model(\n",
    "    seed1, seed2, models, seed1_shuf = seed1_shuf, seed2_shuf = seed2_shuf, components=True\n",
    ")\n",
    "\n"
   ]
  },
  {
   "cell_type": "markdown",
   "id": "fcc15010",
   "metadata": {},
   "source": [
    "#### Get top 10 and bottom 10 highest ranked words, by cosine similarity"
   ]
  },
  {
   "cell_type": "code",
   "execution_count": 20,
   "id": "c794eb4c",
   "metadata": {},
   "outputs": [],
   "source": [
    "collect = collections.Counter(models[0].index_to_key)\n",
    "s = 0\n",
    "for model in models[1:]:\n",
    "    s += len(model.index_to_key)\n",
    "    collect = (collect & collections.Counter(model.index_to_key))\n",
    "\n",
    "overlap_list = list((collect).elements())\n",
    "overlap_embed = utils.get_embeddings(overlap_list, models, query_strat=\"average\")"
   ]
  },
  {
   "cell_type": "code",
   "execution_count": 21,
   "id": "80391d33",
   "metadata": {},
   "outputs": [],
   "source": [
    "vals = []\n",
    "words = []\n",
    "for var in [variance_ordered,variance_rnd,variance_inshuffle]:\n",
    "    temp = (np.mean(var, axis=0)[0])\n",
    "    cos_sim = cosine_similarity(overlap_embed, [temp]).flatten()\n",
    "    v, w = zip(*sorted(zip(list(cos_sim), overlap_list)))\n",
    "    vals.append(v[:10]+v[-10:])\n",
    "    words.append((w[:10]+w[-10:]))\n",
    "    \n",
    "gender_pairs_values, gender_pairs_words = np.asarray(vals[0]), words[0]\n",
    "random_pairs_values, random_pairs_words= np.asarray(vals[1]), words[1]\n",
    "shuffled_gender_pairs_values, shuffled_gender_pairs_words= np.asarray(vals[2]), words[2]"
   ]
  },
  {
   "cell_type": "markdown",
   "id": "31c07e83",
   "metadata": {},
   "source": [
    "## Visualization"
   ]
  },
  {
   "cell_type": "code",
   "execution_count": 22,
   "id": "1771ac10-a25f-4886-9918-a40e55908d0d",
   "metadata": {
    "scrolled": true
   },
   "outputs": [
    {
     "data": {
      "image/png": "[encoded data removed]",
      "text/plain": [
       "<Figure size 468.091x360 with 3 Axes>"
      ]
     },
     "metadata": {
      "needs_background": "light"
     },
     "output_type": "display_data"
    },
    {
     "name": "stdout",
     "output_type": "stream",
     "text": [
      "peak memory: 540.63 MiB, increment: 1.11 MiB\n"
     ]
    }
   ],
   "source": [
    "%%memit\n",
    "# plot\n",
    "fig, (ax1, ax2, ax3) = plt.subplots(1, 3)\n",
    "fig.set_size_inches(w=6.50127, h=5)\n",
    "fig.tight_layout(rect=[0, 0, 0.9, 1], pad=6)\n",
    "\n",
    "all_values = np.concatenate(\n",
    "    [gender_pairs_values, random_pairs_values, shuffled_gender_pairs_values]\n",
    ")\n",
    "vmin, vmax = np.min(all_values), np.max(all_values)\n",
    "\n",
    "ax1 = sns.heatmap(\n",
    "    gender_pairs_values[::-1, np.newaxis],\n",
    "    yticklabels=gender_pairs_words,\n",
    "    xticklabels=[],\n",
    "    cmap=plt.get_cmap(\"PiYG\"),\n",
    "    ax=ax1,\n",
    "    cbar=False,\n",
    "    annot=True,\n",
    "    center=np.zeros(1),\n",
    "    linewidths=0.5,\n",
    "    vmin=vmin,\n",
    "    vmax=vmax,\n",
    ")\n",
    "ax1.set_yticklabels(ax1.get_yticklabels(), rotation=0, fontsize=10)\n",
    "ax1.set_xlabel('gender word \\n pairs')\n",
    "\n",
    "ax2 = sns.heatmap(\n",
    "    random_pairs_values[::-1, np.newaxis],\n",
    "    yticklabels=random_pairs_words,\n",
    "    xticklabels=[],\n",
    "    cmap=plt.get_cmap(\"PiYG\"),\n",
    "    ax=ax2,\n",
    "    cbar=False,\n",
    "    annot=True,\n",
    "    center=0,\n",
    "    linewidths=0.5,\n",
    "    vmin=vmin,\n",
    "    vmax=vmax,\n",
    ")\n",
    "ax2.set_yticklabels(ax2.get_yticklabels(), rotation=0, fontsize=10)\n",
    "ax2.set_xlabel('random word \\n pairs')\n",
    "\n",
    "ax3 = sns.heatmap(\n",
    "    shuffled_gender_pairs_values[::-1, np.newaxis],\n",
    "    yticklabels=shuffled_gender_pairs_words,\n",
    "    xticklabels=[],\n",
    "    cmap=plt.get_cmap(\"PiYG\"),\n",
    "    ax=ax3,\n",
    "    cbar=False,\n",
    "    annot=True,\n",
    "    center=0,\n",
    "    linewidths=0.5,\n",
    "    vmin=vmin,\n",
    "    vmax=vmax,\n",
    ")\n",
    "ax3.set_yticklabels(ax3.get_yticklabels(), rotation=0, fontsize=10)\n",
    "ax3.set_xlabel('shuffled gender \\n word pairs')\n",
    "\n",
    "# f.set_tight_layout(True)\n",
    "plt.show()"
   ]
  },
  {
   "cell_type": "code",
   "execution_count": 23,
   "id": "0c90ee1c",
   "metadata": {},
   "outputs": [],
   "source": [
    "# save to latex\n",
    "plt.rc(\"pgf\", texsystem=\"pdflatex\")\n",
    "fig.savefig(\"images/fig_4.pdf\", bbox_inches='tight')"
   ]
  },
  {
   "cell_type": "markdown",
   "id": "3549ebf7",
   "metadata": {},
   "source": [
    "##### Optional: use top 10 components of first model and ranks them across all models"
   ]
  },
  {
   "cell_type": "code",
   "execution_count": 24,
   "id": "e53c017f",
   "metadata": {},
   "outputs": [],
   "source": [
    "vals = []\n",
    "words = []\n",
    "# for var in [variance_ordered,variance_rnd,variance_inshuffle]:\n",
    "temp = (np.mean(variance_ordered, axis=0)[0])\n",
    "cos_sim = cosine_similarity(overlap_embed, [temp]).flatten()\n",
    "v, w = zip(*sorted(zip(list(cos_sim), overlap_list)))\n",
    "vals.append(v[:10]+v[-10:])\n",
    "words.append((w[:10]+w[-10:]))\n",
    "word = ((w[:10]+w[-10:]))\n",
    "\n",
    "\n",
    "temp = (np.mean(variance_rnd, axis=0)[0])\n",
    "cos_sim = cosine_similarity(overlap_embed, [temp]).flatten()\n",
    "v, w = zip(*sorted(zip(list(cos_sim), word)))\n",
    "vals.append(v[:10]+v[-10:])\n",
    "words.append((w[:10]+w[-10:]))\n",
    "\n",
    "temp = (np.mean(variance_inshuffle, axis=0)[0])\n",
    "cos_sim = cosine_similarity(overlap_embed, [temp]).flatten()\n",
    "v, w = zip(*sorted(zip(list(cos_sim), word)))\n",
    "vals.append(v[:10]+v[-10:])\n",
    "words.append((w[:10]+w[-10:]))\n",
    "\n",
    "gender_pairs_values, gender_pairs_words = np.asarray(vals[0]), words[0]\n",
    "random_pairs_values, random_pairs_words= np.asarray(vals[1]), words[1]\n",
    "shuffled_gender_pairs_values, shuffled_gender_pairs_words= np.asarray(vals[2]), words[2]"
   ]
  },
  {
   "cell_type": "code",
   "execution_count": 25,
   "id": "3817d7ae",
   "metadata": {},
   "outputs": [
    {
     "data": {
      "image/png": "[encoded data removed]",
      "text/plain": [
       "<Figure size 50.4x360 with 1 Axes>"
      ]
     },
     "metadata": {
      "needs_background": "light"
     },
     "output_type": "display_data"
    }
   ],
   "source": [
    "fig, (ax) = plt.subplots()\n",
    "fig.set_size_inches(w=0.7, h=5)\n",
    "ax = sns.heatmap(\n",
    "    shuffled_gender_pairs_values[::-1, np.newaxis],\n",
    "    yticklabels=shuffled_gender_pairs_words,\n",
    "    xticklabels=[],\n",
    "    cmap=plt.get_cmap(\"PiYG\"),\n",
    "#     ax=ax3,\n",
    "    cbar=False,\n",
    "    annot=True,\n",
    "    center=0,\n",
    "    linewidths=0.5,\n",
    "    vmin=-0.62,\n",
    "    vmax=0.62,\n",
    ")\n",
    "ax.set_yticklabels(ax.get_yticklabels(), rotation=0, fontsize=10)\n",
    "ax.set_xlabel('shuffled gender \\n word pairs')\n",
    "plt.show()"
   ]
  },
  {
   "cell_type": "code",
   "execution_count": 26,
   "id": "0df216d2-6d3a-4db2-9d4b-c11f2a5d36da",
   "metadata": {},
   "outputs": [],
   "source": [
    "# save to latex\n",
    "plt.rc(\"pgf\", texsystem=\"pdflatex\")\n",
    "fig.savefig(\"images/fig_4_2.pdf\", bbox_inches='tight')"
   ]
  },
  {
   "cell_type": "code",
   "execution_count": 27,
   "id": "3a23988c",
   "metadata": {},
   "outputs": [
    {
     "name": "stdout",
     "output_type": "stream",
     "text": [
      "Time taken is:  375.61767959594727\n"
     ]
    }
   ],
   "source": [
    "print(\"Time taken is: \", time.time() - start)"
   ]
  }
 ],
 "metadata": {
  "kernelspec": {
   "display_name": "Python 3 (ipykernel)",
   "language": "python",
   "name": "python3"
  },
  "language_info": {
   "codemirror_mode": {
    "name": "ipython",
    "version": 3
   },
   "file_extension": ".py",
   "mimetype": "text/x-python",
   "name": "python",
   "nbconvert_exporter": "python",
   "pygments_lexer": "ipython3",
   "version": "3.9.7"
  }
 },
 "nbformat": 4,
 "nbformat_minor": 5
}
