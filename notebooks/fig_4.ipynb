{
 "cells": [
  {
   "cell_type": "code",
   "execution_count": 1,
   "id": "639cc4e6-3618-439c-828c-d791833e7454",
   "metadata": {},
   "outputs": [],
   "source": [
    "import os\n",
    "import time\n",
    "\n",
    "start = time.time()\n",
    "\n",
    "if os.path.isdir(\"../notebooks/\"):\n",
    "    os.chdir(\"..\")"
   ]
  },
  {
   "cell_type": "code",
   "execution_count": 2,
   "id": "fcc04878",
   "metadata": {},
   "outputs": [],
   "source": [
    "import json\n",
    "import random\n",
    "import itertools\n",
    "\n",
    "import numpy as np\n",
    "import pandas as pd\n",
    "import matplotlib.pyplot as plt\n",
    "import gensim.models as gm\n",
    "from tqdm import tqdm\n",
    "from gensim.models import KeyedVectors\n",
    "import seaborn as sns\n",
    "%load_ext memory_profiler\n",
    "\n",
    "from badseeds import replicate_fig2\n",
    "from badseeds import utils, seedbank, metrics, replicate_bolukbasi, replicate_fig4\n"
   ]
  },
  {
   "cell_type": "code",
   "execution_count": 3,
   "id": "4d634052",
   "metadata": {},
   "outputs": [],
   "source": [
    "# path to config json file containing paths to datasets. change if necessary\n",
    "CONFIG_PATH = \"./config.json\""
   ]
  },
  {
   "cell_type": "code",
   "execution_count": 4,
   "id": "0b5b844d",
   "metadata": {},
   "outputs": [],
   "source": [
    "with open(CONFIG_PATH, \"r\") as f:\n",
    "    config = json.load(f)"
   ]
  },
  {
   "cell_type": "code",
   "execution_count": 5,
   "id": "467517a5-242b-4cc5-a6c8-ad45a6a8519b",
   "metadata": {},
   "outputs": [],
   "source": [
    "import numpy as np\n",
    "import matplotlib.pyplot as plt\n",
    "import matplotlib\n",
    "import seaborn as sns\n",
    "\n",
    "plt.rcParams[\"font.family\"] = \"serif\""
   ]
  },
  {
   "cell_type": "code",
   "execution_count": 6,
   "id": "80fca67a",
   "metadata": {},
   "outputs": [],
   "source": [
    "# for replicability\n",
    "np.random.seed(42)\n",
    "random.seed(42)"
   ]
  },
  {
   "cell_type": "markdown",
   "id": "d4a998e2",
   "metadata": {},
   "source": [
    "## Models and Data"
   ]
  },
  {
   "cell_type": "markdown",
   "id": "9d2eafaf",
   "metadata": {},
   "source": [
    "### Models"
   ]
  },
  {
   "cell_type": "code",
   "execution_count": 7,
   "id": "3368bf56",
   "metadata": {},
   "outputs": [
    {
     "name": "stdout",
     "output_type": "stream",
     "text": [
      "peak memory: 4363.11 MiB, increment: 3940.24 MiB\n"
     ]
    }
   ],
   "source": [
    "%%memit\n",
    "models = []\n",
    "# load google news word2vec\n",
    "# Load vectors directly from the file\n",
    "models.append(\n",
    "    KeyedVectors.load_word2vec_format(\n",
    "        os.path.join(\n",
    "            config[\"models\"][\"dir_path\"], config[\"models\"][\"google_news_subpath\"]\n",
    "        )\n",
    "        + \".bin\",\n",
    "        binary=True,\n",
    "    )\n",
    ")\n",
    "\n",
    "# replicate fig. 3 with NYT dataset\n",
    "# get embeddings trained on NYT with min freq of 100\n",
    "\n",
    "# direct = os.fsencode(\n",
    "#     os.path.join(\n",
    "#         config[\"models\"][\"dir_path\"], config[\"models\"][\"nyt_subpath\"][\"100\"]\n",
    "#     )\n",
    "# )\n",
    "\n",
    "# for filename in os.listdir(direct):\n",
    "#     f = os.path.join(direct, filename)\n",
    "\n",
    "#     # checking if it is a file\n",
    "#     if os.path.isfile(f):\n",
    "#         f = os.fsdecode(f)\n",
    "#         models.append(KeyedVectors.load(f))\n"
   ]
  },
  {
   "cell_type": "markdown",
   "id": "ae63994a",
   "metadata": {},
   "source": [
    "### Seeds"
   ]
  },
  {
   "cell_type": "code",
   "execution_count": 8,
   "id": "f447e6da",
   "metadata": {},
   "outputs": [
    {
     "name": "stdout",
     "output_type": "stream",
     "text": [
      "peak memory: 4365.48 MiB, increment: 1.94 MiB\n"
     ]
    }
   ],
   "source": [
    "%%memit\n",
    "# get desired seeds:\n",
    "seed = seedbank.seedbanking(config[\"seeds\"][\"dir_path\"] + \"seeds.json\", index=\"ID\")\n",
    "\n",
    "gender_seed_list = [\n",
    "    \"definitional_female-Bolukbasi_et_al_2016\",\n",
    "    \"definitional_male-Bolukbasi_et_al_2016\",\n",
    "]\n",
    "\n",
    "# lower case seeds? she didnt do it in appendix (doesnt make sense tho)\n",
    "\n",
    "seed_list = [seed.loc[seed_set]['Seeds'] for seed_set in gender_seed_list]\n",
    "seed1 = [item for item in seed_list[0]]\n",
    "seed2 = [item for item in seed_list[1]]\n",
    "\n",
    "# hard coded shuffled seeds from paper\n",
    "seed1_shuf = [\n",
    "    \"female\",\n",
    "    \"she\",\n",
    "    \"woman\",\n",
    "    \"gal\",\n",
    "    \"her\",\n",
    "    \"daughter\",\n",
    "    \"girl\",\n",
    "    \"herself\",\n",
    "    \"mother\",\n",
    "    \"Mary\",\n",
    "]\n",
    "#misses seed\n",
    "seed2_shuf = [\n",
    "    \"John\",\n",
    "    \"man\",\n",
    "    \"son\",\n",
    "    \"father\",\n",
    "    \"male\",\n",
    "    \"himself\",\n",
    "    \"guy\",\n",
    "    \"he\",\n",
    "    \"his\",\n",
    "    \"boy\",\n",
    "]\n",
    "\n",
    "seed2_rnd = [\n",
    "    \"chun\",\n",
    "    \"brush\",\n",
    "    \"dictates\",\n",
    "    \"caesar\",\n",
    "    \"fewest\",\n",
    "    \"breitbart\",\n",
    "    \"rod\",\n",
    "    \"heaped\",\n",
    "    \"julianna\",\n",
    "    \"longest\",\n",
    "]\n",
    "seed1_rnd = [\n",
    "    \"negatives\",\n",
    "    \"vel\",\n",
    "    \"theirs\",\n",
    "    \"canoe\",\n",
    "    \"meet\",\n",
    "    \"bilingual\",\n",
    "    \"mor\",\n",
    "    \"facets\",\n",
    "    \"fari\",\n",
    "    \"lily\",\n",
    "]"
   ]
  },
  {
   "cell_type": "markdown",
   "id": "54bef2b0",
   "metadata": {},
   "source": [
    "### Function call"
   ]
  },
  {
   "cell_type": "code",
   "execution_count": 9,
   "id": "cc181e7d",
   "metadata": {},
   "outputs": [
    {
     "name": "stdout",
     "output_type": "stream",
     "text": [
      "\"Key 'breitbart' not present\"\n",
      "\"Key 'fari' not present\"\n",
      "\"Key 'breitbart' not present\"\n",
      "\"Key 'fari' not present\"\n",
      "\"Key 'breitbart' not present\"\n",
      "\"Key 'fari' not present\"\n",
      "peak memory: 4366.57 MiB, increment: 1.09 MiB\n"
     ]
    }
   ],
   "source": [
    "%%memit\n",
    "(\n",
    "    variance_ordered,\n",
    "    variance_rnd,\n",
    "    variance_inshuffle,\n",
    ") = replicate_bolukbasi.pca_seeds_model(\n",
    "    seed1, seed2, models, seed1_shuf, seed2_shuf, seed1_rnd, seed2_rnd, components=True\n",
    ")\n",
    "\n",
    "\n",
    "\n",
    "\n",
    "gender_pairs_words = [\n",
    "    \"herself\",\n",
    "    \"ms\",\n",
    "    \"her\",\n",
    "    \"she\",\n",
    "    \"pregnant\",\n",
    "    \"pitching\",\n",
    "    \"baseball\",\n",
    "    \"syndergraad\",\n",
    "    \"himself\",\n",
    "    \"his\",\n",
    "]\n",
    "\n",
    "random_pairs_words = [\n",
    "    \"likelihood\",\n",
    "    \"eurozone\",\n",
    "    \"incentive\",\n",
    "    \"downturn\",\n",
    "    \"setback\",\n",
    "    \"photographed\",\n",
    "    \"tales\" \"hood\",\n",
    "    \"gracia\",\n",
    "    \"danced\",\n",
    "]\n",
    "\n",
    "shuffled_gender_pairs_words = [\n",
    "    \"outcomes\",\n",
    "    \"son\",\n",
    "    \"father\",\n",
    "    \"mother\",\n",
    "    \"aunt\",\n",
    "    \"potentially\",\n",
    "    \"male\",\n",
    "    \"hood\",\n",
    "    \"garcia\",\n",
    "    \"md\",\n",
    "]\n",
    "\n",
    "embed_a = utils.get_embeddings(gender_pairs_words, models, query_strat=\"average\")\n",
    "embed_b = utils.get_embeddings(random_pairs_words, models, query_strat=\"average\")\n",
    "embed_c = utils.get_embeddings(shuffled_gender_pairs_words, models, query_strat=\"average\")\n",
    "\n",
    "\n",
    "\n",
    "similarity = replicate_fig4.figure_4(\n",
    "    variance_ordered, variance_rnd, variance_inshuffle, [embed_a, embed_b, embed_c]\n",
    ")\n",
    "\n",
    "gender_pairs_values, gender_pairs_words = zip(*sorted(zip(similarity[0], gender_pairs_words)))\n",
    "random_pairs_values, random_pairs_words = zip(*sorted(zip(similarity[1], random_pairs_words)))\n",
    "shuffled_gender_pairs_values, shuffled_gender_pairs_words = zip(*sorted(zip(similarity[2], shuffled_gender_pairs_words)))\n",
    "\n",
    "\n",
    "gender_pairs_values = np.asarray(gender_pairs_values)\n",
    "random_pairs_values = np.asarray(random_pairs_values)\n",
    "shuffled_gender_pairs_values = np.asarray(shuffled_gender_pairs_values)"
   ]
  },
  {
   "cell_type": "markdown",
   "id": "ea85ae8e",
   "metadata": {},
   "source": [
    "### Results"
   ]
  },
  {
   "cell_type": "code",
   "execution_count": 10,
   "id": "7d130193",
   "metadata": {},
   "outputs": [
    {
     "name": "stdout",
     "output_type": "stream",
     "text": [
      "[-0.24848619 -0.18886984 -0.15877092 -0.14988211 -0.01031006 -0.00227603\n",
      "  0.0615576   0.06684769  0.20831149] \n",
      " ('she', 'pregnant', 'her', 'herself', 'ms', 'baseball', 'pitching', 'syndergraad', 'himself') \n",
      "\n",
      "[-0.05516514  0.01395331  0.04913758  0.05149749  0.05356309  0.06345619\n",
      "  0.07213248] \n",
      " ('taleshood', 'eurozone', 'photographed', 'incentive', 'setback', 'downturn', 'likelihood') \n",
      "\n",
      "[-0.35281729 -0.33551498 -0.21511198 -0.20075785 -0.02319645  0.04554746\n",
      "  0.04738369  0.05119224  0.0894946   0.40258539] \n",
      " ('mother', 'aunt', 'father', 'son', 'garcia', 'hood', 'md', 'outcomes', 'potentially', 'male') \n",
      "\n"
     ]
    }
   ],
   "source": [
    "print(gender_pairs_values, \"\\n\",gender_pairs_words, \"\\n\")\n",
    "print(random_pairs_values, \"\\n\", random_pairs_words, \"\\n\")\n",
    "print(shuffled_gender_pairs_values, \"\\n\", shuffled_gender_pairs_words, \"\\n\")"
   ]
  },
  {
   "cell_type": "code",
   "execution_count": 11,
   "id": "1771ac10-a25f-4886-9918-a40e55908d0d",
   "metadata": {},
   "outputs": [
    {
     "data": {
      "image/png": "[encoded data removed]",
      "text/plain": [
       "<Figure size 468.091x360 with 3 Axes>"
      ]
     },
     "metadata": {
      "needs_background": "light"
     },
     "output_type": "display_data"
    },
    {
     "name": "stdout",
     "output_type": "stream",
     "text": [
      "peak memory: 4363.11 MiB, increment: 2.90 MiB\n"
     ]
    }
   ],
   "source": [
    "%%memit\n",
    "# plot\n",
    "fig, (ax1, ax2, ax3) = plt.subplots(1, 3)\n",
    "fig.set_size_inches(w=6.50127, h=5)\n",
    "fig.tight_layout(rect=[0, 0, 0.9, 1], pad=6)\n",
    "\n",
    "all_values = np.concatenate(\n",
    "    [gender_pairs_values, random_pairs_values, shuffled_gender_pairs_values]\n",
    ")\n",
    "vmin, vmax = np.min(all_values), np.max(all_values)\n",
    "\n",
    "ax1 = sns.heatmap(\n",
    "    gender_pairs_values[::-1, np.newaxis],\n",
    "    yticklabels=gender_pairs_words,\n",
    "    xticklabels=[],\n",
    "    cmap=plt.get_cmap(\"PiYG\"),\n",
    "    ax=ax1,\n",
    "    cbar=False,\n",
    "    annot=True,\n",
    "    center=np.zeros(1),\n",
    "    linewidths=0.5,\n",
    "    vmin=vmin,\n",
    "    vmax=vmax,\n",
    ")\n",
    "ax1.set_yticklabels(ax1.get_yticklabels(), rotation=0, fontsize=10)\n",
    "\n",
    "\n",
    "ax2 = sns.heatmap(\n",
    "    random_pairs_values[::-1, np.newaxis],\n",
    "    yticklabels=random_pairs_words,\n",
    "    xticklabels=[],\n",
    "    cmap=plt.get_cmap(\"PiYG\"),\n",
    "    ax=ax2,\n",
    "    cbar=False,\n",
    "    annot=True,\n",
    "    center=0,\n",
    "    linewidths=0.5,\n",
    "    vmin=vmin,\n",
    "    vmax=vmax,\n",
    ")\n",
    "ax2.set_yticklabels(ax2.get_yticklabels(), rotation=0, fontsize=10)\n",
    "\n",
    "ax3 = sns.heatmap(\n",
    "    shuffled_gender_pairs_values[::-1, np.newaxis],\n",
    "    yticklabels=shuffled_gender_pairs_words,\n",
    "    xticklabels=[],\n",
    "    cmap=plt.get_cmap(\"PiYG\"),\n",
    "    ax=ax3,\n",
    "    cbar=False,\n",
    "    annot=True,\n",
    "    center=0,\n",
    "    linewidths=0.5,\n",
    "    vmin=vmin,\n",
    "    vmax=vmax,\n",
    ")\n",
    "ax3.set_yticklabels(ax3.get_yticklabels(), rotation=0, fontsize=10)\n",
    "\n",
    "# f.set_tight_layout(True)\n",
    "plt.show()"
   ]
  },
  {
   "cell_type": "code",
   "execution_count": 12,
   "id": "0df216d2-6d3a-4db2-9d4b-c11f2a5d36da",
   "metadata": {},
   "outputs": [],
   "source": [
    "# # save to latex\n",
    "# plt.rc(\"pgf\", texsystem=\"pdflatex\")\n",
    "# fig.savefig(\"images/fig_4.pgf\", bbox_inches=\"tight\")"
   ]
  },
  {
   "cell_type": "code",
   "execution_count": 13,
   "id": "3a23988c",
   "metadata": {},
   "outputs": [
    {
     "name": "stdout",
     "output_type": "stream",
     "text": [
      "Time taken is:  22.076664686203003\n"
     ]
    }
   ],
   "source": [
    "print(\"Time taken is: \", time.time() - start)"
   ]
  }
 ],
 "metadata": {
  "kernelspec": {
   "display_name": "Python 3 (ipykernel)",
   "language": "python",
   "name": "python3"
  },
  "language_info": {
   "codemirror_mode": {
    "name": "ipython",
    "version": 3
   },
   "file_extension": ".py",
   "mimetype": "text/x-python",
   "name": "python",
   "nbconvert_exporter": "python",
   "pygments_lexer": "ipython3",
   "version": "3.9.5"
  }
 },
 "nbformat": 4,
 "nbformat_minor": 5
}
