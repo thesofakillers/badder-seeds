{
 "cells": [
  {
   "cell_type": "code",
   "execution_count": null,
   "id": "467517a5-242b-4cc5-a6c8-ad45a6a8519b",
   "metadata": {},
   "outputs": [],
   "source": [
    "import numpy as np\n",
    "import matplotlib.pyplot as plt\n",
    "import matplotlib\n",
    "import seaborn as sns\n",
    "\n",
    "plt.rcParams[\"font.family\"] = \"serif\""
   ]
  },
  {
   "cell_type": "code",
   "execution_count": null,
   "id": "cfea2ba7-42df-48ae-bacd-d11dbacc5178",
   "metadata": {},
   "outputs": [],
   "source": [
    "# mock data\n",
    "from urllib.request import Request, urlopen\n",
    "import random\n",
    "\n",
    "url = \"https://svnweb.freebsd.org/csrg/share/dict/words?revision=61569&view=co\"\n",
    "req = Request(url, headers={\"User-Agent\": \"Mozilla/5.0\"})\n",
    "\n",
    "web_byte = urlopen(req).read()\n",
    "\n",
    "webpage = web_byte.decode(\"utf-8\")\n",
    "random_30_words = random.choices(webpage.split(\"\\n\"), k=30)"
   ]
  },
  {
   "cell_type": "code",
   "execution_count": null,
   "id": "2c51d8d8-9105-4b34-8010-36cb816e732c",
   "metadata": {},
   "outputs": [],
   "source": [
    "gender_pairs_words = random_30_words[:10]\n",
    "gender_pairs_values = np.sort(np.random.randn(10))\n",
    "\n",
    "random_pairs_words = random_30_words[10:20]\n",
    "random_pairs_values = np.sort(np.random.randn(10))\n",
    "\n",
    "shuffled_gender_pairs_words = random_30_words[20:]\n",
    "shuffled_gender_pairs_values = np.sort(np.random.randn(10))"
   ]
  },
  {
   "cell_type": "code",
   "execution_count": null,
   "id": "1771ac10-a25f-4886-9918-a40e55908d0d",
   "metadata": {},
   "outputs": [],
   "source": [
    "# plot\n",
    "fig, (ax1, ax2, ax3) = plt.subplots(1, 3)\n",
    "fig.set_size_inches(w=6.50127, h=5)\n",
    "fig.tight_layout(rect=[0, 0, 0.9, 1], pad=6)\n",
    "\n",
    "all_values = np.concatenate(\n",
    "    [gender_pairs_values, random_pairs_values, shuffled_gender_pairs_values]\n",
    ")\n",
    "vmin, vmax = np.min(all_values), np.max(all_values)\n",
    "\n",
    "ax1 = sns.heatmap(\n",
    "    gender_pairs_values[::-1, np.newaxis],\n",
    "    yticklabels=gender_pairs_words,\n",
    "    xticklabels=[],\n",
    "    cmap=plt.get_cmap(\"PiYG\"),\n",
    "    ax=ax1,\n",
    "    cbar=False,\n",
    "    annot=True,\n",
    "    center=0,\n",
    "    linewidths=0.5,\n",
    "    vmin=vmin,\n",
    "    vmax=vmax,\n",
    ")\n",
    "ax1.set_yticklabels(ax1.get_yticklabels(), rotation=0, fontsize=10)\n",
    "\n",
    "\n",
    "ax2 = sns.heatmap(\n",
    "    random_pairs_values[::-1, np.newaxis],\n",
    "    yticklabels=random_pairs_words,\n",
    "    xticklabels=[],\n",
    "    cmap=plt.get_cmap(\"PiYG\"),\n",
    "    ax=ax2,\n",
    "    cbar=False,\n",
    "    annot=True,\n",
    "    center=0,\n",
    "    linewidths=0.5,\n",
    "    vmin=vmin,\n",
    "    vmax=vmax,\n",
    ")\n",
    "ax2.set_yticklabels(ax2.get_yticklabels(), rotation=0, fontsize=10)\n",
    "\n",
    "ax3 = sns.heatmap(\n",
    "    shuffled_gender_pairs_values[::-1, np.newaxis],\n",
    "    yticklabels=shuffled_gender_pairs_words,\n",
    "    xticklabels=[],\n",
    "    cmap=plt.get_cmap(\"PiYG\"),\n",
    "    ax=ax3,\n",
    "    cbar=False,\n",
    "    annot=True,\n",
    "    center=0,\n",
    "    linewidths=0.5,\n",
    "    vmin=vmin,\n",
    "    vmax=vmax,\n",
    ")\n",
    "ax3.set_yticklabels(ax3.get_yticklabels(), rotation=0, fontsize=10)\n",
    "\n",
    "# f.set_tight_layout(True)\n",
    "plt.show()"
   ]
  },
  {
   "cell_type": "code",
   "execution_count": null,
   "id": "0df216d2-6d3a-4db2-9d4b-c11f2a5d36da",
   "metadata": {},
   "outputs": [],
   "source": [
    "# save to latex\n",
    "plt.rc(\"pgf\", texsystem=\"pdflatex\")\n",
    "fig.savefig(\"images/fig_4.pgf\", bbox_inches=\"tight\")"
   ]
  }
 ],
 "metadata": {
  "kernelspec": {
   "display_name": "Python 3 (ipykernel)",
   "language": "python",
   "name": "python3"
  },
  "language_info": {
   "codemirror_mode": {
    "name": "ipython",
    "version": 3
   },
   "file_extension": ".py",
   "mimetype": "text/x-python",
   "name": "python",
   "nbconvert_exporter": "python",
   "pygments_lexer": "ipython3",
   "version": "3.9.7"
  }
 },
 "nbformat": 4,
 "nbformat_minor": 5
}
