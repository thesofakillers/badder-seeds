{
 "cells": [
  {
   "cell_type": "code",
   "execution_count": 1,
   "id": "35df4a98",
   "metadata": {},
   "outputs": [],
   "source": [
    "import os\n",
    "\n",
    "if os.path.isdir(\"../notebooks/\"):\n",
    "    os.chdir(\"..\")"
   ]
  },
  {
   "cell_type": "code",
   "execution_count": 2,
   "id": "9422d1b9",
   "metadata": {},
   "outputs": [],
   "source": [
    "import json\n",
    "\n",
    "from badseeds import preprocess"
   ]
  },
  {
   "cell_type": "code",
   "execution_count": 3,
   "id": "f9a1b33c",
   "metadata": {},
   "outputs": [],
   "source": [
    "# path to config json file containing paths to datasets. change if necessary\n",
    "CONFIG_PATH = \"./config.json\""
   ]
  },
  {
   "cell_type": "code",
   "execution_count": 4,
   "id": "5ba20439",
   "metadata": {},
   "outputs": [],
   "source": [
    "with open(CONFIG_PATH, \"r\") as f:\n",
    "    config = json.load(f)"
   ]
  },
  {
   "cell_type": "code",
   "execution_count": 5,
   "id": "a4a3c6e9",
   "metadata": {},
   "outputs": [
    {
     "name": "stdout",
     "output_type": "stream",
     "text": [
      "Skipping NYT because it is already processed\n",
      "Skipping WikiText103 because it is already processed\n",
      "Skipping Goodreads romance because it is already processed\n",
      "Skipping Goodreads history_biography because it is already processed\n"
     ]
    }
   ],
   "source": [
    "preprocess.preprocess_datasets(config)"
   ]
  },
  {
   "cell_type": "code",
   "execution_count": null,
   "id": "257d11f5",
   "metadata": {},
   "outputs": [],
   "source": []
  }
 ],
 "metadata": {
  "kernelspec": {
   "display_name": "Python 3 (ipykernel)",
   "language": "python",
   "name": "python3"
  },
  "language_info": {
   "codemirror_mode": {
    "name": "ipython",
    "version": 3
   },
   "file_extension": ".py",
   "mimetype": "text/x-python",
   "name": "python",
   "nbconvert_exporter": "python",
   "pygments_lexer": "ipython3",
   "version": "3.9.5"
  }
 },
 "nbformat": 4,
 "nbformat_minor": 5
}
